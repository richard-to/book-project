{
 "cells": [
  {
   "cell_type": "markdown",
   "metadata": {},
   "source": [
    "# Dedupe publishers\n",
    "\n",
    "This notebook tries to deduplicate the publishers column"
   ]
  },
  {
   "cell_type": "code",
   "execution_count": 1,
   "metadata": {},
   "outputs": [],
   "source": [
    "import os\n",
    "\n",
    "import findspark\n",
    "findspark.init()\n",
    "\n",
    "from dotenv import load_dotenv\n",
    "import matplotlib.pyplot as plt\n",
    "from pyspark.context import SparkContext, SparkConf\n",
    "from pyspark.sql import SparkSession\n",
    "import pyspark.sql.functions as F\n",
    "from pyspark.sql.types import IntegerType, FloatType, StringType, StructField, StructType\n",
    "from pyspark_dist_explore import hist\n",
    "from pyspark.sql import types\n",
    "\n",
    "import helpers as H\n",
    "\n",
    "%matplotlib inline\n",
    "\n",
    "conf = SparkConf()\n",
    "conf.set(\"spark.driver.extraClassPath\", \"jars/scala-udf-similarity-0.0.7.jar\")\n",
    "conf.set(\"spark.jars\", \"jars/scala-udf-similarity-0.0.7.jar\")\n",
    "\n",
    "sc = SparkContext.getOrCreate(conf=conf)\n",
    "sc.setCheckpointDir(\"temp_graphframes/\")\n",
    "spark = SparkSession(sc)\n",
    "\n",
    "spark.udf.registerJavaFunction(\n",
    "    \"jaro_winkler_sim\",\n",
    "    \"uk.gov.moj.dash.linkage.JaroWinklerSimilarity\",\n",
    "    types.DoubleType(),\n",
    ")    \n",
    "spark.udf.registerJavaFunction(\n",
    "    \"Dmetaphone\", \"uk.gov.moj.dash.linkage.DoubleMetaphone\", types.StringType()\n",
    ")\n",
    "    \n",
    "load_dotenv()\n",
    "\n",
    "GOODREADS_BOOKS_PATH = os.getenv(\"GOODREADS_BOOKS_PATH\")\n",
    "SPL_INVENTORY_PATH = os.getenv(\"SPL_INVENTORY_PATH\")"
   ]
  },
  {
   "cell_type": "code",
   "execution_count": 2,
   "metadata": {},
   "outputs": [],
   "source": [
    "book_schema = StructType([\n",
    "    StructField(\"bookID\", StringType(), True),\n",
    "    StructField(\"title\", StringType(), True),\n",
    "    StructField(\"authors\", StringType(), True),\n",
    "    StructField(\"average_rating\", FloatType(), True),\n",
    "    StructField(\"isbn\", StringType(), True),\n",
    "    StructField(\"isbn13\", StringType(), True),\n",
    "    StructField(\"language_code\", StringType(), True),\n",
    "    StructField(\"num_pages\", IntegerType(), True),    \n",
    "    StructField(\"ratings_count\", IntegerType(), True),    \n",
    "    StructField(\"text_reviews_count\", IntegerType(), True),\n",
    "    StructField(\"publication_date\", StringType(), True),\n",
    "    StructField(\"publicater\", StringType(), True),            \n",
    "])\n",
    "goodreads_df = spark.read.schema(book_schema).option(\"header\", \"true\").csv(GOODREADS_BOOKS_PATH)\n",
    "# Replace publication date with a datetime\n",
    "goodreads_df = goodreads_df.withColumn(\n",
    "    \"publication_date\", \n",
    "    F.to_timestamp(goodreads_df.publication_date, \"M/d/yyyy\"),\n",
    ")\n",
    "\n",
    "spl_df = spark.read.option(\"header\", \"true\").csv(SPL_INVENTORY_PATH)"
   ]
  },
  {
   "cell_type": "code",
   "execution_count": 3,
   "metadata": {},
   "outputs": [
    {
     "name": "stdout",
     "output_type": "stream",
     "text": [
      "+-----------+--------------------------------------------------------------------------------------------------------------------------------------+\n",
      "|unique_id  |Publisher                                                                                                                             |\n",
      "+-----------+--------------------------------------------------------------------------------------------------------------------------------------+\n",
      "|25769979298| \"\"Ready track\"\"                                                                                                                      |\n",
      "|8589980192 | 107.7 cu. in. disp.\"                                                                                                                 |\n",
      "|162537     | 110                                                                                                                                  |\n",
      "|17180088828| 1746-1896. Edited by Horace C. Hovey.\"                                                                                               |\n",
      "|8590038593 | 1796-1906.\"                                                                                                                          |\n",
      "|220580     | 1852                                                                                                                                 |\n",
      "|17180151820| 1853                                                                                                                                 |\n",
      "|217153     | 1862-4; Beale's cav. brigade parole                                                                                                  |\n",
      "|8590118980 | 1865                                                                                                                                 |\n",
      "|134912     | 1883 / compiled by Betty Jane Martin Kyker Taylor.\"                                                                                  |\n",
      "|20613      | 1891.\"                                                                                                                               |\n",
      "|17180034304| 1911] To be sold at unrestricted public sale at Mendelssohn Hall [beginning January 13] The sale will be conducted by Thomas E. Kirby|\n",
      "|8590128386 | 1919.\"                                                                                                                               |\n",
      "|116456     | 1926. A special event of the Sesqui-centennial International Exposition.\"                                                            |\n",
      "|17180168193| 1936.\"                                                                                                                               |\n",
      "|44887      | 1978-August 31                                                                                                                       |\n",
      "|132963     | 1992.\"\"\"                                                                                                                             |\n",
      "|17180182541| 1997; San Francisco                                                                                                                  |\n",
      "|8590212450 | 2000                                                                                                                                 |\n",
      "|8590170826 | 2001.\"                                                                                                                               |\n",
      "+-----------+--------------------------------------------------------------------------------------------------------------------------------------+\n",
      "only showing top 20 rows\n",
      "\n"
     ]
    }
   ],
   "source": [
    "spl_pub_df = (\n",
    "    spl_df\n",
    "    .select(\n",
    "        F.monotonically_increasing_id().alias(\"unique_id\"),\n",
    "        spl_df.Publisher,\n",
    "    )\n",
    "    .filter(spl_df.Publisher.isNotNull())\n",
    "    .drop_duplicates([\"Publisher\"])\n",
    "    .sort(spl_df.Publisher)\n",
    ")\n",
    "spl_pub_df.show(20, False)"
   ]
  },
  {
   "cell_type": "code",
   "execution_count": 4,
   "metadata": {},
   "outputs": [
    {
     "name": "stdout",
     "output_type": "stream",
     "text": [
      "+-----------+----------------------------------------------------------------------------------------------+\n",
      "|unique_id  |Publisher                                                                                     |\n",
      "+-----------+----------------------------------------------------------------------------------------------+\n",
      "|25770057374| Sylvie Blum.\"                                                                                |\n",
      "|38070      |Austro Mechana Historic Recordings,                                                           |\n",
      "|154445     |Book Division, Fairchild Publications,                                                        |\n",
      "|4890       |Daemon Records,                                                                               |\n",
      "|8589940706 |Editorial LIBSA,                                                                              |\n",
      "|8590045755 |Educational Department, League of Nations Assoc., Inc.,                                       |\n",
      "|8590216420 |G.C. Mohr,                                                                                    |\n",
      "|1138       |Harlequin,                                                                                    |\n",
      "|8590035726 |Izd Ė,                                                                                        |\n",
      "|8590094225 |MHZ Networks Home Entertainment,|                                                             |\n",
      "|126115     |National Civil Aviation Review Commission,                                                    |\n",
      "|336210     |North Point Press, a division of Farrar, Straus and Giroux,                                   |\n",
      "|33820      |Running,                                                                                      |\n",
      "|8590157533 |Sasquatch Pub.,                                                                               |\n",
      "|287021     |Scholastic ; Twentieth Century Fox Home Entertainment,                                        |\n",
      "|17180021139|Shanghai ren min chu ban she : Xin hua shu dian Shanghai fa xing suo jing xiao,               |\n",
      "|251081     |Société historique de Saint-Nicolas et Bernières,                                             |\n",
      "|12094      |TOON Books, an imprint of RAW Junior, LLC : Distributed to the trade by Consortium Book Sales,|\n",
      "|25770047815|The Command ; For sale by the U.S. G.P.O., Supt. of Docs.,                                    |\n",
      "|17180059294|Thomas Y. Crowell Company                                                                     |\n",
      "+-----------+----------------------------------------------------------------------------------------------+\n",
      "\n"
     ]
    }
   ],
   "source": [
    "pub_count = spl_pub_df.count()\n",
    "spl_pub_df.sample(False, fraction=1.0 * 20 / pub_count).limit(20).show(20, False)"
   ]
  },
  {
   "cell_type": "code",
   "execution_count": 5,
   "metadata": {},
   "outputs": [
    {
     "data": {
      "text/plain": [
       "96894"
      ]
     },
     "execution_count": 5,
     "metadata": {},
     "output_type": "execute_result"
    }
   ],
   "source": [
    "spl_pub_df.count()"
   ]
  },
  {
   "cell_type": "code",
   "execution_count": 6,
   "metadata": {},
   "outputs": [],
   "source": [
    "from splink import Splink"
   ]
  },
  {
   "cell_type": "code",
   "execution_count": 7,
   "metadata": {},
   "outputs": [],
   "source": [
    "settings = {\n",
    "    \"link_type\": \"dedupe_only\",\n",
    "    \"blocking_rules\": [],\n",
    "    \"comparison_columns\": [\n",
    "        {\n",
    "            \"col_name\": \"Publisher\",\n",
    "            \"term_frequency_adjustments\": True,\n",
    "        },\n",
    "    ],\n",
    "}\n",
    "\n",
    "# linker = Splink(settings, spark=spark, df_or_dfs=spl_pub_df)\n",
    "# df_e = linker.get_scored_comparisons()"
   ]
  },
  {
   "cell_type": "code",
   "execution_count": null,
   "metadata": {},
   "outputs": [],
   "source": []
  }
 ],
 "metadata": {
  "kernelspec": {
   "display_name": "Python 3",
   "language": "python",
   "name": "python3"
  },
  "language_info": {
   "codemirror_mode": {
    "name": "ipython",
    "version": 3
   },
   "file_extension": ".py",
   "mimetype": "text/x-python",
   "name": "python",
   "nbconvert_exporter": "python",
   "pygments_lexer": "ipython3",
   "version": "3.7.4"
  }
 },
 "nbformat": 4,
 "nbformat_minor": 2
}
