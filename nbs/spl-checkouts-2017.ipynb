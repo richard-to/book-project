{
 "metadata": {
  "language_info": {
   "codemirror_mode": {
    "name": "ipython",
    "version": 3
   },
   "file_extension": ".py",
   "mimetype": "text/x-python",
   "name": "python",
   "nbconvert_exporter": "python",
   "pygments_lexer": "ipython3",
   "version": "3.7.4-final"
  },
  "orig_nbformat": 2,
  "kernelspec": {
   "name": "python3",
   "display_name": "Python 3",
   "language": "python"
  }
 },
 "nbformat": 4,
 "nbformat_minor": 2,
 "cells": [
  {
   "source": [
    "# Seattle Public Library (SPL) data analysis (checkouts 2017)\n",
    "\n",
    "This notebook performs some exploratory analysis on the [Seattle Public Library Checkout Records dataset](https://www.kaggle.com/seattle-public-library/seattle-library-checkout-records) found on Kaggle.\n",
    "\n",
    "This notebook will be exploring the checkouts file for 2017."
   ],
   "cell_type": "markdown",
   "metadata": {}
  },
  {
   "source": [
    "## Set up and load data"
   ],
   "cell_type": "markdown",
   "metadata": {}
  },
  {
   "cell_type": "code",
   "execution_count": 1,
   "metadata": {},
   "outputs": [],
   "source": [
    "import os\n",
    "\n",
    "import findspark\n",
    "findspark.init()\n",
    "\n",
    "from dotenv import load_dotenv\n",
    "import matplotlib.pyplot as plt\n",
    "from pyspark.sql import SparkSession\n",
    "import pyspark.sql.functions as F\n",
    "from pyspark.sql.types import IntegerType, FloatType, StringType, StructField, StructType\n",
    "from pyspark_dist_explore import hist\n",
    "\n",
    "import helpers as H\n",
    " \n",
    "%matplotlib inline\n",
    "\n",
    "spark = SparkSession.builder.appName(\"ExploreSplCheckouts\").getOrCreate()"
   ]
  },
  {
   "cell_type": "code",
   "execution_count": 2,
   "metadata": {},
   "outputs": [],
   "source": [
    "load_dotenv()\n",
    "\n",
    "SPL_CHECKOUTS_2017_PATH = os.getenv(\"SPL_CHECKOUTS_2017_PATH\")"
   ]
  },
  {
   "cell_type": "code",
   "execution_count": 7,
   "metadata": {},
   "outputs": [],
   "source": [
    "spl_df = spark.read.option(\"header\", \"true\").csv(SPL_CHECKOUTS_2017_PATH)\n",
    "\n",
    "# Add a column that stores checkout date time as a datetime object\n",
    "spl_df = spl_df.withColumn(\n",
    "    \"CheckoutDateTime\", \n",
    "    F.to_timestamp(spl_df.CheckoutDateTime, \"MM/dd/yyyy H:m:s a\"),\n",
    ")"
   ]
  },
  {
   "source": [
    "## Inspect table"
   ],
   "cell_type": "markdown",
   "metadata": {}
  },
  {
   "cell_type": "code",
   "execution_count": 8,
   "metadata": {},
   "outputs": [
    {
     "output_type": "execute_result",
     "data": {
      "text/plain": [
       "  BibNumber    ItemBarcode ItemType Collection                 CallNumber  \\\n",
       "0   2543647  0010063298235     accd       nacd       CD 782.42166 C6606So   \n",
       "1   3172300  0010087522552     acbk      namys       MYSTERY COTTERI 2016   \n",
       "2   2393405  0010054483200     acbk      camys            MYSTERY MAY2006   \n",
       "3   3199718  0010088153514    acdvd    nadvdnf  DVD 781.66092 M3347G 2013   \n",
       "4   3211526  0010089643810     accd       nacd         CD 782.42166 Sh75o   \n",
       "\n",
       "     CheckoutDateTime  \n",
       "0 2017-01-02 08:13:00  \n",
       "1 2017-01-02 08:13:00  \n",
       "2 2017-01-02 08:24:00  \n",
       "3 2017-01-02 08:33:00  \n",
       "4 2017-01-02 08:33:00  "
      ],
      "text/html": "<div>\n<style scoped>\n    .dataframe tbody tr th:only-of-type {\n        vertical-align: middle;\n    }\n\n    .dataframe tbody tr th {\n        vertical-align: top;\n    }\n\n    .dataframe thead th {\n        text-align: right;\n    }\n</style>\n<table border=\"1\" class=\"dataframe\">\n  <thead>\n    <tr style=\"text-align: right;\">\n      <th></th>\n      <th>BibNumber</th>\n      <th>ItemBarcode</th>\n      <th>ItemType</th>\n      <th>Collection</th>\n      <th>CallNumber</th>\n      <th>CheckoutDateTime</th>\n    </tr>\n  </thead>\n  <tbody>\n    <tr>\n      <td>0</td>\n      <td>2543647</td>\n      <td>0010063298235</td>\n      <td>accd</td>\n      <td>nacd</td>\n      <td>CD 782.42166 C6606So</td>\n      <td>2017-01-02 08:13:00</td>\n    </tr>\n    <tr>\n      <td>1</td>\n      <td>3172300</td>\n      <td>0010087522552</td>\n      <td>acbk</td>\n      <td>namys</td>\n      <td>MYSTERY COTTERI 2016</td>\n      <td>2017-01-02 08:13:00</td>\n    </tr>\n    <tr>\n      <td>2</td>\n      <td>2393405</td>\n      <td>0010054483200</td>\n      <td>acbk</td>\n      <td>camys</td>\n      <td>MYSTERY MAY2006</td>\n      <td>2017-01-02 08:24:00</td>\n    </tr>\n    <tr>\n      <td>3</td>\n      <td>3199718</td>\n      <td>0010088153514</td>\n      <td>acdvd</td>\n      <td>nadvdnf</td>\n      <td>DVD 781.66092 M3347G 2013</td>\n      <td>2017-01-02 08:33:00</td>\n    </tr>\n    <tr>\n      <td>4</td>\n      <td>3211526</td>\n      <td>0010089643810</td>\n      <td>accd</td>\n      <td>nacd</td>\n      <td>CD 782.42166 Sh75o</td>\n      <td>2017-01-02 08:33:00</td>\n    </tr>\n  </tbody>\n</table>\n</div>"
     },
     "metadata": {},
     "execution_count": 8
    }
   ],
   "source": [
    "spl_df.limit(5).toPandas().head()"
   ]
  },
  {
   "source": [
    "## BibNumber"
   ],
   "cell_type": "markdown",
   "metadata": {}
  },
  {
   "cell_type": "code",
   "execution_count": 9,
   "metadata": {},
   "outputs": [
    {
     "output_type": "stream",
     "name": "stdout",
     "text": [
      "+----------------+-------------------------+\n",
      "|count(BibNumber)|count(DISTINCT BibNumber)|\n",
      "+----------------+-------------------------+\n",
      "|         5034542|                   321773|\n",
      "+----------------+-------------------------+\n",
      "\n",
      "+--------------------+\n",
      "|Has Null (BibNumber)|\n",
      "+--------------------+\n",
      "|                   0|\n",
      "+--------------------+\n",
      "\n",
      "+---------------------+\n",
      "|Has Empty (BibNumber)|\n",
      "+---------------------+\n",
      "|                    0|\n",
      "+---------------------+\n",
      "\n",
      "+---------+-----------------+\n",
      "|BibNumber|length(BibNumber)|\n",
      "+---------+-----------------+\n",
      "|       33|                2|\n",
      "|       91|                2|\n",
      "|       91|                2|\n",
      "|       91|                2|\n",
      "|       91|                2|\n",
      "|       33|                2|\n",
      "|       32|                2|\n",
      "|       91|                2|\n",
      "|       91|                2|\n",
      "|       52|                2|\n",
      "+---------+-----------------+\n",
      "only showing top 10 rows\n",
      "\n",
      "+---------+-----------------+\n",
      "|BibNumber|length(BibNumber)|\n",
      "+---------+-----------------+\n",
      "|  3284835|                7|\n",
      "|  3165925|                7|\n",
      "|  3091668|                7|\n",
      "|  3285087|                7|\n",
      "|  3287164|                7|\n",
      "|  2898814|                7|\n",
      "|  3282143|                7|\n",
      "|  3255552|                7|\n",
      "|  2314786|                7|\n",
      "|  3294728|                7|\n",
      "+---------+-----------------+\n",
      "only showing top 10 rows\n",
      "\n"
     ]
    }
   ],
   "source": [
    "H.get_basic_counts(spl_df, spl_df.BibNumber)\n",
    "H.check_nulls(spl_df, spl_df.BibNumber, spl_df.ItemBarcode)\n",
    "H.check_empty_strings(spl_df, spl_df.BibNumber)\n",
    "H.check_lengths(spl_df, spl_df.BibNumber)"
   ]
  },
  {
   "source": [
    "## ItemBarcode"
   ],
   "cell_type": "markdown",
   "metadata": {}
  },
  {
   "cell_type": "code",
   "execution_count": 10,
   "metadata": {},
   "outputs": [
    {
     "output_type": "stream",
     "name": "stdout",
     "text": [
      "+------------------+---------------------------+\n",
      "|count(ItemBarcode)|count(DISTINCT ItemBarcode)|\n",
      "+------------------+---------------------------+\n",
      "|           5034542|                    1174898|\n",
      "+------------------+---------------------------+\n",
      "\n",
      "+----------------------+\n",
      "|Has Null (ItemBarcode)|\n",
      "+----------------------+\n",
      "|                     0|\n",
      "+----------------------+\n",
      "\n",
      "+-----------------------+\n",
      "|Has Empty (ItemBarcode)|\n",
      "+-----------------------+\n",
      "|                      0|\n",
      "+-----------------------+\n",
      "\n",
      "+-------------+-------------------+\n",
      "|  ItemBarcode|length(ItemBarcode)|\n",
      "+-------------+-------------------+\n",
      "|0010090566455|                 13|\n",
      "|0010087630967|                 13|\n",
      "|0010086289708|                 13|\n",
      "|0010090543561|                 13|\n",
      "|0010090248682|                 13|\n",
      "|0010080207698|                 13|\n",
      "|0010090973206|                 13|\n",
      "|0010089987431|                 13|\n",
      "|0010054337240|                 13|\n",
      "|0010090469742|                 13|\n",
      "+-------------+-------------------+\n",
      "only showing top 10 rows\n",
      "\n",
      "+-------------+-------------------+\n",
      "|  ItemBarcode|length(ItemBarcode)|\n",
      "+-------------+-------------------+\n",
      "|0010090566455|                 13|\n",
      "|0010087630967|                 13|\n",
      "|0010086289708|                 13|\n",
      "|0010090543561|                 13|\n",
      "|0010090248682|                 13|\n",
      "|0010080207698|                 13|\n",
      "|0010090973206|                 13|\n",
      "|0010089987431|                 13|\n",
      "|0010054337240|                 13|\n",
      "|0010090469742|                 13|\n",
      "+-------------+-------------------+\n",
      "only showing top 10 rows\n",
      "\n"
     ]
    }
   ],
   "source": [
    "H.get_basic_counts(spl_df, spl_df.ItemBarcode)\n",
    "H.check_nulls(spl_df, spl_df.ItemBarcode, spl_df.BibNumber)\n",
    "H.check_empty_strings(spl_df, spl_df.ItemBarcode)\n",
    "H.check_lengths(spl_df, spl_df.ItemBarcode)"
   ]
  },
  {
   "source": [
    "## ItemType"
   ],
   "cell_type": "markdown",
   "metadata": {}
  },
  {
   "cell_type": "code",
   "execution_count": 11,
   "metadata": {},
   "outputs": [
    {
     "output_type": "stream",
     "name": "stdout",
     "text": [
      "+---------------+------------------------+\n",
      "|count(ItemType)|count(DISTINCT ItemType)|\n",
      "+---------------+------------------------+\n",
      "|        5034542|                      44|\n",
      "+---------------+------------------------+\n",
      "\n",
      "+-------------------+\n",
      "|Has Null (ItemType)|\n",
      "+-------------------+\n",
      "|                  0|\n",
      "+-------------------+\n",
      "\n",
      "+--------------------+\n",
      "|Has Empty (ItemType)|\n",
      "+--------------------+\n",
      "|                   0|\n",
      "+--------------------+\n",
      "\n",
      "+--------+----------------+\n",
      "|ItemType|length(ItemType)|\n",
      "+--------+----------------+\n",
      "|    acbk|               4|\n",
      "|    acbk|               4|\n",
      "|    acbk|               4|\n",
      "|    acbk|               4|\n",
      "|    acbk|               4|\n",
      "|    accd|               4|\n",
      "|    accd|               4|\n",
      "|    acbk|               4|\n",
      "|    acbk|               4|\n",
      "|    jcbk|               4|\n",
      "+--------+----------------+\n",
      "only showing top 10 rows\n",
      "\n",
      "+--------+----------------+\n",
      "|ItemType|length(ItemType)|\n",
      "+--------+----------------+\n",
      "| alaptop|               7|\n",
      "| alaptop|               7|\n",
      "| atablet|               7|\n",
      "| alaptop|               7|\n",
      "| alaptop|               7|\n",
      "| alaptop|               7|\n",
      "| alaptop|               7|\n",
      "| atablet|               7|\n",
      "| alaptop|               7|\n",
      "| alaptop|               7|\n",
      "+--------+----------------+\n",
      "only showing top 10 rows\n",
      "\n"
     ]
    }
   ],
   "source": [
    "H.get_basic_counts(spl_df, spl_df.ItemType)\n",
    "H.check_nulls(spl_df, spl_df.ItemType, spl_df.BibNumber)\n",
    "H.check_empty_strings(spl_df, spl_df.ItemType)\n",
    "H.check_lengths(spl_df, spl_df.ItemType)"
   ]
  },
  {
   "source": [
    "## Collection"
   ],
   "cell_type": "markdown",
   "metadata": {}
  },
  {
   "cell_type": "code",
   "execution_count": 12,
   "metadata": {},
   "outputs": [
    {
     "output_type": "stream",
     "name": "stdout",
     "text": [
      "+-----------------+--------------------------+\n",
      "|count(Collection)|count(DISTINCT Collection)|\n",
      "+-----------------+--------------------------+\n",
      "|          5034542|                       193|\n",
      "+-----------------+--------------------------+\n",
      "\n",
      "+---------------------+\n",
      "|Has Null (Collection)|\n",
      "+---------------------+\n",
      "|                    0|\n",
      "+---------------------+\n",
      "\n",
      "+----------------------+\n",
      "|Has Empty (Collection)|\n",
      "+----------------------+\n",
      "|                     0|\n",
      "+----------------------+\n",
      "\n",
      "+----------+------------------+\n",
      "|Collection|length(Collection)|\n",
      "+----------+------------------+\n",
      "|       ncb|                 3|\n",
      "|       ccb|                 3|\n",
      "|       nab|                 3|\n",
      "|       ncb|                 3|\n",
      "|       ccb|                 3|\n",
      "|       ncb|                 3|\n",
      "|       nab|                 3|\n",
      "|       cab|                 3|\n",
      "|       cs8|                 3|\n",
      "|       ccb|                 3|\n",
      "+----------+------------------+\n",
      "only showing top 10 rows\n",
      "\n",
      "+----------+------------------+\n",
      "|Collection|length(Collection)|\n",
      "+----------+------------------+\n",
      "|   nacomic|                 7|\n",
      "|   naaafic|                 7|\n",
      "|   nacomic|                 7|\n",
      "|   nalpfic|                 7|\n",
      "|   nccomic|                 7|\n",
      "|   cycomic|                 7|\n",
      "|   nalndvd|                 7|\n",
      "|   nalndvd|                 7|\n",
      "|   calndvd|                 7|\n",
      "|   calndvd|                 7|\n",
      "+----------+------------------+\n",
      "only showing top 10 rows\n",
      "\n"
     ]
    }
   ],
   "source": [
    "H.get_basic_counts(spl_df, spl_df.Collection)\n",
    "H.check_nulls(spl_df, spl_df.Collection, spl_df.BibNumber)\n",
    "H.check_empty_strings(spl_df, spl_df.Collection)\n",
    "H.check_lengths(spl_df, spl_df.Collection)"
   ]
  },
  {
   "source": [
    "## CallNumber"
   ],
   "cell_type": "markdown",
   "metadata": {}
  },
  {
   "cell_type": "code",
   "execution_count": 13,
   "metadata": {},
   "outputs": [
    {
     "output_type": "stream",
     "name": "stdout",
     "text": [
      "+-----------------+--------------------------+\n",
      "|count(Collection)|count(DISTINCT Collection)|\n",
      "+-----------------+--------------------------+\n",
      "|          5034542|                       193|\n",
      "+-----------------+--------------------------+\n",
      "\n",
      "+---------------------+\n",
      "|Has Null (CallNumber)|\n",
      "+---------------------+\n",
      "|                   78|\n",
      "+---------------------+\n",
      "\n",
      "+----------------------+\n",
      "|Has Empty (CallNumber)|\n",
      "+----------------------+\n",
      "|                     0|\n",
      "+----------------------+\n",
      "\n",
      "+----------+------------------+\n",
      "|CallNumber|length(CallNumber)|\n",
      "+----------+------------------+\n",
      "|      null|              null|\n",
      "|      null|              null|\n",
      "|      null|              null|\n",
      "|      null|              null|\n",
      "|      null|              null|\n",
      "|      null|              null|\n",
      "|      null|              null|\n",
      "|      null|              null|\n",
      "|      null|              null|\n",
      "|      null|              null|\n",
      "+----------+------------------+\n",
      "only showing top 10 rows\n",
      "\n",
      "+--------------------+------------------+\n",
      "|          CallNumber|length(CallNumber)|\n",
      "+--------------------+------------------+\n",
      "|VIETNAM DVD 428.3...|                39|\n",
      "|RUSSIAN DVD 428.3...|                39|\n",
      "|VIETNAM DVD 428.3...|                39|\n",
      "|VIETNAM DVD428.34...|                38|\n",
      "|CHINESE DVD428.34...|                38|\n",
      "|SPANISH DVD428.34...|                38|\n",
      "|VIETNAM DVD428.34...|                38|\n",
      "|SPANISH DVD428.34...|                38|\n",
      "|VIETNAM DVD428.34...|                38|\n",
      "|CHINESE DVD428.34...|                38|\n",
      "+--------------------+------------------+\n",
      "only showing top 10 rows\n",
      "\n"
     ]
    }
   ],
   "source": [
    "H.get_basic_counts(spl_df, spl_df.Collection)\n",
    "H.check_nulls(spl_df, spl_df.CallNumber, spl_df.BibNumber)\n",
    "H.check_empty_strings(spl_df, spl_df.CallNumber)\n",
    "H.check_lengths(spl_df, spl_df.CallNumber)"
   ]
  },
  {
   "source": [
    "## CheckoutDateTime"
   ],
   "cell_type": "markdown",
   "metadata": {}
  },
  {
   "cell_type": "code",
   "execution_count": 14,
   "metadata": {},
   "outputs": [
    {
     "output_type": "stream",
     "name": "stdout",
     "text": [
      "+-----------------------+--------------------------------+\n",
      "|count(CheckoutDateTime)|count(DISTINCT CheckoutDateTime)|\n",
      "+-----------------------+--------------------------------+\n",
      "|                1221580|                           51218|\n",
      "+-----------------------+--------------------------------+\n",
      "\n",
      "+---------------------------+\n",
      "|Has Null (CheckoutDateTime)|\n",
      "+---------------------------+\n",
      "|                    3812962|\n",
      "+---------------------------+\n",
      "\n"
     ]
    }
   ],
   "source": [
    "H.get_basic_counts(spl_df, spl_df.CheckoutDateTime)\n",
    "H.check_nulls(spl_df, spl_df.CheckoutDateTime, spl_df.BibNumber)"
   ]
  },
  {
   "cell_type": "code",
   "execution_count": 16,
   "metadata": {},
   "outputs": [
    {
     "output_type": "display_data",
     "data": {
      "text/plain": "<Figure size 432x288 with 1 Axes>",
      "image/svg+xml": "<?xml version=\"1.0\" encoding=\"utf-8\" standalone=\"no\"?>\n<!DOCTYPE svg PUBLIC \"-//W3C//DTD SVG 1.1//EN\"\n  \"http://www.w3.org/Graphics/SVG/1.1/DTD/svg11.dtd\">\n<!-- Created with matplotlib (https://matplotlib.org/) -->\n<svg height=\"263.63625pt\" version=\"1.1\" viewBox=\"0 0 391.385937 263.63625\" width=\"391.385937pt\" xmlns=\"http://www.w3.org/2000/svg\" xmlns:xlink=\"http://www.w3.org/1999/xlink\">\n <defs>\n  <style type=\"text/css\">\n*{stroke-linecap:butt;stroke-linejoin:round;}\n  </style>\n </defs>\n <g id=\"figure_1\">\n  <g id=\"patch_1\">\n   <path d=\"M 0 263.63625 \nL 391.385937 263.63625 \nL 391.385937 0 \nL 0 0 \nz\n\" style=\"fill:none;\"/>\n  </g>\n  <g id=\"axes_1\">\n   <g id=\"patch_2\">\n    <path d=\"M 49.385938 239.758125 \nL 384.185938 239.758125 \nL 384.185938 22.318125 \nL 49.385938 22.318125 \nz\n\" style=\"fill:#ffffff;\"/>\n   </g>\n   <g id=\"patch_3\">\n    <path clip-path=\"url(#p86f01a32f3)\" d=\"M 64.604119 239.758125 \nL 89.967756 239.758125 \nL 89.967756 62.025693 \nL 64.604119 62.025693 \nz\n\" style=\"fill:#0000ff;\"/>\n   </g>\n   <g id=\"patch_4\">\n    <path clip-path=\"url(#p86f01a32f3)\" d=\"M 89.967756 239.758125 \nL 115.331392 239.758125 \nL 115.331392 70.369795 \nL 89.967756 70.369795 \nz\n\" style=\"fill:#0000ff;\"/>\n   </g>\n   <g id=\"patch_5\">\n    <path clip-path=\"url(#p86f01a32f3)\" d=\"M 115.331392 239.758125 \nL 140.695028 239.758125 \nL 140.695028 53.672873 \nL 115.331392 53.672873 \nz\n\" style=\"fill:#0000ff;\"/>\n   </g>\n   <g id=\"patch_6\">\n    <path clip-path=\"url(#p86f01a32f3)\" d=\"M 140.695028 239.758125 \nL 166.058665 239.758125 \nL 166.058665 239.758125 \nL 140.695028 239.758125 \nz\n\" style=\"fill:#0000ff;\"/>\n   </g>\n   <g id=\"patch_7\">\n    <path clip-path=\"url(#p86f01a32f3)\" d=\"M 166.058665 239.758125 \nL 191.422301 239.758125 \nL 191.422301 56.554008 \nL 166.058665 56.554008 \nz\n\" style=\"fill:#0000ff;\"/>\n   </g>\n   <g id=\"patch_8\">\n    <path clip-path=\"url(#p86f01a32f3)\" d=\"M 191.422301 239.758125 \nL 216.785938 239.758125 \nL 216.785938 61.90946 \nL 191.422301 61.90946 \nz\n\" style=\"fill:#0000ff;\"/>\n   </g>\n   <g id=\"patch_9\">\n    <path clip-path=\"url(#p86f01a32f3)\" d=\"M 216.785937 239.758125 \nL 242.149574 239.758125 \nL 242.149574 44.589236 \nL 216.785937 44.589236 \nz\n\" style=\"fill:#0000ff;\"/>\n   </g>\n   <g id=\"patch_10\">\n    <path clip-path=\"url(#p86f01a32f3)\" d=\"M 242.149574 239.758125 \nL 267.51321 239.758125 \nL 267.51321 239.758125 \nL 242.149574 239.758125 \nz\n\" style=\"fill:#0000ff;\"/>\n   </g>\n   <g id=\"patch_11\">\n    <path clip-path=\"url(#p86f01a32f3)\" d=\"M 267.51321 239.758125 \nL 292.876847 239.758125 \nL 292.876847 39.688547 \nL 267.51321 39.688547 \nz\n\" style=\"fill:#0000ff;\"/>\n   </g>\n   <g id=\"patch_12\">\n    <path clip-path=\"url(#p86f01a32f3)\" d=\"M 292.876847 239.758125 \nL 318.240483 239.758125 \nL 318.240483 32.672411 \nL 292.876847 32.672411 \nz\n\" style=\"fill:#0000ff;\"/>\n   </g>\n   <g id=\"patch_13\">\n    <path clip-path=\"url(#p86f01a32f3)\" d=\"M 318.240483 239.758125 \nL 343.604119 239.758125 \nL 343.604119 58.566298 \nL 318.240483 58.566298 \nz\n\" style=\"fill:#0000ff;\"/>\n   </g>\n   <g id=\"patch_14\">\n    <path clip-path=\"url(#p86f01a32f3)\" d=\"M 343.604119 239.758125 \nL 368.967756 239.758125 \nL 368.967756 142.678569 \nL 343.604119 142.678569 \nz\n\" style=\"fill:#0000ff;\"/>\n   </g>\n   <g id=\"matplotlib.axis_1\">\n    <g id=\"xtick_1\">\n     <g id=\"line2d_1\">\n      <defs>\n       <path d=\"M 0 0 \nL 0 3.5 \n\" id=\"mec6d3db60e\" style=\"stroke:#000000;stroke-width:0.8;\"/>\n      </defs>\n      <g>\n       <use style=\"stroke:#000000;stroke-width:0.8;\" x=\"98.422301\" xlink:href=\"#mec6d3db60e\" y=\"239.758125\"/>\n      </g>\n     </g>\n     <g id=\"text_1\">\n      <!-- 2 -->\n      <defs>\n       <path d=\"M 19.1875 8.296875 \nL 53.609375 8.296875 \nL 53.609375 0 \nL 7.328125 0 \nL 7.328125 8.296875 \nQ 12.9375 14.109375 22.625 23.890625 \nQ 32.328125 33.6875 34.8125 36.53125 \nQ 39.546875 41.84375 41.421875 45.53125 \nQ 43.3125 49.21875 43.3125 52.78125 \nQ 43.3125 58.59375 39.234375 62.25 \nQ 35.15625 65.921875 28.609375 65.921875 \nQ 23.96875 65.921875 18.8125 64.3125 \nQ 13.671875 62.703125 7.8125 59.421875 \nL 7.8125 69.390625 \nQ 13.765625 71.78125 18.9375 73 \nQ 24.125 74.21875 28.421875 74.21875 \nQ 39.75 74.21875 46.484375 68.546875 \nQ 53.21875 62.890625 53.21875 53.421875 \nQ 53.21875 48.921875 51.53125 44.890625 \nQ 49.859375 40.875 45.40625 35.40625 \nQ 44.1875 33.984375 37.640625 27.21875 \nQ 31.109375 20.453125 19.1875 8.296875 \nz\n\" id=\"DejaVuSans-50\"/>\n      </defs>\n      <g transform=\"translate(95.241051 254.356563)scale(0.1 -0.1)\">\n       <use xlink:href=\"#DejaVuSans-50\"/>\n      </g>\n     </g>\n    </g>\n    <g id=\"xtick_2\">\n     <g id=\"line2d_2\">\n      <g>\n       <use style=\"stroke:#000000;stroke-width:0.8;\" x=\"166.058665\" xlink:href=\"#mec6d3db60e\" y=\"239.758125\"/>\n      </g>\n     </g>\n     <g id=\"text_2\">\n      <!-- 4 -->\n      <defs>\n       <path d=\"M 37.796875 64.3125 \nL 12.890625 25.390625 \nL 37.796875 25.390625 \nz\nM 35.203125 72.90625 \nL 47.609375 72.90625 \nL 47.609375 25.390625 \nL 58.015625 25.390625 \nL 58.015625 17.1875 \nL 47.609375 17.1875 \nL 47.609375 0 \nL 37.796875 0 \nL 37.796875 17.1875 \nL 4.890625 17.1875 \nL 4.890625 26.703125 \nz\n\" id=\"DejaVuSans-52\"/>\n      </defs>\n      <g transform=\"translate(162.877415 254.356563)scale(0.1 -0.1)\">\n       <use xlink:href=\"#DejaVuSans-52\"/>\n      </g>\n     </g>\n    </g>\n    <g id=\"xtick_3\">\n     <g id=\"line2d_3\">\n      <g>\n       <use style=\"stroke:#000000;stroke-width:0.8;\" x=\"233.695028\" xlink:href=\"#mec6d3db60e\" y=\"239.758125\"/>\n      </g>\n     </g>\n     <g id=\"text_3\">\n      <!-- 6 -->\n      <defs>\n       <path d=\"M 33.015625 40.375 \nQ 26.375 40.375 22.484375 35.828125 \nQ 18.609375 31.296875 18.609375 23.390625 \nQ 18.609375 15.53125 22.484375 10.953125 \nQ 26.375 6.390625 33.015625 6.390625 \nQ 39.65625 6.390625 43.53125 10.953125 \nQ 47.40625 15.53125 47.40625 23.390625 \nQ 47.40625 31.296875 43.53125 35.828125 \nQ 39.65625 40.375 33.015625 40.375 \nz\nM 52.59375 71.296875 \nL 52.59375 62.3125 \nQ 48.875 64.0625 45.09375 64.984375 \nQ 41.3125 65.921875 37.59375 65.921875 \nQ 27.828125 65.921875 22.671875 59.328125 \nQ 17.53125 52.734375 16.796875 39.40625 \nQ 19.671875 43.65625 24.015625 45.921875 \nQ 28.375 48.1875 33.59375 48.1875 \nQ 44.578125 48.1875 50.953125 41.515625 \nQ 57.328125 34.859375 57.328125 23.390625 \nQ 57.328125 12.15625 50.6875 5.359375 \nQ 44.046875 -1.421875 33.015625 -1.421875 \nQ 20.359375 -1.421875 13.671875 8.265625 \nQ 6.984375 17.96875 6.984375 36.375 \nQ 6.984375 53.65625 15.1875 63.9375 \nQ 23.390625 74.21875 37.203125 74.21875 \nQ 40.921875 74.21875 44.703125 73.484375 \nQ 48.484375 72.75 52.59375 71.296875 \nz\n\" id=\"DejaVuSans-54\"/>\n      </defs>\n      <g transform=\"translate(230.513778 254.356563)scale(0.1 -0.1)\">\n       <use xlink:href=\"#DejaVuSans-54\"/>\n      </g>\n     </g>\n    </g>\n    <g id=\"xtick_4\">\n     <g id=\"line2d_4\">\n      <g>\n       <use style=\"stroke:#000000;stroke-width:0.8;\" x=\"301.331392\" xlink:href=\"#mec6d3db60e\" y=\"239.758125\"/>\n      </g>\n     </g>\n     <g id=\"text_4\">\n      <!-- 8 -->\n      <defs>\n       <path d=\"M 31.78125 34.625 \nQ 24.75 34.625 20.71875 30.859375 \nQ 16.703125 27.09375 16.703125 20.515625 \nQ 16.703125 13.921875 20.71875 10.15625 \nQ 24.75 6.390625 31.78125 6.390625 \nQ 38.8125 6.390625 42.859375 10.171875 \nQ 46.921875 13.96875 46.921875 20.515625 \nQ 46.921875 27.09375 42.890625 30.859375 \nQ 38.875 34.625 31.78125 34.625 \nz\nM 21.921875 38.8125 \nQ 15.578125 40.375 12.03125 44.71875 \nQ 8.5 49.078125 8.5 55.328125 \nQ 8.5 64.0625 14.71875 69.140625 \nQ 20.953125 74.21875 31.78125 74.21875 \nQ 42.671875 74.21875 48.875 69.140625 \nQ 55.078125 64.0625 55.078125 55.328125 \nQ 55.078125 49.078125 51.53125 44.71875 \nQ 48 40.375 41.703125 38.8125 \nQ 48.828125 37.15625 52.796875 32.3125 \nQ 56.78125 27.484375 56.78125 20.515625 \nQ 56.78125 9.90625 50.3125 4.234375 \nQ 43.84375 -1.421875 31.78125 -1.421875 \nQ 19.734375 -1.421875 13.25 4.234375 \nQ 6.78125 9.90625 6.78125 20.515625 \nQ 6.78125 27.484375 10.78125 32.3125 \nQ 14.796875 37.15625 21.921875 38.8125 \nz\nM 18.3125 54.390625 \nQ 18.3125 48.734375 21.84375 45.5625 \nQ 25.390625 42.390625 31.78125 42.390625 \nQ 38.140625 42.390625 41.71875 45.5625 \nQ 45.3125 48.734375 45.3125 54.390625 \nQ 45.3125 60.0625 41.71875 63.234375 \nQ 38.140625 66.40625 31.78125 66.40625 \nQ 25.390625 66.40625 21.84375 63.234375 \nQ 18.3125 60.0625 18.3125 54.390625 \nz\n\" id=\"DejaVuSans-56\"/>\n      </defs>\n      <g transform=\"translate(298.150142 254.356563)scale(0.1 -0.1)\">\n       <use xlink:href=\"#DejaVuSans-56\"/>\n      </g>\n     </g>\n    </g>\n    <g id=\"xtick_5\">\n     <g id=\"line2d_5\">\n      <g>\n       <use style=\"stroke:#000000;stroke-width:0.8;\" x=\"368.967756\" xlink:href=\"#mec6d3db60e\" y=\"239.758125\"/>\n      </g>\n     </g>\n     <g id=\"text_5\">\n      <!-- 10 -->\n      <defs>\n       <path d=\"M 12.40625 8.296875 \nL 28.515625 8.296875 \nL 28.515625 63.921875 \nL 10.984375 60.40625 \nL 10.984375 69.390625 \nL 28.421875 72.90625 \nL 38.28125 72.90625 \nL 38.28125 8.296875 \nL 54.390625 8.296875 \nL 54.390625 0 \nL 12.40625 0 \nz\n\" id=\"DejaVuSans-49\"/>\n       <path d=\"M 31.78125 66.40625 \nQ 24.171875 66.40625 20.328125 58.90625 \nQ 16.5 51.421875 16.5 36.375 \nQ 16.5 21.390625 20.328125 13.890625 \nQ 24.171875 6.390625 31.78125 6.390625 \nQ 39.453125 6.390625 43.28125 13.890625 \nQ 47.125 21.390625 47.125 36.375 \nQ 47.125 51.421875 43.28125 58.90625 \nQ 39.453125 66.40625 31.78125 66.40625 \nz\nM 31.78125 74.21875 \nQ 44.046875 74.21875 50.515625 64.515625 \nQ 56.984375 54.828125 56.984375 36.375 \nQ 56.984375 17.96875 50.515625 8.265625 \nQ 44.046875 -1.421875 31.78125 -1.421875 \nQ 19.53125 -1.421875 13.0625 8.265625 \nQ 6.59375 17.96875 6.59375 36.375 \nQ 6.59375 54.828125 13.0625 64.515625 \nQ 19.53125 74.21875 31.78125 74.21875 \nz\n\" id=\"DejaVuSans-48\"/>\n      </defs>\n      <g transform=\"translate(362.605256 254.356563)scale(0.1 -0.1)\">\n       <use xlink:href=\"#DejaVuSans-49\"/>\n       <use x=\"63.623047\" xlink:href=\"#DejaVuSans-48\"/>\n      </g>\n     </g>\n    </g>\n   </g>\n   <g id=\"matplotlib.axis_2\">\n    <g id=\"ytick_1\">\n     <g id=\"line2d_6\">\n      <defs>\n       <path d=\"M 0 0 \nL -3.5 0 \n\" id=\"mde4dbfa5f3\" style=\"stroke:#000000;stroke-width:0.8;\"/>\n      </defs>\n      <g>\n       <use style=\"stroke:#000000;stroke-width:0.8;\" x=\"49.385938\" xlink:href=\"#mde4dbfa5f3\" y=\"239.758125\"/>\n      </g>\n     </g>\n     <g id=\"text_6\">\n      <!-- 0 -->\n      <g transform=\"translate(36.023438 243.557344)scale(0.1 -0.1)\">\n       <use xlink:href=\"#DejaVuSans-48\"/>\n      </g>\n     </g>\n    </g>\n    <g id=\"ytick_2\">\n     <g id=\"line2d_7\">\n      <g>\n       <use style=\"stroke:#000000;stroke-width:0.8;\" x=\"49.385938\" xlink:href=\"#mde4dbfa5f3\" y=\"210.699785\"/>\n      </g>\n     </g>\n     <g id=\"text_7\">\n      <!-- 20.0K -->\n      <defs>\n       <path d=\"M 10.6875 12.40625 \nL 21 12.40625 \nL 21 0 \nL 10.6875 0 \nz\n\" id=\"DejaVuSans-46\"/>\n       <path d=\"M 9.8125 72.90625 \nL 19.671875 72.90625 \nL 19.671875 42.09375 \nL 52.390625 72.90625 \nL 65.09375 72.90625 \nL 28.90625 38.921875 \nL 67.671875 0 \nL 54.6875 0 \nL 19.671875 35.109375 \nL 19.671875 0 \nL 9.8125 0 \nz\n\" id=\"DejaVuSans-75\"/>\n      </defs>\n      <g transform=\"translate(13.5625 214.499004)scale(0.1 -0.1)\">\n       <use xlink:href=\"#DejaVuSans-50\"/>\n       <use x=\"63.623047\" xlink:href=\"#DejaVuSans-48\"/>\n       <use x=\"127.246094\" xlink:href=\"#DejaVuSans-46\"/>\n       <use x=\"159.033203\" xlink:href=\"#DejaVuSans-48\"/>\n       <use x=\"222.65625\" xlink:href=\"#DejaVuSans-75\"/>\n      </g>\n     </g>\n    </g>\n    <g id=\"ytick_3\">\n     <g id=\"line2d_8\">\n      <g>\n       <use style=\"stroke:#000000;stroke-width:0.8;\" x=\"49.385938\" xlink:href=\"#mde4dbfa5f3\" y=\"181.641445\"/>\n      </g>\n     </g>\n     <g id=\"text_8\">\n      <!-- 40.0K -->\n      <g transform=\"translate(13.5625 185.440663)scale(0.1 -0.1)\">\n       <use xlink:href=\"#DejaVuSans-52\"/>\n       <use x=\"63.623047\" xlink:href=\"#DejaVuSans-48\"/>\n       <use x=\"127.246094\" xlink:href=\"#DejaVuSans-46\"/>\n       <use x=\"159.033203\" xlink:href=\"#DejaVuSans-48\"/>\n       <use x=\"222.65625\" xlink:href=\"#DejaVuSans-75\"/>\n      </g>\n     </g>\n    </g>\n    <g id=\"ytick_4\">\n     <g id=\"line2d_9\">\n      <g>\n       <use style=\"stroke:#000000;stroke-width:0.8;\" x=\"49.385938\" xlink:href=\"#mde4dbfa5f3\" y=\"152.583104\"/>\n      </g>\n     </g>\n     <g id=\"text_9\">\n      <!-- 60.0K -->\n      <g transform=\"translate(13.5625 156.382323)scale(0.1 -0.1)\">\n       <use xlink:href=\"#DejaVuSans-54\"/>\n       <use x=\"63.623047\" xlink:href=\"#DejaVuSans-48\"/>\n       <use x=\"127.246094\" xlink:href=\"#DejaVuSans-46\"/>\n       <use x=\"159.033203\" xlink:href=\"#DejaVuSans-48\"/>\n       <use x=\"222.65625\" xlink:href=\"#DejaVuSans-75\"/>\n      </g>\n     </g>\n    </g>\n    <g id=\"ytick_5\">\n     <g id=\"line2d_10\">\n      <g>\n       <use style=\"stroke:#000000;stroke-width:0.8;\" x=\"49.385938\" xlink:href=\"#mde4dbfa5f3\" y=\"123.524764\"/>\n      </g>\n     </g>\n     <g id=\"text_10\">\n      <!-- 80.0K -->\n      <g transform=\"translate(13.5625 127.323983)scale(0.1 -0.1)\">\n       <use xlink:href=\"#DejaVuSans-56\"/>\n       <use x=\"63.623047\" xlink:href=\"#DejaVuSans-48\"/>\n       <use x=\"127.246094\" xlink:href=\"#DejaVuSans-46\"/>\n       <use x=\"159.033203\" xlink:href=\"#DejaVuSans-48\"/>\n       <use x=\"222.65625\" xlink:href=\"#DejaVuSans-75\"/>\n      </g>\n     </g>\n    </g>\n    <g id=\"ytick_6\">\n     <g id=\"line2d_11\">\n      <g>\n       <use style=\"stroke:#000000;stroke-width:0.8;\" x=\"49.385938\" xlink:href=\"#mde4dbfa5f3\" y=\"94.466424\"/>\n      </g>\n     </g>\n     <g id=\"text_11\">\n      <!-- 100.0K -->\n      <g transform=\"translate(7.2 98.265643)scale(0.1 -0.1)\">\n       <use xlink:href=\"#DejaVuSans-49\"/>\n       <use x=\"63.623047\" xlink:href=\"#DejaVuSans-48\"/>\n       <use x=\"127.246094\" xlink:href=\"#DejaVuSans-48\"/>\n       <use x=\"190.869141\" xlink:href=\"#DejaVuSans-46\"/>\n       <use x=\"222.65625\" xlink:href=\"#DejaVuSans-48\"/>\n       <use x=\"286.279297\" xlink:href=\"#DejaVuSans-75\"/>\n      </g>\n     </g>\n    </g>\n    <g id=\"ytick_7\">\n     <g id=\"line2d_12\">\n      <g>\n       <use style=\"stroke:#000000;stroke-width:0.8;\" x=\"49.385938\" xlink:href=\"#mde4dbfa5f3\" y=\"65.408084\"/>\n      </g>\n     </g>\n     <g id=\"text_12\">\n      <!-- 120.0K -->\n      <g transform=\"translate(7.2 69.207303)scale(0.1 -0.1)\">\n       <use xlink:href=\"#DejaVuSans-49\"/>\n       <use x=\"63.623047\" xlink:href=\"#DejaVuSans-50\"/>\n       <use x=\"127.246094\" xlink:href=\"#DejaVuSans-48\"/>\n       <use x=\"190.869141\" xlink:href=\"#DejaVuSans-46\"/>\n       <use x=\"222.65625\" xlink:href=\"#DejaVuSans-48\"/>\n       <use x=\"286.279297\" xlink:href=\"#DejaVuSans-75\"/>\n      </g>\n     </g>\n    </g>\n    <g id=\"ytick_8\">\n     <g id=\"line2d_13\">\n      <g>\n       <use style=\"stroke:#000000;stroke-width:0.8;\" x=\"49.385938\" xlink:href=\"#mde4dbfa5f3\" y=\"36.349744\"/>\n      </g>\n     </g>\n     <g id=\"text_13\">\n      <!-- 140.0K -->\n      <g transform=\"translate(7.2 40.148962)scale(0.1 -0.1)\">\n       <use xlink:href=\"#DejaVuSans-49\"/>\n       <use x=\"63.623047\" xlink:href=\"#DejaVuSans-52\"/>\n       <use x=\"127.246094\" xlink:href=\"#DejaVuSans-48\"/>\n       <use x=\"190.869141\" xlink:href=\"#DejaVuSans-46\"/>\n       <use x=\"222.65625\" xlink:href=\"#DejaVuSans-48\"/>\n       <use x=\"286.279297\" xlink:href=\"#DejaVuSans-75\"/>\n      </g>\n     </g>\n    </g>\n   </g>\n   <g id=\"patch_15\">\n    <path d=\"M 49.385938 239.758125 \nL 49.385938 22.318125 \n\" style=\"fill:none;stroke:#000000;stroke-linecap:square;stroke-linejoin:miter;stroke-width:0.8;\"/>\n   </g>\n   <g id=\"patch_16\">\n    <path d=\"M 384.185938 239.758125 \nL 384.185938 22.318125 \n\" style=\"fill:none;stroke:#000000;stroke-linecap:square;stroke-linejoin:miter;stroke-width:0.8;\"/>\n   </g>\n   <g id=\"patch_17\">\n    <path d=\"M 49.385937 239.758125 \nL 384.185937 239.758125 \n\" style=\"fill:none;stroke:#000000;stroke-linecap:square;stroke-linejoin:miter;stroke-width:0.8;\"/>\n   </g>\n   <g id=\"patch_18\">\n    <path d=\"M 49.385937 22.318125 \nL 384.185937 22.318125 \n\" style=\"fill:none;stroke:#000000;stroke-linecap:square;stroke-linejoin:miter;stroke-width:0.8;\"/>\n   </g>\n   <g id=\"text_14\">\n    <!-- Checkout Dates -->\n    <defs>\n     <path d=\"M 64.40625 67.28125 \nL 64.40625 56.890625 \nQ 59.421875 61.53125 53.78125 63.8125 \nQ 48.140625 66.109375 41.796875 66.109375 \nQ 29.296875 66.109375 22.65625 58.46875 \nQ 16.015625 50.828125 16.015625 36.375 \nQ 16.015625 21.96875 22.65625 14.328125 \nQ 29.296875 6.6875 41.796875 6.6875 \nQ 48.140625 6.6875 53.78125 8.984375 \nQ 59.421875 11.28125 64.40625 15.921875 \nL 64.40625 5.609375 \nQ 59.234375 2.09375 53.4375 0.328125 \nQ 47.65625 -1.421875 41.21875 -1.421875 \nQ 24.65625 -1.421875 15.125 8.703125 \nQ 5.609375 18.84375 5.609375 36.375 \nQ 5.609375 53.953125 15.125 64.078125 \nQ 24.65625 74.21875 41.21875 74.21875 \nQ 47.75 74.21875 53.53125 72.484375 \nQ 59.328125 70.75 64.40625 67.28125 \nz\n\" id=\"DejaVuSans-67\"/>\n     <path d=\"M 54.890625 33.015625 \nL 54.890625 0 \nL 45.90625 0 \nL 45.90625 32.71875 \nQ 45.90625 40.484375 42.875 44.328125 \nQ 39.84375 48.1875 33.796875 48.1875 \nQ 26.515625 48.1875 22.3125 43.546875 \nQ 18.109375 38.921875 18.109375 30.90625 \nL 18.109375 0 \nL 9.078125 0 \nL 9.078125 75.984375 \nL 18.109375 75.984375 \nL 18.109375 46.1875 \nQ 21.34375 51.125 25.703125 53.5625 \nQ 30.078125 56 35.796875 56 \nQ 45.21875 56 50.046875 50.171875 \nQ 54.890625 44.34375 54.890625 33.015625 \nz\n\" id=\"DejaVuSans-104\"/>\n     <path d=\"M 56.203125 29.59375 \nL 56.203125 25.203125 \nL 14.890625 25.203125 \nQ 15.484375 15.921875 20.484375 11.0625 \nQ 25.484375 6.203125 34.421875 6.203125 \nQ 39.59375 6.203125 44.453125 7.46875 \nQ 49.3125 8.734375 54.109375 11.28125 \nL 54.109375 2.78125 \nQ 49.265625 0.734375 44.1875 -0.34375 \nQ 39.109375 -1.421875 33.890625 -1.421875 \nQ 20.796875 -1.421875 13.15625 6.1875 \nQ 5.515625 13.8125 5.515625 26.8125 \nQ 5.515625 40.234375 12.765625 48.109375 \nQ 20.015625 56 32.328125 56 \nQ 43.359375 56 49.78125 48.890625 \nQ 56.203125 41.796875 56.203125 29.59375 \nz\nM 47.21875 32.234375 \nQ 47.125 39.59375 43.09375 43.984375 \nQ 39.0625 48.390625 32.421875 48.390625 \nQ 24.90625 48.390625 20.390625 44.140625 \nQ 15.875 39.890625 15.1875 32.171875 \nz\n\" id=\"DejaVuSans-101\"/>\n     <path d=\"M 48.78125 52.59375 \nL 48.78125 44.1875 \nQ 44.96875 46.296875 41.140625 47.34375 \nQ 37.3125 48.390625 33.40625 48.390625 \nQ 24.65625 48.390625 19.8125 42.84375 \nQ 14.984375 37.3125 14.984375 27.296875 \nQ 14.984375 17.28125 19.8125 11.734375 \nQ 24.65625 6.203125 33.40625 6.203125 \nQ 37.3125 6.203125 41.140625 7.25 \nQ 44.96875 8.296875 48.78125 10.40625 \nL 48.78125 2.09375 \nQ 45.015625 0.34375 40.984375 -0.53125 \nQ 36.96875 -1.421875 32.421875 -1.421875 \nQ 20.0625 -1.421875 12.78125 6.34375 \nQ 5.515625 14.109375 5.515625 27.296875 \nQ 5.515625 40.671875 12.859375 48.328125 \nQ 20.21875 56 33.015625 56 \nQ 37.15625 56 41.109375 55.140625 \nQ 45.0625 54.296875 48.78125 52.59375 \nz\n\" id=\"DejaVuSans-99\"/>\n     <path d=\"M 9.078125 75.984375 \nL 18.109375 75.984375 \nL 18.109375 31.109375 \nL 44.921875 54.6875 \nL 56.390625 54.6875 \nL 27.390625 29.109375 \nL 57.625 0 \nL 45.90625 0 \nL 18.109375 26.703125 \nL 18.109375 0 \nL 9.078125 0 \nz\n\" id=\"DejaVuSans-107\"/>\n     <path d=\"M 30.609375 48.390625 \nQ 23.390625 48.390625 19.1875 42.75 \nQ 14.984375 37.109375 14.984375 27.296875 \nQ 14.984375 17.484375 19.15625 11.84375 \nQ 23.34375 6.203125 30.609375 6.203125 \nQ 37.796875 6.203125 41.984375 11.859375 \nQ 46.1875 17.53125 46.1875 27.296875 \nQ 46.1875 37.015625 41.984375 42.703125 \nQ 37.796875 48.390625 30.609375 48.390625 \nz\nM 30.609375 56 \nQ 42.328125 56 49.015625 48.375 \nQ 55.71875 40.765625 55.71875 27.296875 \nQ 55.71875 13.875 49.015625 6.21875 \nQ 42.328125 -1.421875 30.609375 -1.421875 \nQ 18.84375 -1.421875 12.171875 6.21875 \nQ 5.515625 13.875 5.515625 27.296875 \nQ 5.515625 40.765625 12.171875 48.375 \nQ 18.84375 56 30.609375 56 \nz\n\" id=\"DejaVuSans-111\"/>\n     <path d=\"M 8.5 21.578125 \nL 8.5 54.6875 \nL 17.484375 54.6875 \nL 17.484375 21.921875 \nQ 17.484375 14.15625 20.5 10.265625 \nQ 23.53125 6.390625 29.59375 6.390625 \nQ 36.859375 6.390625 41.078125 11.03125 \nQ 45.3125 15.671875 45.3125 23.6875 \nL 45.3125 54.6875 \nL 54.296875 54.6875 \nL 54.296875 0 \nL 45.3125 0 \nL 45.3125 8.40625 \nQ 42.046875 3.421875 37.71875 1 \nQ 33.40625 -1.421875 27.6875 -1.421875 \nQ 18.265625 -1.421875 13.375 4.4375 \nQ 8.5 10.296875 8.5 21.578125 \nz\nM 31.109375 56 \nz\n\" id=\"DejaVuSans-117\"/>\n     <path d=\"M 18.3125 70.21875 \nL 18.3125 54.6875 \nL 36.8125 54.6875 \nL 36.8125 47.703125 \nL 18.3125 47.703125 \nL 18.3125 18.015625 \nQ 18.3125 11.328125 20.140625 9.421875 \nQ 21.96875 7.515625 27.59375 7.515625 \nL 36.8125 7.515625 \nL 36.8125 0 \nL 27.59375 0 \nQ 17.1875 0 13.234375 3.875 \nQ 9.28125 7.765625 9.28125 18.015625 \nL 9.28125 47.703125 \nL 2.6875 47.703125 \nL 2.6875 54.6875 \nL 9.28125 54.6875 \nL 9.28125 70.21875 \nz\n\" id=\"DejaVuSans-116\"/>\n     <path id=\"DejaVuSans-32\"/>\n     <path d=\"M 19.671875 64.796875 \nL 19.671875 8.109375 \nL 31.59375 8.109375 \nQ 46.6875 8.109375 53.6875 14.9375 \nQ 60.6875 21.78125 60.6875 36.53125 \nQ 60.6875 51.171875 53.6875 57.984375 \nQ 46.6875 64.796875 31.59375 64.796875 \nz\nM 9.8125 72.90625 \nL 30.078125 72.90625 \nQ 51.265625 72.90625 61.171875 64.09375 \nQ 71.09375 55.28125 71.09375 36.53125 \nQ 71.09375 17.671875 61.125 8.828125 \nQ 51.171875 0 30.078125 0 \nL 9.8125 0 \nz\n\" id=\"DejaVuSans-68\"/>\n     <path d=\"M 34.28125 27.484375 \nQ 23.390625 27.484375 19.1875 25 \nQ 14.984375 22.515625 14.984375 16.5 \nQ 14.984375 11.71875 18.140625 8.90625 \nQ 21.296875 6.109375 26.703125 6.109375 \nQ 34.1875 6.109375 38.703125 11.40625 \nQ 43.21875 16.703125 43.21875 25.484375 \nL 43.21875 27.484375 \nz\nM 52.203125 31.203125 \nL 52.203125 0 \nL 43.21875 0 \nL 43.21875 8.296875 \nQ 40.140625 3.328125 35.546875 0.953125 \nQ 30.953125 -1.421875 24.3125 -1.421875 \nQ 15.921875 -1.421875 10.953125 3.296875 \nQ 6 8.015625 6 15.921875 \nQ 6 25.140625 12.171875 29.828125 \nQ 18.359375 34.515625 30.609375 34.515625 \nL 43.21875 34.515625 \nL 43.21875 35.40625 \nQ 43.21875 41.609375 39.140625 45 \nQ 35.0625 48.390625 27.6875 48.390625 \nQ 23 48.390625 18.546875 47.265625 \nQ 14.109375 46.140625 10.015625 43.890625 \nL 10.015625 52.203125 \nQ 14.9375 54.109375 19.578125 55.046875 \nQ 24.21875 56 28.609375 56 \nQ 40.484375 56 46.34375 49.84375 \nQ 52.203125 43.703125 52.203125 31.203125 \nz\n\" id=\"DejaVuSans-97\"/>\n     <path d=\"M 44.28125 53.078125 \nL 44.28125 44.578125 \nQ 40.484375 46.53125 36.375 47.5 \nQ 32.28125 48.484375 27.875 48.484375 \nQ 21.1875 48.484375 17.84375 46.4375 \nQ 14.5 44.390625 14.5 40.28125 \nQ 14.5 37.15625 16.890625 35.375 \nQ 19.28125 33.59375 26.515625 31.984375 \nL 29.59375 31.296875 \nQ 39.15625 29.25 43.1875 25.515625 \nQ 47.21875 21.78125 47.21875 15.09375 \nQ 47.21875 7.46875 41.1875 3.015625 \nQ 35.15625 -1.421875 24.609375 -1.421875 \nQ 20.21875 -1.421875 15.453125 -0.5625 \nQ 10.6875 0.296875 5.421875 2 \nL 5.421875 11.28125 \nQ 10.40625 8.6875 15.234375 7.390625 \nQ 20.0625 6.109375 24.8125 6.109375 \nQ 31.15625 6.109375 34.5625 8.28125 \nQ 37.984375 10.453125 37.984375 14.40625 \nQ 37.984375 18.0625 35.515625 20.015625 \nQ 33.0625 21.96875 24.703125 23.78125 \nL 21.578125 24.515625 \nQ 13.234375 26.265625 9.515625 29.90625 \nQ 5.8125 33.546875 5.8125 39.890625 \nQ 5.8125 47.609375 11.28125 51.796875 \nQ 16.75 56 26.8125 56 \nQ 31.78125 56 36.171875 55.265625 \nQ 40.578125 54.546875 44.28125 53.078125 \nz\n\" id=\"DejaVuSans-115\"/>\n    </defs>\n    <g transform=\"translate(169.131875 16.318125)scale(0.12 -0.12)\">\n     <use xlink:href=\"#DejaVuSans-67\"/>\n     <use x=\"69.824219\" xlink:href=\"#DejaVuSans-104\"/>\n     <use x=\"133.203125\" xlink:href=\"#DejaVuSans-101\"/>\n     <use x=\"194.726562\" xlink:href=\"#DejaVuSans-99\"/>\n     <use x=\"249.707031\" xlink:href=\"#DejaVuSans-107\"/>\n     <use x=\"307.570312\" xlink:href=\"#DejaVuSans-111\"/>\n     <use x=\"368.751953\" xlink:href=\"#DejaVuSans-117\"/>\n     <use x=\"432.130859\" xlink:href=\"#DejaVuSans-116\"/>\n     <use x=\"471.339844\" xlink:href=\"#DejaVuSans-32\"/>\n     <use x=\"503.126953\" xlink:href=\"#DejaVuSans-68\"/>\n     <use x=\"580.128906\" xlink:href=\"#DejaVuSans-97\"/>\n     <use x=\"641.408203\" xlink:href=\"#DejaVuSans-116\"/>\n     <use x=\"680.617188\" xlink:href=\"#DejaVuSans-101\"/>\n     <use x=\"742.140625\" xlink:href=\"#DejaVuSans-115\"/>\n    </g>\n   </g>\n   <g id=\"legend_1\">\n    <g id=\"patch_19\">\n     <path d=\"M 56.385938 44.99625 \nL 224.454688 44.99625 \nQ 226.454688 44.99625 226.454688 42.99625 \nL 226.454688 29.318125 \nQ 226.454688 27.318125 224.454688 27.318125 \nL 56.385938 27.318125 \nQ 54.385938 27.318125 54.385938 29.318125 \nL 54.385938 42.99625 \nQ 54.385938 44.99625 56.385938 44.99625 \nz\n\" style=\"fill:#ffffff;opacity:0.8;stroke:#cccccc;stroke-linejoin:miter;\"/>\n    </g>\n    <g id=\"patch_20\">\n     <path d=\"M 58.385938 38.916562 \nL 78.385938 38.916562 \nL 78.385938 31.916562 \nL 58.385938 31.916562 \nz\n\" style=\"fill:#0000ff;\"/>\n    </g>\n    <g id=\"text_15\">\n     <!-- month(CheckoutDateTime) -->\n     <defs>\n      <path d=\"M 52 44.1875 \nQ 55.375 50.25 60.0625 53.125 \nQ 64.75 56 71.09375 56 \nQ 79.640625 56 84.28125 50.015625 \nQ 88.921875 44.046875 88.921875 33.015625 \nL 88.921875 0 \nL 79.890625 0 \nL 79.890625 32.71875 \nQ 79.890625 40.578125 77.09375 44.375 \nQ 74.3125 48.1875 68.609375 48.1875 \nQ 61.625 48.1875 57.5625 43.546875 \nQ 53.515625 38.921875 53.515625 30.90625 \nL 53.515625 0 \nL 44.484375 0 \nL 44.484375 32.71875 \nQ 44.484375 40.625 41.703125 44.40625 \nQ 38.921875 48.1875 33.109375 48.1875 \nQ 26.21875 48.1875 22.15625 43.53125 \nQ 18.109375 38.875 18.109375 30.90625 \nL 18.109375 0 \nL 9.078125 0 \nL 9.078125 54.6875 \nL 18.109375 54.6875 \nL 18.109375 46.1875 \nQ 21.1875 51.21875 25.484375 53.609375 \nQ 29.78125 56 35.6875 56 \nQ 41.65625 56 45.828125 52.96875 \nQ 50 49.953125 52 44.1875 \nz\n\" id=\"DejaVuSans-109\"/>\n      <path d=\"M 54.890625 33.015625 \nL 54.890625 0 \nL 45.90625 0 \nL 45.90625 32.71875 \nQ 45.90625 40.484375 42.875 44.328125 \nQ 39.84375 48.1875 33.796875 48.1875 \nQ 26.515625 48.1875 22.3125 43.546875 \nQ 18.109375 38.921875 18.109375 30.90625 \nL 18.109375 0 \nL 9.078125 0 \nL 9.078125 54.6875 \nL 18.109375 54.6875 \nL 18.109375 46.1875 \nQ 21.34375 51.125 25.703125 53.5625 \nQ 30.078125 56 35.796875 56 \nQ 45.21875 56 50.046875 50.171875 \nQ 54.890625 44.34375 54.890625 33.015625 \nz\n\" id=\"DejaVuSans-110\"/>\n      <path d=\"M 31 75.875 \nQ 24.46875 64.65625 21.28125 53.65625 \nQ 18.109375 42.671875 18.109375 31.390625 \nQ 18.109375 20.125 21.3125 9.0625 \nQ 24.515625 -2 31 -13.1875 \nL 23.1875 -13.1875 \nQ 15.875 -1.703125 12.234375 9.375 \nQ 8.59375 20.453125 8.59375 31.390625 \nQ 8.59375 42.28125 12.203125 53.3125 \nQ 15.828125 64.359375 23.1875 75.875 \nz\n\" id=\"DejaVuSans-40\"/>\n      <path d=\"M -0.296875 72.90625 \nL 61.375 72.90625 \nL 61.375 64.59375 \nL 35.5 64.59375 \nL 35.5 0 \nL 25.59375 0 \nL 25.59375 64.59375 \nL -0.296875 64.59375 \nz\n\" id=\"DejaVuSans-84\"/>\n      <path d=\"M 9.421875 54.6875 \nL 18.40625 54.6875 \nL 18.40625 0 \nL 9.421875 0 \nz\nM 9.421875 75.984375 \nL 18.40625 75.984375 \nL 18.40625 64.59375 \nL 9.421875 64.59375 \nz\n\" id=\"DejaVuSans-105\"/>\n      <path d=\"M 8.015625 75.875 \nL 15.828125 75.875 \nQ 23.140625 64.359375 26.78125 53.3125 \nQ 30.421875 42.28125 30.421875 31.390625 \nQ 30.421875 20.453125 26.78125 9.375 \nQ 23.140625 -1.703125 15.828125 -13.1875 \nL 8.015625 -13.1875 \nQ 14.5 -2 17.703125 9.0625 \nQ 20.90625 20.125 20.90625 31.390625 \nQ 20.90625 42.671875 17.703125 53.65625 \nQ 14.5 64.65625 8.015625 75.875 \nz\n\" id=\"DejaVuSans-41\"/>\n     </defs>\n     <g transform=\"translate(86.385938 38.916562)scale(0.1 -0.1)\">\n      <use xlink:href=\"#DejaVuSans-109\"/>\n      <use x=\"97.412109\" xlink:href=\"#DejaVuSans-111\"/>\n      <use x=\"158.59375\" xlink:href=\"#DejaVuSans-110\"/>\n      <use x=\"221.972656\" xlink:href=\"#DejaVuSans-116\"/>\n      <use x=\"261.181641\" xlink:href=\"#DejaVuSans-104\"/>\n      <use x=\"324.560547\" xlink:href=\"#DejaVuSans-40\"/>\n      <use x=\"363.574219\" xlink:href=\"#DejaVuSans-67\"/>\n      <use x=\"433.398438\" xlink:href=\"#DejaVuSans-104\"/>\n      <use x=\"496.777344\" xlink:href=\"#DejaVuSans-101\"/>\n      <use x=\"558.300781\" xlink:href=\"#DejaVuSans-99\"/>\n      <use x=\"613.28125\" xlink:href=\"#DejaVuSans-107\"/>\n      <use x=\"671.144531\" xlink:href=\"#DejaVuSans-111\"/>\n      <use x=\"732.326172\" xlink:href=\"#DejaVuSans-117\"/>\n      <use x=\"795.705078\" xlink:href=\"#DejaVuSans-116\"/>\n      <use x=\"834.914062\" xlink:href=\"#DejaVuSans-68\"/>\n      <use x=\"911.916016\" xlink:href=\"#DejaVuSans-97\"/>\n      <use x=\"973.195312\" xlink:href=\"#DejaVuSans-116\"/>\n      <use x=\"1012.404297\" xlink:href=\"#DejaVuSans-101\"/>\n      <use x=\"1073.927734\" xlink:href=\"#DejaVuSans-84\"/>\n      <use x=\"1134.964844\" xlink:href=\"#DejaVuSans-105\"/>\n      <use x=\"1162.748047\" xlink:href=\"#DejaVuSans-109\"/>\n      <use x=\"1260.160156\" xlink:href=\"#DejaVuSans-101\"/>\n      <use x=\"1321.683594\" xlink:href=\"#DejaVuSans-41\"/>\n     </g>\n    </g>\n   </g>\n  </g>\n </g>\n <defs>\n  <clipPath id=\"p86f01a32f3\">\n   <rect height=\"217.44\" width=\"334.8\" x=\"49.385938\" y=\"22.318125\"/>\n  </clipPath>\n </defs>\n</svg>\n",
      "image/png": "[encoded data removed]"
     },
     "metadata": {
      "needs_background": "light"
     }
    }
   ],
   "source": [
    "# This should actually be a barchart (not a histogram)\n",
    "H.plot_hist(spl_df.select(F.month(spl_df.CheckoutDateTime)), bins=24, title=\"Checkout Dates\")"
   ]
  },
  {
   "cell_type": "code",
   "execution_count": null,
   "metadata": {},
   "outputs": [],
   "source": []
  }
 ]
}