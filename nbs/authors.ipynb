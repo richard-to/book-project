{
 "cells": [
  {
   "cell_type": "code",
   "execution_count": 1,
   "metadata": {},
   "outputs": [],
   "source": [
    "import os\n",
    "\n",
    "import findspark\n",
    "findspark.init()\n",
    "\n",
    "from dotenv import load_dotenv\n",
    "import matplotlib.pyplot as plt\n",
    "from pyspark.context import SparkContext, SparkConf\n",
    "from pyspark.sql import SparkSession\n",
    "import pyspark.sql.functions as F\n",
    "from pyspark.sql.types import IntegerType, FloatType, StringType, StructField, StructType\n",
    "from pyspark_dist_explore import hist\n",
    "from pyspark.sql import types\n",
    "\n",
    "import helpers as H\n",
    "\n",
    "%matplotlib inline\n",
    "\n",
    "conf = SparkConf()\n",
    "conf.set(\"spark.driver.extraClassPath\", \"jars/scala-udf-similarity-0.0.7.jar\")\n",
    "conf.set(\"spark.jars\", \"jars/scala-udf-similarity-0.0.7.jar\")\n",
    "\n",
    "sc = SparkContext.getOrCreate(conf=conf)\n",
    "sc.setCheckpointDir(\"temp_graphframes/\")\n",
    "spark = SparkSession(sc)\n",
    "\n",
    "spark.udf.registerJavaFunction(\n",
    "    \"jaro_winkler_sim\",\n",
    "    \"uk.gov.moj.dash.linkage.JaroWinklerSimilarity\",\n",
    "    types.DoubleType(),\n",
    ")    \n",
    "spark.udf.registerJavaFunction(\n",
    "    \"Dmetaphone\", \"uk.gov.moj.dash.linkage.DoubleMetaphone\", types.StringType()\n",
    ")\n",
    "    \n",
    "load_dotenv()\n",
    "\n",
    "GOODREADS_BOOKS_PATH = os.getenv(\"GOODREADS_BOOKS_PATH\")\n",
    "SPL_INVENTORY_PATH = os.getenv(\"SPL_INVENTORY_PATH\")"
   ]
  },
  {
   "cell_type": "code",
   "execution_count": 2,
   "metadata": {},
   "outputs": [],
   "source": [
    "book_schema = StructType([\n",
    "    StructField(\"bookID\", StringType(), True),\n",
    "    StructField(\"title\", StringType(), True),\n",
    "    StructField(\"authors\", StringType(), True),\n",
    "    StructField(\"average_rating\", FloatType(), True),\n",
    "    StructField(\"isbn\", StringType(), True),\n",
    "    StructField(\"isbn13\", StringType(), True),\n",
    "    StructField(\"language_code\", StringType(), True),\n",
    "    StructField(\"num_pages\", IntegerType(), True),    \n",
    "    StructField(\"ratings_count\", IntegerType(), True),    \n",
    "    StructField(\"text_reviews_count\", IntegerType(), True),\n",
    "    StructField(\"publication_date\", StringType(), True),\n",
    "    StructField(\"publicater\", StringType(), True),            \n",
    "])\n",
    "goodreads_df = spark.read.schema(book_schema).option(\"header\", \"true\").csv(GOODREADS_BOOKS_PATH)\n",
    "# Replace publication date with a datetime\n",
    "goodreads_df = goodreads_df.withColumn(\n",
    "    \"publication_date\", \n",
    "    F.to_timestamp(goodreads_df.publication_date, \"M/d/yyyy\"),\n",
    ")\n",
    "\n",
    "spl_df = spark.read.option(\"header\", \"true\").csv(SPL_INVENTORY_PATH)"
   ]
  },
  {
   "cell_type": "code",
   "execution_count": 3,
   "metadata": {},
   "outputs": [
    {
     "name": "stdout",
     "output_type": "stream",
     "text": [
      "+-----------+------------------------------------------------------------------------------------------------------------------------------------------------------------------------------------------+\n",
      "|unique_id  |Author                                                                                                                                                                                    |\n",
      "+-----------+------------------------------------------------------------------------------------------------------------------------------------------------------------------------------------------+\n",
      "|25769820997| \"\" by George Pullen Jackson.\"                                                                                                                                                            |\n",
      "|8589937466 | \"\"681 Station Road                                                                                                                                                                       |\n",
      "|17180189967| \"\"AmericaView Geospatial Imagery Mapping Program Act\"\" : oversight and legislative hearings before the Subcommittee on Energy and Mineral Resources of the Committee on Natural Resources|\n",
      "|141564     | \"\"Collateral damage\"\" / by C. Tyler.\"                                                                                                                                                    |\n",
      "|8590271729 | \"\"La muerte y la doncella                                                                                                                                                                |\n",
      "|17179914001| \"\"Long\"\" and forward control                                                                                                                                                             |\n",
      "|8589976530 | \"\"M\"\" and GTP ranges in sports and roadster forms : LE models in 148cc and 192cc engine capacities.\"                                                                                     |\n",
      "|137742     | \"\"Megalodon art\"\" ; Danijel Zezelj                                                                                                                                                       |\n",
      "|8590056820 | \"\"Northwestern New Mexico Rural Water Projects Act\"\" : legislative hearing before the Subcommittee on Water and Power of the Committee on Natural Resources                              |\n",
      "|17180033422| \"\"Pathétique\"\"                                                                                                                                                                           |\n",
      "|25769890459| \"\"STAND for Georgia Act of 2008\"\" : markup before the Committee on Foreign Affairs                                                                                                       |\n",
      "|8590259865 | \"\"Shift\"\" ; and                                                                                                                                                                          |\n",
      "|17179953712| \"\"Statesman\"\" and \"\"Rambler\"\" series / Nash Motors Division of Nash-Kelvinator Corporation.\"                                                                                             |\n",
      "|25769819484| \"\"The homesick prospector\"\"                                                                                                                                                              |\n",
      "|77388      | \"\"The pelican bar\"\" ; and                                                                                                                                                                |\n",
      "|25770069540| \"\"The rodeo story\"\" ; Nick Eggenhofer                                                                                                                                                    |\n",
      "|74049      | \"\"Wasp\"\" and \"\"Rambler\"\" series.\"                                                                                                                                                        |\n",
      "|229778     | \"\"Yamyam\"\".\"                                                                                                                                                                             |\n",
      "|42949830059| \"\"zhang wo guan jian\"\" da zao shu yu zi ji de mei li / Zhaiteng Xun                                                                                                                      |\n",
      "|8590150984 | \"\"︠T︡Sarʹ-ryba\"\" i drugie / Viktor Astafʹev.\"                                                                                                                                            |\n",
      "+-----------+------------------------------------------------------------------------------------------------------------------------------------------------------------------------------------------+\n",
      "only showing top 20 rows\n",
      "\n",
      "218757\n"
     ]
    }
   ],
   "source": [
    "spl_auth_df = (\n",
    "    spl_df\n",
    "    .select(\n",
    "        F.monotonically_increasing_id().alias(\"unique_id\"),\n",
    "        spl_df.Author,\n",
    "    )\n",
    "    .filter(spl_df.Author.isNotNull())\n",
    "    .drop_duplicates([\"Author\"])\n",
    "    .sort(spl_df.Author)\n",
    ")\n",
    "spl_auth_df.show(20, False)\n",
    "spl_auth_count_df = spl_auth_df.count()\n",
    "print(spl_auth_count_df)"
   ]
  },
  {
   "cell_type": "code",
   "execution_count": 4,
   "metadata": {},
   "outputs": [
    {
     "name": "stdout",
     "output_type": "stream",
     "text": [
      "+-----------+------------------------------------------+\n",
      "|unique_id  |Author                                    |\n",
      "+-----------+------------------------------------------+\n",
      "|234268     |Adams, Edward Dean, 1846-1931             |\n",
      "|25769998992|Bell, Harold K.                           |\n",
      "|25769945116|Chen, Congzhou, 1918-2000.                |\n",
      "|8590158285 |Codona (Musical group)                    |\n",
      "|8590104499 |Davidowitz, Steven                        |\n",
      "|241726     |Ewing, Alex C.                            |\n",
      "|25769857408|Farber, Samuel, 1939-                     |\n",
      "|17179932801|Free Public Library of Jersey City        |\n",
      "|27505      |Gonzales, Mark, 1975-                     |\n",
      "|8590143091 |Imamura, Kikuko.                          |\n",
      "|8589959168 |Jansen, Robert B., 1922-                  |\n",
      "|17179933658|Mancuso, Joseph                           |\n",
      "|17179887777|McMichael, James, 1939-                   |\n",
      "|17179997376|Reinarz, Jonathan                         |\n",
      "|8589952527 |Roche, Catherine (Catherine Cawood), 1969-|\n",
      "|8590231844 |Seymour, Frederick H. A.                  |\n",
      "|58159      |Twombly, Robert C.                        |\n",
      "|17179943183|Wakefield, Hugh, 1915-                    |\n",
      "|17180133345|Yang, Hae-dong, 1942-                     |\n",
      "|105683     |Ziolkowski, Theodore                      |\n",
      "+-----------+------------------------------------------+\n",
      "\n"
     ]
    }
   ],
   "source": [
    "spl_auth_df.sample(False, fraction=1.0 * 20 / spl_auth_count_df).limit(20).show(20, False)"
   ]
  },
  {
   "cell_type": "code",
   "execution_count": 7,
   "metadata": {},
   "outputs": [],
   "source": [
    "def format_spl_author(author):\n",
    "    parts = author.split(\", \")\n",
    "    if len(parts) == 2:\n",
    "        return parts[1] + \" \" + parts[0]\n",
    "    elif len(parts) == 3:\n",
    "        #assert any(char.isdigit() for char in parts[2])\n",
    "        return parts[1] + \" \" + parts[0]    \n",
    "    else:\n",
    "        return author\n",
    "        \n",
    "format_spl_author_udf = F.udf(format_spl_author)"
   ]
  },
  {
   "cell_type": "code",
   "execution_count": 11,
   "metadata": {},
   "outputs": [
    {
     "name": "stdout",
     "output_type": "stream",
     "text": [
      "+-----------+-------------------------------------------------------------------------------------------------+-------------------------------------------------------------------------------------------------+\n",
      "|unique_id  |Author                                                                                           |author_formatted                                                                                 |\n",
      "+-----------+-------------------------------------------------------------------------------------------------+-------------------------------------------------------------------------------------------------+\n",
      "|23750      |Barkow, Henriette                                                                                |Henriette Barkow                                                                                 |\n",
      "|8589962188 |Chang, T. Susan                                                                                  |T. Susan Chang                                                                                   |\n",
      "|25770021243|Dayan, Joan, 1949-                                                                               |Joan Dayan                                                                                       |\n",
      "|8590121312 |Dickins, Guy, 1881-1916                                                                          |Guy Dickins                                                                                      |\n",
      "|8590085419 |Distler, Hugo, 1908-1942                                                                         |Hugo Distler                                                                                     |\n",
      "|108807     |Dworkin, Susan                                                                                   |Susan Dworkin                                                                                    |\n",
      "|17180052989|Edwards, Mickey, 1937-                                                                           |Mickey Edwards                                                                                   |\n",
      "|8590153102 |Fritzsche, Peter.                                                                                |Peter. Fritzsche                                                                                 |\n",
      "|165512     |Gorenberg, Gershom                                                                               |Gershom Gorenberg                                                                                |\n",
      "|286930     |Hogarth, George, 1783-1870                                                                       |George Hogarth                                                                                   |\n",
      "|86428      |Laks, Ellie                                                                                      |Ellie Laks                                                                                       |\n",
      "|119339     |Matteson, Porter                                                                                 |Porter Matteson                                                                                  |\n",
      "|29656      |Ostrovsky, Aleksandr Nikolaevich, 1823-1886                                                      |Aleksandr Nikolaevich Ostrovsky                                                                  |\n",
      "|263290     |Paul, Chris, 1985-                                                                               |Chris Paul                                                                                       |\n",
      "|249070     |Safdie, Moshe, 1938-                                                                             |Moshe Safdie                                                                                     |\n",
      "|25769896915|Shipman, Nell, 1892-1970                                                                         |Nell Shipman                                                                                     |\n",
      "|319899     |Smith, Judah,                                                                                    |Judah, Smith                                                                                     |\n",
      "|8589950615 |Tràn, Vũ                                                                                         |Vũ Tràn                                                                                          |\n",
      "|25769980798|United States. Congress. House. Committee on Small Business. Subcommittee on Taxation and Finance|United States. Congress. House. Committee on Small Business. Subcommittee on Taxation and Finance|\n",
      "|71750      |Walker, Peter, 1968-                                                                             |Peter Walker                                                                                     |\n",
      "+-----------+-------------------------------------------------------------------------------------------------+-------------------------------------------------------------------------------------------------+\n",
      "\n"
     ]
    }
   ],
   "source": [
    "spl_auth_formatted_df = spl_auth_df.withColumn(\"author_formatted\", format_spl_author_udf(spl_auth_df.Author))\n",
    "spl_auth_formatted_df.sample(False, fraction=1.0 * 20 / spl_auth_count_df).limit(20).show(20, False)"
   ]
  },
  {
   "cell_type": "code",
   "execution_count": 13,
   "metadata": {},
   "outputs": [
    {
     "name": "stdout",
     "output_type": "stream",
     "text": [
      "+------+--------------------+--------------------+--------------+----------+-------------+-------------+---------+-------------+------------------+-------------------+------------------+\n",
      "|bookID|               title|             authors|average_rating|      isbn|       isbn13|language_code|num_pages|ratings_count|text_reviews_count|   publication_date|        publicater|\n",
      "+------+--------------------+--------------------+--------------+----------+-------------+-------------+---------+-------------+------------------+-------------------+------------------+\n",
      "|     1|Harry Potter and ...|        J.K. Rowling|          4.57|0439785960|9780439785969|          eng|      652|      2095690|             27591|2006-09-16 00:00:00|   Scholastic Inc.|\n",
      "|     1|Harry Potter and ...|       Mary GrandPré|          4.57|0439785960|9780439785969|          eng|      652|      2095690|             27591|2006-09-16 00:00:00|   Scholastic Inc.|\n",
      "|     2|Harry Potter and ...|        J.K. Rowling|          4.49|0439358078|9780439358071|          eng|      870|      2153167|             29221|2004-09-01 00:00:00|   Scholastic Inc.|\n",
      "|     2|Harry Potter and ...|       Mary GrandPré|          4.49|0439358078|9780439358071|          eng|      870|      2153167|             29221|2004-09-01 00:00:00|   Scholastic Inc.|\n",
      "|     4|Harry Potter and ...|        J.K. Rowling|          4.42|0439554896|9780439554893|          eng|      352|         6333|               244|2003-11-01 00:00:00|        Scholastic|\n",
      "|     5|Harry Potter and ...|        J.K. Rowling|          4.56|043965548X|9780439655484|          eng|      435|      2339585|             36325|2004-05-01 00:00:00|   Scholastic Inc.|\n",
      "|     5|Harry Potter and ...|       Mary GrandPré|          4.56|043965548X|9780439655484|          eng|      435|      2339585|             36325|2004-05-01 00:00:00|   Scholastic Inc.|\n",
      "|     8|Harry Potter Boxe...|        J.K. Rowling|          4.78|0439682584|9780439682589|          eng|     2690|        41428|               164|2004-09-13 00:00:00|        Scholastic|\n",
      "|     8|Harry Potter Boxe...|       Mary GrandPré|          4.78|0439682584|9780439682589|          eng|     2690|        41428|               164|2004-09-13 00:00:00|        Scholastic|\n",
      "|     9|Unauthorized Harr...|W. Frederick Zimm...|          3.74|0976540606|9780976540601|        en-US|      152|           19|                 1|2005-04-26 00:00:00|      Nimble Books|\n",
      "|    10|Harry Potter Coll...|        J.K. Rowling|          4.73|0439827604|9780439827607|          eng|     3342|        28242|               808|2005-09-12 00:00:00|        Scholastic|\n",
      "|    12|The Ultimate Hitc...|       Douglas Adams|          4.38|0517226952|9780517226957|          eng|      815|         3628|               254|2005-11-01 00:00:00|    Gramercy Books|\n",
      "|    13|The Ultimate Hitc...|       Douglas Adams|          4.38|0345453743|9780345453747|          eng|      815|       249558|              4080|2002-04-30 00:00:00|     Del Rey Books|\n",
      "|    14|The Hitchhiker's ...|       Douglas Adams|          4.22|1400052920|9781400052929|          eng|      215|         4930|               460|2004-08-03 00:00:00|             Crown|\n",
      "|    16|The Hitchhiker's ...|       Douglas Adams|          4.22|0739322206|9780739322208|          eng|        6|         1266|               253|2005-03-23 00:00:00|Random House Audio|\n",
      "|    16|The Hitchhiker's ...|         Stephen Fry|          4.22|0739322206|9780739322208|          eng|        6|         1266|               253|2005-03-23 00:00:00|Random House Audio|\n",
      "|    18|The Ultimate Hitc...|       Douglas Adams|          4.38|0517149257|9780517149256|          eng|      815|         2877|               195|1996-01-17 00:00:00|       Wings Books|\n",
      "|    21|A Short History o...|         Bill Bryson|          4.21|076790818X|9780767908184|          eng|      544|       248558|              9396|2004-09-14 00:00:00|    Broadway Books|\n",
      "|    22|Bill Bryson's Afr...|         Bill Bryson|          3.44|0767915062|9780767915069|          eng|       55|         7270|               499|2002-12-03 00:00:00|    Broadway Books|\n",
      "|    23|Bryson's Dictiona...|         Bill Bryson|          3.87|0767910435|9780767910439|          eng|      256|         2088|               131|2004-09-14 00:00:00|    Broadway Books|\n",
      "+------+--------------------+--------------------+--------------+----------+-------------+-------------+---------+-------------+------------------+-------------------+------------------+\n",
      "only showing top 20 rows\n",
      "\n"
     ]
    }
   ],
   "source": [
    "goodreads_authors_df = goodreads_df.withColumn(\n",
    "    \"authors\", \n",
    "    F.explode(F.split(goodreads_df.authors, \"/\")),\n",
    ")\n",
    "goodreads_authors_df.show(20)"
   ]
  },
  {
   "cell_type": "code",
   "execution_count": null,
   "metadata": {},
   "outputs": [],
   "source": []
  }
 ],
 "metadata": {
  "kernelspec": {
   "display_name": "Python 3",
   "language": "python",
   "name": "python3"
  },
  "language_info": {
   "codemirror_mode": {
    "name": "ipython",
    "version": 3
   },
   "file_extension": ".py",
   "mimetype": "text/x-python",
   "name": "python",
   "nbconvert_exporter": "python",
   "pygments_lexer": "ipython3",
   "version": "3.7.4"
  }
 },
 "nbformat": 4,
 "nbformat_minor": 2
}
