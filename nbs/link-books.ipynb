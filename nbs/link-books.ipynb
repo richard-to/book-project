{
 "cells": [
  {
   "cell_type": "markdown",
   "metadata": {},
   "source": [
    "# Link SPL Library Books with Goodreads books\n",
    "\n",
    "This notebook attempts to link SPL library books with Goodreads books using ISBNs.\n",
    "\n",
    "The SPL dataset will list multiple ISBNs under one BibNumber. This is because the same book can come in different editions and formats (such as paperback or hardcover). It is unclear if the same ISBN can appear across multiple BibNumbers.\n",
    "\n",
    "There are also a lot of duplicate BibNumbers. What consitutes a unique row?\n",
    "\n",
    "The Goodreads data contains an ISBN/ISBN13 pair per row. It seems possible that the same book can appear twice in this dataset,\n",
    "so we may need to consolidate the duplicate results."
   ]
  },
  {
   "cell_type": "markdown",
   "metadata": {},
   "source": [
    "## Set up and load data"
   ]
  },
  {
   "cell_type": "code",
   "execution_count": 1,
   "metadata": {},
   "outputs": [],
   "source": [
    "import os\n",
    "\n",
    "import findspark\n",
    "findspark.init()\n",
    "\n",
    "from dotenv import load_dotenv\n",
    "import matplotlib.pyplot as plt\n",
    "from pyspark.sql import SparkSession\n",
    "import pyspark.sql.functions as F\n",
    "from pyspark.sql.types import IntegerType, FloatType, StringType, StructField, StructType\n",
    "from pyspark_dist_explore import hist\n",
    "\n",
    "import helpers as H\n",
    "\n",
    "%matplotlib inline\n",
    "\n",
    "spark = SparkSession.builder.appName(\"LinkSPLBooksGoodreads\").getOrCreate()"
   ]
  },
  {
   "cell_type": "code",
   "execution_count": 2,
   "metadata": {},
   "outputs": [],
   "source": [
    "load_dotenv()\n",
    "\n",
    "GOODREADS_BOOKS_PATH = os.getenv(\"GOODREADS_BOOKS_PATH\")\n",
    "SPL_INVENTORY_PATH = os.getenv(\"SPL_INVENTORY_PATH\")"
   ]
  },
  {
   "cell_type": "code",
   "execution_count": 3,
   "metadata": {},
   "outputs": [],
   "source": [
    "book_schema = StructType([\n",
    "    StructField(\"bookID\", StringType(), True),\n",
    "    StructField(\"title\", StringType(), True),\n",
    "    StructField(\"authors\", StringType(), True),\n",
    "    StructField(\"average_rating\", FloatType(), True),\n",
    "    StructField(\"isbn\", StringType(), True),\n",
    "    StructField(\"isbn13\", StringType(), True),\n",
    "    StructField(\"language_code\", StringType(), True),\n",
    "    StructField(\"num_pages\", IntegerType(), True),    \n",
    "    StructField(\"ratings_count\", IntegerType(), True),    \n",
    "    StructField(\"text_reviews_count\", IntegerType(), True),\n",
    "    StructField(\"publication_date\", StringType(), True),\n",
    "    StructField(\"publicater\", StringType(), True),            \n",
    "])\n",
    "goodreads_df = spark.read.schema(book_schema).option(\"header\", \"true\").csv(GOODREADS_BOOKS_PATH)\n",
    "# Replace publication date with a datetime\n",
    "goodreads_df = goodreads_df.withColumn(\n",
    "    \"publication_date\", \n",
    "    F.to_timestamp(goodreads_df.publication_date, \"M/d/yyyy\"),\n",
    ")\n",
    "\n",
    "spl_df = spark.read.option(\"header\", \"true\").csv(SPL_INVENTORY_PATH)"
   ]
  },
  {
   "cell_type": "code",
   "execution_count": 4,
   "metadata": {},
   "outputs": [
    {
     "name": "stdout",
     "output_type": "stream",
     "text": [
      "+-------+-----+\n",
      "| BibNum|total|\n",
      "+-------+-----+\n",
      "|1923072|  128|\n",
      "|1909740|  112|\n",
      "|2176912|   92|\n",
      "|3168629|   82|\n",
      "| 514265|   79|\n",
      "+-------+-----+\n",
      "only showing top 5 rows\n",
      "\n"
     ]
    }
   ],
   "source": [
    "# Why does the same BibNumber appear hundreds of times?\n",
    "(\n",
    "    spl_df\n",
    "    .groupBy(spl_df.BibNum)\n",
    "    .agg(\n",
    "        F.count(spl_df.BibNum).alias(\"total\"),\n",
    "     )\n",
    "     .sort(F.desc(\"total\"))\n",
    "     .show(5)\n",
    ")"
   ]
  },
  {
   "cell_type": "code",
   "execution_count": 5,
   "metadata": {},
   "outputs": [
    {
     "name": "stdout",
     "output_type": "stream",
     "text": [
      "+--------------------+--------------------+--------------------+--------+--------------+------------+------------+\n",
      "|               Title|              Author|                ISBN|ItemType|ItemCollection|FloatingItem|ItemLocation|\n",
      "+--------------------+--------------------+--------------------+--------+--------------+------------+------------+\n",
      "|International wil...|Burton, Maurice, ...|0761472665, 07614...|    jrbk|         ncref|          NA|         glk|\n",
      "|International wil...|Burton, Maurice, ...|0761472665, 07614...|    jrbk|         ncref|          NA|         mon|\n",
      "|International wil...|Burton, Maurice, ...|0761472665, 07614...|    jrbk|        ccdesk|          NA|         cen|\n",
      "|International wil...|Burton, Maurice, ...|0761472665, 07614...|    jcbk|          ncnf|          NA|         glk|\n",
      "|International wil...|Burton, Maurice, ...|0761472665, 07614...|    jcbk|          ncnf|          NA|         gwd|\n",
      "|International wil...|Burton, Maurice, ...|0761472665, 07614...|    jrbk|         ncref|          NA|         qna|\n",
      "|International wil...|Burton, Maurice, ...|0761472665, 07614...|    jrbk|         ncref|          NA|         mag|\n",
      "|International wil...|Burton, Maurice, ...|0761472665, 07614...|    jrbk|         ncref|          NA|         net|\n",
      "|International wil...|Burton, Maurice, ...|0761472665, 07614...|    jrbk|         ncref|          NA|         wts|\n",
      "|International wil...|Burton, Maurice, ...|0761472665, 07614...|    jrbk|         ncref|          NA|         bal|\n",
      "|International wil...|Burton, Maurice, ...|0761472665, 07614...|    jcbk|          ncnf|          NA|         cap|\n",
      "|International wil...|Burton, Maurice, ...|0761472665, 07614...|    jrbk|         ncref|          NA|         fre|\n",
      "|International wil...|Burton, Maurice, ...|0761472665, 07614...|    jrbk|         ncref|          NA|         swt|\n",
      "|International wil...|Burton, Maurice, ...|0761472665, 07614...|    jrbk|         naref|          NA|         bro|\n",
      "|International wil...|Burton, Maurice, ...|0761472665, 07614...|    jrbk|         ncref|          NA|         dth|\n",
      "|International wil...|Burton, Maurice, ...|0761472665, 07614...|    jrbk|         ncref|          NA|         lcy|\n",
      "|International wil...|Burton, Maurice, ...|0761472665, 07614...|    jrbk|         ncref|          NA|         uni|\n",
      "|International wil...|Burton, Maurice, ...|0761472665, 07614...|    jrbk|         ncref|          NA|         swt|\n",
      "|International wil...|Burton, Maurice, ...|0761472665, 07614...|    jrbk|         ncref|          NA|         wts|\n",
      "|International wil...|Burton, Maurice, ...|0761472665, 07614...|    jrbk|         ncref|          NA|         fre|\n",
      "+--------------------+--------------------+--------------------+--------+--------------+------------+------------+\n",
      "only showing top 20 rows\n",
      "\n"
     ]
    }
   ],
   "source": [
    "# ItemLocation can change, but that isn't specified in the checkouts (maybe take uniques by bibnum, item type, and, item collection)\n",
    "(\n",
    "    spl_df\n",
    "    .select(\n",
    "        spl_df.Title, \n",
    "        spl_df.Author, \n",
    "        spl_df.ISBN, \n",
    "        spl_df.ItemType, \n",
    "        spl_df.ItemCollection, \n",
    "        spl_df.FloatingItem,\t\n",
    "        spl_df.ItemLocation,\t\n",
    "    )\n",
    "    .filter(spl_df.BibNum == \"2106734\")\n",
    "    .show(20)\n",
    ")"
   ]
  },
  {
   "cell_type": "code",
   "execution_count": 6,
   "metadata": {},
   "outputs": [],
   "source": [
    "spl_isbn_df = spl_df.withColumn(\n",
    "    \"ISBN\", \n",
    "    F.explode(F.split(spl_df.ISBN, \", \")),\n",
    ")"
   ]
  },
  {
   "cell_type": "code",
   "execution_count": 7,
   "metadata": {},
   "outputs": [
    {
     "name": "stdout",
     "output_type": "stream",
     "text": [
      "+-----------+--------------------+\n",
      "|count(ISBN)|count(DISTINCT ISBN)|\n",
      "+-----------+--------------------+\n",
      "|    4511565|              735965|\n",
      "+-----------+--------------------+\n",
      "\n"
     ]
    }
   ],
   "source": [
    "# A lot of duplicate ISBNs\n",
    "H.get_basic_counts(spl_isbn_df, spl_isbn_df.ISBN)"
   ]
  },
  {
   "cell_type": "code",
   "execution_count": 8,
   "metadata": {},
   "outputs": [
    {
     "name": "stdout",
     "output_type": "stream",
     "text": [
      "+-------+-----+\n",
      "| BibNum|total|\n",
      "+-------+-----+\n",
      "|1923072|  128|\n",
      "|1909740|  112|\n",
      "|2176912|   92|\n",
      "|3168629|   82|\n",
      "| 514265|   79|\n",
      "+-------+-----+\n",
      "only showing top 5 rows\n",
      "\n"
     ]
    }
   ],
   "source": [
    "(\n",
    "    spl_df\n",
    "    .groupBy(spl_df.BibNum)\n",
    "    .agg(\n",
    "        F.count(spl_df.BibNum).alias(\"total\"),\n",
    "     )\n",
    "     .sort(F.desc(\"total\"))\n",
    "     .show(5)\n",
    ")"
   ]
  },
  {
   "cell_type": "code",
   "execution_count": 9,
   "metadata": {},
   "outputs": [],
   "source": [
    "spl_goodreads_df = (\n",
    "    spl_isbn_df\n",
    "    .select(\n",
    "        spl_isbn_df.BibNum,\n",
    "        spl_isbn_df.ISBN.alias(\"spl_isbn\"),\n",
    "        spl_isbn_df.Title.alias(\"spl_title\"),\n",
    "        spl_isbn_df.Author.alias(\"spl_author\"),\n",
    "        spl_isbn_df.Publisher.alias(\"spl_publisher\"),\n",
    "        spl_isbn_df.PublicationYear.alias(\"spl_publication_year\"),\n",
    "    )\n",
    "    .join(goodreads_df, (goodreads_df.isbn == F.col(\"spl_isbn\")) | (goodreads_df.isbn13 == F.col(\"spl_isbn\")))\n",
    ")"
   ]
  },
  {
   "cell_type": "code",
   "execution_count": 10,
   "metadata": {},
   "outputs": [
    {
     "name": "stdout",
     "output_type": "stream",
     "text": [
      "+-------+-------------+--------------------+--------------------+--------------------+--------------------+------+--------------------+--------------------+--------------+----------+-------------+-------------+---------+-------------+------------------+-------------------+--------------------+\n",
      "| BibNum|     spl_isbn|           spl_title|          spl_author|       spl_publisher|spl_publication_year|bookID|               title|             authors|average_rating|      isbn|       isbn13|language_code|num_pages|ratings_count|text_reviews_count|   publication_date|          publicater|\n",
      "+-------+-------------+--------------------+--------------------+--------------------+--------------------+------+--------------------+--------------------+--------------+----------+-------------+-------------+---------+-------------+------------------+-------------------+--------------------+\n",
      "|2882964|   0140259104|The nuclear age /...| O'Brien, Tim, 1946-|      Penguin Books,|               1996.|  3449|     The Nuclear Age|         Tim O'Brien|          3.45|0140259104|9780140259100|          eng|      320|          945|                61|1996-12-01 00:00:00|       Penguin Books|\n",
      "|2882964|9780140259100|The nuclear age /...| O'Brien, Tim, 1946-|      Penguin Books,|               1996.|  3449|     The Nuclear Age|         Tim O'Brien|          3.45|0140259104|9780140259100|          eng|      320|          945|                61|1996-12-01 00:00:00|       Penguin Books|\n",
      "|2143650|   0375806156|Thanksgiving on T...|  Osborne, Mary Pope|       Random House,|              c2002.| 32184|Thanksgiving on T...|Mary Pope Osborne...|          3.85|0375806156|9780375806155|          eng|       73|         6361|               209|2002-09-24 00:00:00|Random House Book...|\n",
      "|2482528|   0060854944|Continental drift...|Banks, Russell, 1...|    HarperPerennial,|               2007.| 26919|   Continental Drift|       Russell Banks|          3.87|0060854944|9780060854942|          eng|      408|         2824|               299|2007-03-13 00:00:00|Harper Perennial ...|\n",
      "|2482528|9780060854942|Continental drift...|Banks, Russell, 1...|    HarperPerennial,|               2007.| 26919|   Continental Drift|       Russell Banks|          3.87|0060854944|9780060854942|          eng|      408|         2824|               299|2007-03-13 00:00:00|Harper Perennial ...|\n",
      "|2603275|   0807014265|Man's search for ...|Frankl, Viktor E....|       Beacon Press,|              c2006.|  4070|Man's Search for ...|Viktor E. Frankl/...|          4.36|0807014265|9780807014264|          eng|      165|          391|                44|2000-03-30 00:00:00|Beacon Press (Bos...|\n",
      "|2603275|   0807014273|Man's search for ...|Frankl, Viktor E....|       Beacon Press,|              c2006.| 26146|Man's Search for ...|Viktor E. Frankl/...|          4.36|0807014273|9780807014271|          eng|      165|         3023|               303|2006-06-01 00:00:00|        Beacon Press|\n",
      "|2603275|9780807014264|Man's search for ...|Frankl, Viktor E....|       Beacon Press,|              c2006.|  4070|Man's Search for ...|Viktor E. Frankl/...|          4.36|0807014265|9780807014264|          eng|      165|          391|                44|2000-03-30 00:00:00|Beacon Press (Bos...|\n",
      "|2603275|9780807014271|Man's search for ...|Frankl, Viktor E....|       Beacon Press,|              c2006.| 26146|Man's Search for ...|Viktor E. Frankl/...|          4.36|0807014273|9780807014271|          eng|      165|         3023|               303|2006-06-01 00:00:00|        Beacon Press|\n",
      "|2238575|   0060572345|Where the sidewal...|   Silverstein, Shel|      HarperCollins,|              c2004.| 30117|Where the Sidewal...|    Shel Silverstein|           4.3|0060572345|9780060572341|          eng|      192|         3587|               179|2014-02-18 00:00:00|       HarperCollins|\n",
      "|2238575|9780060572341|Where the sidewal...|   Silverstein, Shel|      HarperCollins,|              c2004.| 30117|Where the Sidewal...|    Shel Silverstein|           4.3|0060572345|9780060572341|          eng|      192|         3587|               179|2014-02-18 00:00:00|       HarperCollins|\n",
      "|2069130|   0439272009|Witness / Karen H...|        Hesse, Karen|   Scholastic Press,|               2001.| 26480|             Witness|         Karen Hesse|          3.72|0439272009|9780439272001|          eng|      161|         4667|               703|2003-03-01 00:00:00|Scholastic Paperb...|\n",
      "|2069130|9780439272001|Witness / Karen H...|        Hesse, Karen|   Scholastic Press,|               2001.| 26480|             Witness|         Karen Hesse|          3.72|0439272009|9780439272001|          eng|      161|         4667|               703|2003-03-01 00:00:00|Scholastic Paperb...|\n",
      "|2121474|   0375814256|Danny the champio...|         Dahl, Roald|    Alfred A. Knopf,|               2002.|  6690|Danny the Champio...|Roald Dahl/Quenti...|          4.09|0375814256|9780375814259|          eng|      224|        46753|              1672|2002-02-12 00:00:00|Knopf Books for Y...|\n",
      "|2121474|9780375814259|Danny the champio...|         Dahl, Roald|    Alfred A. Knopf,|               2002.|  6690|Danny the Champio...|Roald Dahl/Quenti...|          4.09|0375814256|9780375814259|          eng|      224|        46753|              1672|2002-02-12 00:00:00|Knopf Books for Y...|\n",
      "|2862676|   0393320928|\"\"\"What do you ca...|Feynman, Richard ...|W.W. Norton & Com...|        2001, c1988.|  5548|What Do You Care ...|  Richard P. Feynman|          4.27|0393320928|9780393320923|          eng|      256|        15700|               556|2001-01-11 00:00:00|W.W. Norton & Com...|\n",
      "|2862676|9780393320923|\"\"\"What do you ca...|Feynman, Richard ...|W.W. Norton & Com...|        2001, c1988.|  5548|What Do You Care ...|  Richard P. Feynman|          4.27|0393320928|9780393320923|          eng|      256|        15700|               556|2001-01-11 00:00:00|W.W. Norton & Com...|\n",
      "|3131896|   0061177598|Women / Charles B...|   Bukowski, Charles|         Ecco Press,|               2002.| 38500|               Women|    Charles Bukowski|          3.86|0061177598|9780061177590|          eng|      291|        52415|              2081|2014-07-29 00:00:00|                Ecco|\n",
      "|3131896|9780061177590|Women / Charles B...|   Bukowski, Charles|         Ecco Press,|               2002.| 38500|               Women|    Charles Bukowski|          3.86|0061177598|9780061177590|          eng|      291|        52415|              2081|2014-07-29 00:00:00|                Ecco|\n",
      "|2494126|   0671792768|Brave companions ...|McCullough, David G.|   Simon & Schuster,|              c1992.|  2367|Brave Companions:...|    David McCullough|          3.98|0671792768|9780671792763|          eng|      240|         3460|               482|1992-11-01 00:00:00|      Simon Schuster|\n",
      "+-------+-------------+--------------------+--------------------+--------------------+--------------------+------+--------------------+--------------------+--------------+----------+-------------+-------------+---------+-------------+------------------+-------------------+--------------------+\n",
      "only showing top 20 rows\n",
      "\n"
     ]
    }
   ],
   "source": [
    "spl_goodreads_df.show()"
   ]
  },
  {
   "cell_type": "code",
   "execution_count": 11,
   "metadata": {},
   "outputs": [],
   "source": [
    "spl_goodreads_dupe_df = spl_goodreads_df.dropDuplicates()"
   ]
  },
  {
   "cell_type": "code",
   "execution_count": null,
   "metadata": {},
   "outputs": [],
   "source": []
  }
 ],
 "metadata": {
  "kernelspec": {
   "display_name": "Python 3",
   "language": "python",
   "name": "python3"
  },
  "language_info": {
   "codemirror_mode": {
    "name": "ipython",
    "version": 3
   },
   "file_extension": ".py",
   "mimetype": "text/x-python",
   "name": "python",
   "nbconvert_exporter": "python",
   "pygments_lexer": "ipython3",
   "version": "3.7.4"
  }
 },
 "nbformat": 4,
 "nbformat_minor": 2
}
