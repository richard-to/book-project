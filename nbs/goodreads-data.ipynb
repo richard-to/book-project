{
 "cells": [
  {
   "cell_type": "markdown",
   "metadata": {},
   "source": [
    "# Goodreads books data analysis\n",
    "\n",
    "This notebook performs some exploratory analysis on the [Goodreads books dataset](https://www.kaggle.com/jealousleopard/goodreadsbooks) found on Kaggle.\n",
    "\n",
    "This dataset is small enough that we could use Pandas, but for learning purposes I'll be using Spark."
   ]
  },
  {
   "cell_type": "markdown",
   "metadata": {},
   "source": [
    "## Setup and load data"
   ]
  },
  {
   "cell_type": "code",
   "execution_count": 1,
   "metadata": {},
   "outputs": [],
   "source": [
    "import os\n",
    "\n",
    "import findspark\n",
    "findspark.init()\n",
    "\n",
    "from dotenv import load_dotenv\n",
    "import matplotlib.pyplot as plt\n",
    "from pyspark.sql import SparkSession\n",
    "import pyspark.sql.functions as F\n",
    "from pyspark.sql.types import IntegerType, FloatType, StringType, StructField, StructType\n",
    "from pyspark_dist_explore import hist\n",
    "\n",
    "%matplotlib inline\n",
    "\n",
    "spark = SparkSession.builder.appName(\"ExploreGoodreads\").getOrCreate()"
   ]
  },
  {
   "cell_type": "code",
   "execution_count": 2,
   "metadata": {},
   "outputs": [],
   "source": [
    "load_dotenv()\n",
    "\n",
    "GOODREADS_BOOKS_PATH = os.getenv(\"GOODREADS_BOOKS_PATH\")"
   ]
  },
  {
   "cell_type": "code",
   "execution_count": 3,
   "metadata": {},
   "outputs": [],
   "source": [
    "book_schema = StructType([\n",
    "    StructField(\"bookID\", StringType(), True),\n",
    "    StructField(\"title\", StringType(), True),\n",
    "    StructField(\"authors\", StringType(), True),\n",
    "    StructField(\"average_rating\", FloatType(), True),\n",
    "    StructField(\"isbn\", StringType(), True),\n",
    "    StructField(\"isbn13\", StringType(), True),\n",
    "    StructField(\"language_code\", StringType(), True),\n",
    "    StructField(\"num_pages\", IntegerType(), True),    \n",
    "    StructField(\"ratings_count\", IntegerType(), True),    \n",
    "    StructField(\"text_reviews_count\", IntegerType(), True),\n",
    "    StructField(\"publication_date\", StringType(), True),\n",
    "    StructField(\"publicater\", StringType(), True),            \n",
    "])\n",
    "goodreads_df = spark.read.schema(book_schema).option(\"header\", \"true\").csv(GOODREADS_BOOKS_PATH)\n",
    "\n",
    "# Add a column that stores publication date as a datetime object\n",
    "goodreads_df = goodreads_df.withColumn(\n",
    "    \"publication_date_ts\", \n",
    "    F.to_timestamp(goodreads_df.publication_date, \"MM/dd/yyyy\"),\n",
    ")"
   ]
  },
  {
   "cell_type": "markdown",
   "metadata": {},
   "source": [
    "## Helpers\n",
    "\n",
    "This section contains some helper functions that will be reused when analyzing each column."
   ]
  },
  {
   "cell_type": "code",
   "execution_count": 4,
   "metadata": {},
   "outputs": [],
   "source": [
    "def get_basic_counts(df, col):\n",
    "    df.agg(\n",
    "        F.count(col),\n",
    "        F.countDistinct(col),\n",
    "    ).show()\n",
    "    \n",
    "    \n",
    "def check_nulls(df, col):\n",
    "    df.where(col.isNull()).agg(\n",
    "        F.count(col),\n",
    "        F.countDistinct(col),\n",
    "    ).show()\n",
    "\n",
    "    \n",
    "def check_empty_strings(df, col):\n",
    "    df.where(col == \"\").agg(\n",
    "        F.count(col),\n",
    "        F.countDistinct(col),\n",
    "    ).show()\n",
    "   \n",
    "\n",
    "def check_lengths(df, col):\n",
    "    (\n",
    "        df\n",
    "        .select(col, F.length(col))\n",
    "        .sort(F.length(col).asc())\n",
    "        .show(5) \n",
    "    )\n",
    "    (\n",
    "        df\n",
    "        .select(col, F.length(col))\n",
    "        .sort(F.length(col).desc())\n",
    "        .show(5) \n",
    "    )\n",
    "    \n",
    "    \n",
    "def basic_stats(df, col):\n",
    "    df.agg(\n",
    "        F.count(col),\n",
    "        F.avg(col),        \n",
    "        F.min(col),\n",
    "        F.max(col),\n",
    "    ).show() \n",
    "    \n",
    "    \n",
    "def plot_hist(df, bins, title=None):\n",
    "    fig, ax = plt.subplots()\n",
    "    hist(ax, df, bins=bins, color=[\"blue\"])\n",
    "    if title:\n",
    "        ax.set_title(title)\n",
    "        _ = ax.legend()    "
   ]
  },
  {
   "cell_type": "markdown",
   "metadata": {},
   "source": [
    "## Inspect table"
   ]
  },
  {
   "cell_type": "code",
   "execution_count": 5,
   "metadata": {},
   "outputs": [
    {
     "name": "stdout",
     "output_type": "stream",
     "text": [
      "+------+--------------------+--------------------+--------------+----------+-------------+-------------+---------+-------------+------------------+----------------+---------------+-------------------+\n",
      "|bookID|               title|             authors|average_rating|      isbn|       isbn13|language_code|num_pages|ratings_count|text_reviews_count|publication_date|     publicater|publication_date_ts|\n",
      "+------+--------------------+--------------------+--------------+----------+-------------+-------------+---------+-------------+------------------+----------------+---------------+-------------------+\n",
      "|     1|Harry Potter and ...|J.K. Rowling/Mary...|          4.57|0439785960|9780439785969|          eng|      652|      2095690|             27591|       9/16/2006|Scholastic Inc.|2006-09-16 00:00:00|\n",
      "|     2|Harry Potter and ...|J.K. Rowling/Mary...|          4.49|0439358078|9780439358071|          eng|      870|      2153167|             29221|        9/1/2004|Scholastic Inc.|2004-09-01 00:00:00|\n",
      "|     4|Harry Potter and ...|        J.K. Rowling|          4.42|0439554896|9780439554893|          eng|      352|         6333|               244|       11/1/2003|     Scholastic|2003-11-01 00:00:00|\n",
      "|     5|Harry Potter and ...|J.K. Rowling/Mary...|          4.56|043965548X|9780439655484|          eng|      435|      2339585|             36325|        5/1/2004|Scholastic Inc.|2004-05-01 00:00:00|\n",
      "|     8|Harry Potter Boxe...|J.K. Rowling/Mary...|          4.78|0439682584|9780439682589|          eng|     2690|        41428|               164|       9/13/2004|     Scholastic|2004-09-13 00:00:00|\n",
      "+------+--------------------+--------------------+--------------+----------+-------------+-------------+---------+-------------+------------------+----------------+---------------+-------------------+\n",
      "only showing top 5 rows\n",
      "\n"
     ]
    }
   ],
   "source": [
    "goodreads_df.show(5)"
   ]
  },
  {
   "cell_type": "markdown",
   "metadata": {},
   "source": [
    "## BookID"
   ]
  },
  {
   "cell_type": "code",
   "execution_count": 6,
   "metadata": {},
   "outputs": [
    {
     "name": "stdout",
     "output_type": "stream",
     "text": [
      "+-------------+----------------------+\n",
      "|count(bookID)|count(DISTINCT bookID)|\n",
      "+-------------+----------------------+\n",
      "|        11127|                 11127|\n",
      "+-------------+----------------------+\n",
      "\n",
      "+-------------+----------------------+\n",
      "|count(bookID)|count(DISTINCT bookID)|\n",
      "+-------------+----------------------+\n",
      "|            0|                     0|\n",
      "+-------------+----------------------+\n",
      "\n",
      "+------+--------------+\n",
      "|bookID|length(bookID)|\n",
      "+------+--------------+\n",
      "|     1|             1|\n",
      "|     2|             1|\n",
      "|     4|             1|\n",
      "|     5|             1|\n",
      "|     8|             1|\n",
      "+------+--------------+\n",
      "only showing top 5 rows\n",
      "\n",
      "+------+--------------+\n",
      "|bookID|length(bookID)|\n",
      "+------+--------------+\n",
      "| 10000|             5|\n",
      "| 10009|             5|\n",
      "| 10002|             5|\n",
      "| 10004|             5|\n",
      "| 10006|             5|\n",
      "+------+--------------+\n",
      "only showing top 5 rows\n",
      "\n"
     ]
    }
   ],
   "source": [
    "get_basic_counts(goodreads_df, goodreads_df.bookID)\n",
    "check_nulls(goodreads_df, goodreads_df.bookID)\n",
    "check_lengths(goodreads_df, goodreads_df.bookID)"
   ]
  },
  {
   "cell_type": "markdown",
   "metadata": {},
   "source": [
    "## Title"
   ]
  },
  {
   "cell_type": "code",
   "execution_count": 7,
   "metadata": {},
   "outputs": [
    {
     "name": "stdout",
     "output_type": "stream",
     "text": [
      "+------------+---------------------+\n",
      "|count(title)|count(DISTINCT title)|\n",
      "+------------+---------------------+\n",
      "|       11127|                10352|\n",
      "+------------+---------------------+\n",
      "\n",
      "+------------+---------------------+\n",
      "|count(title)|count(DISTINCT title)|\n",
      "+------------+---------------------+\n",
      "|           0|                    0|\n",
      "+------------+---------------------+\n",
      "\n",
      "+------------+---------------------+\n",
      "|count(title)|count(DISTINCT title)|\n",
      "+------------+---------------------+\n",
      "|           0|                    0|\n",
      "+------------+---------------------+\n",
      "\n",
      "+-----+-------------+\n",
      "|title|length(title)|\n",
      "+-----+-------------+\n",
      "|   V.|            2|\n",
      "|   V.|            2|\n",
      "|   V.|            2|\n",
      "|  Kim|            3|\n",
      "|  Dry|            3|\n",
      "+-----+-------------+\n",
      "only showing top 5 rows\n",
      "\n",
      "+--------------------+-------------+\n",
      "|               title|length(title)|\n",
      "+--------------------+-------------+\n",
      "|Yours in Food  Jo...|          254|\n",
      "|The covert war ag...|          210|\n",
      "|Dr. Mary's Monkey...|          209|\n",
      "|Christian Mythmak...|          202|\n",
      "|My Story as told ...|          198|\n",
      "+--------------------+-------------+\n",
      "only showing top 5 rows\n",
      "\n"
     ]
    }
   ],
   "source": [
    "get_basic_counts(goodreads_df, goodreads_df.title)\n",
    "check_nulls(goodreads_df, goodreads_df.title)\n",
    "check_empty_strings(goodreads_df, goodreads_df.title)\n",
    "check_lengths(goodreads_df, goodreads_df.title)"
   ]
  },
  {
   "cell_type": "markdown",
   "metadata": {},
   "source": [
    "## Authors"
   ]
  },
  {
   "cell_type": "code",
   "execution_count": 8,
   "metadata": {},
   "outputs": [
    {
     "name": "stdout",
     "output_type": "stream",
     "text": [
      "+--------------+-----------------------+\n",
      "|count(authors)|count(DISTINCT authors)|\n",
      "+--------------+-----------------------+\n",
      "|         11127|                   6643|\n",
      "+--------------+-----------------------+\n",
      "\n",
      "+--------------+-----------------------+\n",
      "|count(authors)|count(DISTINCT authors)|\n",
      "+--------------+-----------------------+\n",
      "|             0|                      0|\n",
      "+--------------+-----------------------+\n",
      "\n",
      "+--------------+-----------------------+\n",
      "|count(authors)|count(DISTINCT authors)|\n",
      "+--------------+-----------------------+\n",
      "|             0|                      0|\n",
      "+--------------+-----------------------+\n",
      "\n",
      "+-------+---------------+\n",
      "|authors|length(authors)|\n",
      "+-------+---------------+\n",
      "|    Avi|              3|\n",
      "|    Avi|              3|\n",
      "|    Avi|              3|\n",
      "|  Zolar|              5|\n",
      "|  CLAMP|              5|\n",
      "+-------+---------------+\n",
      "only showing top 5 rows\n",
      "\n",
      "+--------------------+---------------+\n",
      "|             authors|length(authors)|\n",
      "+--------------------+---------------+\n",
      "|Garrison Keillor/...|            750|\n",
      "|Nicholas Dawidoff...|            571|\n",
      "|Plato/John M. Coo...|            540|\n",
      "|James Patterson/T...|            461|\n",
      "|Orson Scott Card/...|            441|\n",
      "+--------------------+---------------+\n",
      "only showing top 5 rows\n",
      "\n"
     ]
    }
   ],
   "source": [
    "get_basic_counts(goodreads_df, goodreads_df.authors)\n",
    "check_nulls(goodreads_df, goodreads_df.authors)\n",
    "check_empty_strings(goodreads_df, goodreads_df.authors)\n",
    "check_lengths(goodreads_df, goodreads_df.authors)"
   ]
  },
  {
   "cell_type": "code",
   "execution_count": 9,
   "metadata": {},
   "outputs": [
    {
     "name": "stdout",
     "output_type": "stream",
     "text": [
      "+----------------+-----------+------------------+------------------+------------------+\n",
      "|         authors|total_title|avg_average_rating|min_average_rating|max_average_rating|\n",
      "+----------------+-----------+------------------+------------------+------------------+\n",
      "|  P.G. Wodehouse|         40| 4.147250026464462|              3.78|              4.48|\n",
      "|    Stephen King|         40| 3.973499995470047|              3.32|              4.54|\n",
      "|Rumiko Takahashi|         39|4.1866667209527435|              3.88|              4.36|\n",
      "|Orson Scott Card|         35|3.7791428702218193|              3.33|              4.49|\n",
      "| Agatha Christie|         33|3.9890909267194345|              3.66|              4.39|\n",
      "+----------------+-----------+------------------+------------------+------------------+\n",
      "only showing top 5 rows\n",
      "\n",
      "+----------------+-----------+------------------+------------------+-----------------+\n",
      "|         authors|total_title| avg_ratings_count|min_ratings_rating|max_ratings_count|\n",
      "+----------------+-----------+------------------+------------------+-----------------+\n",
      "|    Stephen King|         40|          74640.85|                 8|           978535|\n",
      "|  P.G. Wodehouse|         40|          2401.325|                 6|            15598|\n",
      "|Rumiko Takahashi|         39|1161.3333333333333|                 0|            29058|\n",
      "|Orson Scott Card|         35|18758.685714285715|                 3|           190379|\n",
      "| Agatha Christie|         33| 48471.84848484849|                34|           625767|\n",
      "+----------------+-----------+------------------+------------------+-----------------+\n",
      "only showing top 5 rows\n",
      "\n",
      "+----------------+-----------+------------------+-----------------+-----------------+\n",
      "|         authors|total_title| avg_reviews_count|min_reviews_count|max_reviews_count|\n",
      "+----------------+-----------+------------------+-----------------+-----------------+\n",
      "|  P.G. Wodehouse|         40|           138.375|                0|              771|\n",
      "|    Stephen King|         40|          1397.425|                2|            15105|\n",
      "|Rumiko Takahashi|         39|15.076923076923077|                0|              309|\n",
      "|Orson Scott Card|         35|             709.8|                0|             6637|\n",
      "| Agatha Christie|         33| 1618.909090909091|                3|            18785|\n",
      "+----------------+-----------+------------------+-----------------+-----------------+\n",
      "only showing top 5 rows\n",
      "\n"
     ]
    }
   ],
   "source": [
    "(\n",
    "    goodreads_df\n",
    "    .groupBy(goodreads_df.authors)\n",
    "    .agg(\n",
    "        F.count(goodreads_df.title).alias(\"total_title\"),\n",
    "        F.avg(goodreads_df.average_rating).alias(\"avg_average_rating\"),\n",
    "        F.min(goodreads_df.average_rating).alias(\"min_average_rating\"),\n",
    "        F.max(goodreads_df.average_rating).alias(\"max_average_rating\"),\n",
    "     )\n",
    "     .sort(F.desc(\"total_title\"))\n",
    "     .show(5)\n",
    ")\n",
    "(\n",
    "    goodreads_df\n",
    "    .groupBy(goodreads_df.authors)\n",
    "    .agg(\n",
    "        F.count(goodreads_df.title).alias(\"total_title\"),\n",
    "        F.avg(goodreads_df.ratings_count).alias(\"avg_ratings_count\"),        \n",
    "        F.min(goodreads_df.ratings_count).alias(\"min_ratings_rating\"),\n",
    "        F.max(goodreads_df.ratings_count).alias(\"max_ratings_count\"),    \n",
    "     )\n",
    "     .sort(F.desc(\"total_title\"))\n",
    "     .show(5)\n",
    ")\n",
    "(\n",
    "    goodreads_df\n",
    "    .groupBy(goodreads_df.authors)\n",
    "    .agg(\n",
    "        F.count(goodreads_df.title).alias(\"total_title\"),\n",
    "        F.avg(goodreads_df.text_reviews_count).alias(\"avg_reviews_count\"),               \n",
    "        F.min(goodreads_df.text_reviews_count).alias(\"min_reviews_count\"),        \n",
    "        F.max(goodreads_df.text_reviews_count).alias(\"max_reviews_count\"),         \n",
    "     )\n",
    "     .sort(F.desc(\"total_title\"))\n",
    "     .show(5)\n",
    ")"
   ]
  },
  {
   "cell_type": "markdown",
   "metadata": {},
   "source": [
    "## Average Rating"
   ]
  },
  {
   "cell_type": "code",
   "execution_count": 10,
   "metadata": {},
   "outputs": [
    {
     "name": "stdout",
     "output_type": "stream",
     "text": [
      "+---------------------+------------------------------+\n",
      "|count(average_rating)|count(DISTINCT average_rating)|\n",
      "+---------------------+------------------------------+\n",
      "|                11123|                           209|\n",
      "+---------------------+------------------------------+\n",
      "\n",
      "+---------------------+------------------------------+\n",
      "|count(average_rating)|count(DISTINCT average_rating)|\n",
      "+---------------------+------------------------------+\n",
      "|                    0|                             0|\n",
      "+---------------------+------------------------------+\n",
      "\n",
      "+---------------------+-------------------+-------------------+-------------------+\n",
      "|count(average_rating)|avg(average_rating)|min(average_rating)|max(average_rating)|\n",
      "+---------------------+-------------------+-------------------+-------------------+\n",
      "|                11123| 3.9340753506533823|                0.0|                5.0|\n",
      "+---------------------+-------------------+-------------------+-------------------+\n",
      "\n"
     ]
    },
    {
     "data": {
      "image/png": "[encoded data removed]",
      "text/plain": [
       "<Figure size 432x288 with 1 Axes>"
      ]
     },
     "metadata": {
      "needs_background": "light"
     },
     "output_type": "display_data"
    }
   ],
   "source": [
    "get_basic_counts(goodreads_df, goodreads_df.average_rating)\n",
    "check_nulls(goodreads_df, goodreads_df.average_rating)\n",
    "basic_stats(goodreads_df, goodreads_df.average_rating)\n",
    "plot_hist(goodreads_df.select(goodreads_df.average_rating), bins=20, title=\"Average ratings\")"
   ]
  },
  {
   "cell_type": "markdown",
   "metadata": {},
   "source": [
    "## Number of pages"
   ]
  },
  {
   "cell_type": "code",
   "execution_count": 11,
   "metadata": {},
   "outputs": [
    {
     "name": "stdout",
     "output_type": "stream",
     "text": [
      "+----------------+-------------------------+\n",
      "|count(num_pages)|count(DISTINCT num_pages)|\n",
      "+----------------+-------------------------+\n",
      "|           11123|                      997|\n",
      "+----------------+-------------------------+\n",
      "\n",
      "+----------------+-------------------------+\n",
      "|count(num_pages)|count(DISTINCT num_pages)|\n",
      "+----------------+-------------------------+\n",
      "|               0|                        0|\n",
      "+----------------+-------------------------+\n",
      "\n",
      "+----------------+-----------------+--------------+--------------+\n",
      "|count(num_pages)|   avg(num_pages)|min(num_pages)|max(num_pages)|\n",
      "+----------------+-----------------+--------------+--------------+\n",
      "|           11123|336.4055560550211|             0|          6576|\n",
      "+----------------+-----------------+--------------+--------------+\n",
      "\n"
     ]
    },
    {
     "data": {
      "image/png": "[encoded data removed]",
      "text/plain": [
       "<Figure size 432x288 with 1 Axes>"
      ]
     },
     "metadata": {
      "needs_background": "light"
     },
     "output_type": "display_data"
    }
   ],
   "source": [
    "get_basic_counts(goodreads_df, goodreads_df.num_pages)\n",
    "check_nulls(goodreads_df, goodreads_df.num_pages)\n",
    "basic_stats(goodreads_df, goodreads_df.num_pages)\n",
    "plot_hist(goodreads_df.select(goodreads_df.num_pages), bins=20, title=\"Num pages\")"
   ]
  },
  {
   "cell_type": "code",
   "execution_count": 12,
   "metadata": {
    "scrolled": true
   },
   "outputs": [
    {
     "data": {
      "image/png": "[encoded data removed]",
      "text/plain": [
       "<Figure size 432x288 with 1 Axes>"
      ]
     },
     "metadata": {
      "needs_background": "light"
     },
     "output_type": "display_data"
    }
   ],
   "source": [
    "num_pages_df_no_outlier = goodreads_df.select(goodreads_df.num_pages).filter(goodreads_df.num_pages < 2000)\n",
    "plot_hist(num_pages_df_no_outlier, bins=40, title=\"Num pages minus outliers\")"
   ]
  },
  {
   "cell_type": "markdown",
   "metadata": {},
   "source": [
    "## ISBN"
   ]
  },
  {
   "cell_type": "code",
   "execution_count": 13,
   "metadata": {},
   "outputs": [
    {
     "name": "stdout",
     "output_type": "stream",
     "text": [
      "+-----------+--------------------+\n",
      "|count(isbn)|count(DISTINCT isbn)|\n",
      "+-----------+--------------------+\n",
      "|      11127|               11126|\n",
      "+-----------+--------------------+\n",
      "\n",
      "+-----------+--------------------+\n",
      "|count(isbn)|count(DISTINCT isbn)|\n",
      "+-----------+--------------------+\n",
      "|          0|                   0|\n",
      "+-----------+--------------------+\n",
      "\n",
      "+-----------+--------------------+\n",
      "|count(isbn)|count(DISTINCT isbn)|\n",
      "+-----------+--------------------+\n",
      "|          0|                   0|\n",
      "+-----------+--------------------+\n",
      "\n"
     ]
    }
   ],
   "source": [
    "get_basic_counts(goodreads_df, goodreads_df.isbn)\n",
    "check_nulls(goodreads_df, goodreads_df.isbn)\n",
    "check_empty_strings(goodreads_df, goodreads_df.isbn)"
   ]
  },
  {
   "cell_type": "markdown",
   "metadata": {},
   "source": [
    "### Check ISBN lengths\n",
    "\n",
    "Looks like there are some ISBNS with invalid values."
   ]
  },
  {
   "cell_type": "code",
   "execution_count": 14,
   "metadata": {},
   "outputs": [
    {
     "name": "stdout",
     "output_type": "stream",
     "text": [
      "+---------+------------+\n",
      "|     isbn|length(isbn)|\n",
      "+---------+------------+\n",
      "|     3.58|           4|\n",
      "|     0.00|           4|\n",
      "|     3.58|           4|\n",
      "|     3.63|           4|\n",
      "|084386874|           9|\n",
      "+---------+------------+\n",
      "only showing top 5 rows\n",
      "\n",
      "+----------+------------+\n",
      "|      isbn|length(isbn)|\n",
      "+----------+------------+\n",
      "|0439785960|          10|\n",
      "|0439358078|          10|\n",
      "|0439554896|          10|\n",
      "|043965548X|          10|\n",
      "|0439682584|          10|\n",
      "+----------+------------+\n",
      "only showing top 5 rows\n",
      "\n"
     ]
    }
   ],
   "source": [
    "check_lengths(goodreads_df, goodreads_df.isbn)"
   ]
  },
  {
   "cell_type": "markdown",
   "metadata": {},
   "source": [
    "## ISBN13"
   ]
  },
  {
   "cell_type": "code",
   "execution_count": 15,
   "metadata": {},
   "outputs": [
    {
     "name": "stdout",
     "output_type": "stream",
     "text": [
      "+-------------+----------------------+\n",
      "|count(isbn13)|count(DISTINCT isbn13)|\n",
      "+-------------+----------------------+\n",
      "|        11127|                 11127|\n",
      "+-------------+----------------------+\n",
      "\n",
      "+-------------+----------------------+\n",
      "|count(isbn13)|count(DISTINCT isbn13)|\n",
      "+-------------+----------------------+\n",
      "|            0|                     0|\n",
      "+-------------+----------------------+\n",
      "\n",
      "+-------------+----------------------+\n",
      "|count(isbn13)|count(DISTINCT isbn13)|\n",
      "+-------------+----------------------+\n",
      "|            0|                     0|\n",
      "+-------------+----------------------+\n",
      "\n"
     ]
    }
   ],
   "source": [
    "get_basic_counts(goodreads_df, goodreads_df.isbn13)\n",
    "check_nulls(goodreads_df, goodreads_df.isbn13)\n",
    "check_empty_strings(goodreads_df, goodreads_df.isbn13)"
   ]
  },
  {
   "cell_type": "markdown",
   "metadata": {},
   "source": [
    "## Check ISBN13 lengths\n",
    "\n",
    "Looks like there are a few ISBNs instead ISBN13s"
   ]
  },
  {
   "cell_type": "code",
   "execution_count": 16,
   "metadata": {},
   "outputs": [
    {
     "name": "stdout",
     "output_type": "stream",
     "text": [
      "+-------------+--------------+\n",
      "|       isbn13|length(isbn13)|\n",
      "+-------------+--------------+\n",
      "|   0674842111|            10|\n",
      "|   0851742718|            10|\n",
      "|   1593600119|            10|\n",
      "|   156384155X|            10|\n",
      "|9780439785969|            13|\n",
      "+-------------+--------------+\n",
      "only showing top 5 rows\n",
      "\n",
      "+-------------+--------------+\n",
      "|       isbn13|length(isbn13)|\n",
      "+-------------+--------------+\n",
      "|9780439785969|            13|\n",
      "|9780439358071|            13|\n",
      "|9780439554893|            13|\n",
      "|9780439655484|            13|\n",
      "|9780439682589|            13|\n",
      "+-------------+--------------+\n",
      "only showing top 5 rows\n",
      "\n"
     ]
    }
   ],
   "source": [
    "check_lengths(goodreads_df, goodreads_df.isbn13)"
   ]
  },
  {
   "cell_type": "markdown",
   "metadata": {},
   "source": [
    "## Language code"
   ]
  },
  {
   "cell_type": "code",
   "execution_count": 17,
   "metadata": {},
   "outputs": [
    {
     "name": "stdout",
     "output_type": "stream",
     "text": [
      "+--------------------+-----------------------------+\n",
      "|count(language_code)|count(DISTINCT language_code)|\n",
      "+--------------------+-----------------------------+\n",
      "|               11127|                           31|\n",
      "+--------------------+-----------------------------+\n",
      "\n",
      "+--------------------+-----------------------------+\n",
      "|count(language_code)|count(DISTINCT language_code)|\n",
      "+--------------------+-----------------------------+\n",
      "|                   0|                            0|\n",
      "+--------------------+-----------------------------+\n",
      "\n",
      "+--------------------+-----------------------------+\n",
      "|count(language_code)|count(DISTINCT language_code)|\n",
      "+--------------------+-----------------------------+\n",
      "|                   0|                            0|\n",
      "+--------------------+-----------------------------+\n",
      "\n"
     ]
    }
   ],
   "source": [
    "get_basic_counts(goodreads_df, goodreads_df.language_code)\n",
    "check_nulls(goodreads_df, goodreads_df.language_code)\n",
    "check_empty_strings(goodreads_df, goodreads_df.language_code)"
   ]
  },
  {
   "cell_type": "markdown",
   "metadata": {},
   "source": [
    "### Check unique language codes\n",
    "\n",
    "Looks like some language codes are ISBNs."
   ]
  },
  {
   "cell_type": "code",
   "execution_count": 18,
   "metadata": {},
   "outputs": [
    {
     "name": "stdout",
     "output_type": "stream",
     "text": [
      "+-------------+\n",
      "|language_code|\n",
      "+-------------+\n",
      "|          zho|\n",
      "|          wel|\n",
      "|          tur|\n",
      "|          swe|\n",
      "|          srp|\n",
      "|          spa|\n",
      "|          rus|\n",
      "|          por|\n",
      "|          nor|\n",
      "|           nl|\n",
      "|          mul|\n",
      "|          msa|\n",
      "|          lat|\n",
      "|          jpn|\n",
      "|          ita|\n",
      "|          grc|\n",
      "|          glg|\n",
      "|          gla|\n",
      "|          ger|\n",
      "|          fre|\n",
      "|          enm|\n",
      "|          eng|\n",
      "|        en-US|\n",
      "|        en-GB|\n",
      "|        en-CA|\n",
      "|          ara|\n",
      "|          ale|\n",
      "|9781593600112|\n",
      "|9781563841552|\n",
      "|9780851742717|\n",
      "|9780674842113|\n",
      "+-------------+\n",
      "\n"
     ]
    }
   ],
   "source": [
    "(\n",
    "    goodreads_df\n",
    "    .select(goodreads_df.language_code)\n",
    "    .distinct()\n",
    "    .sort(goodreads_df.language_code.desc()).show(31)\n",
    ")"
   ]
  },
  {
   "cell_type": "markdown",
   "metadata": {},
   "source": [
    "## Ratings count"
   ]
  },
  {
   "cell_type": "code",
   "execution_count": 19,
   "metadata": {},
   "outputs": [
    {
     "name": "stdout",
     "output_type": "stream",
     "text": [
      "+--------------------+-----------------------------+\n",
      "|count(ratings_count)|count(DISTINCT ratings_count)|\n",
      "+--------------------+-----------------------------+\n",
      "|               11127|                         5294|\n",
      "+--------------------+-----------------------------+\n",
      "\n",
      "+--------------------+-----------------------------+\n",
      "|count(ratings_count)|count(DISTINCT ratings_count)|\n",
      "+--------------------+-----------------------------+\n",
      "|                   0|                            0|\n",
      "+--------------------+-----------------------------+\n",
      "\n",
      "+--------------------+------------------+------------------+------------------+\n",
      "|count(ratings_count)|avg(ratings_count)|min(ratings_count)|max(ratings_count)|\n",
      "+--------------------+------------------+------------------+------------------+\n",
      "|               11127|17936.490159072528|                 0|           4597666|\n",
      "+--------------------+------------------+------------------+------------------+\n",
      "\n"
     ]
    },
    {
     "data": {
      "image/png": "[encoded data removed]",
      "text/plain": [
       "<Figure size 432x288 with 1 Axes>"
      ]
     },
     "metadata": {
      "needs_background": "light"
     },
     "output_type": "display_data"
    }
   ],
   "source": [
    "get_basic_counts(goodreads_df, goodreads_df.ratings_count)\n",
    "check_nulls(goodreads_df, goodreads_df.ratings_count)\n",
    "basic_stats(goodreads_df, goodreads_df.ratings_count)\n",
    "plot_hist(goodreads_df.select(goodreads_df.ratings_count), bins=20, title=\"Ratings count\")"
   ]
  },
  {
   "cell_type": "code",
   "execution_count": 20,
   "metadata": {},
   "outputs": [
    {
     "data": {
      "image/png": "[encoded data removed]",
      "text/plain": [
       "<Figure size 432x288 with 1 Axes>"
      ]
     },
     "metadata": {
      "needs_background": "light"
     },
     "output_type": "display_data"
    }
   ],
   "source": [
    "plot_hist(\n",
    "    goodreads_df.select(goodreads_df.ratings_count).filter(goodreads_df.ratings_count < 50000), \n",
    "    bins=20, \n",
    "    title=\"Ratings count without outliers\",\n",
    ")\n"
   ]
  },
  {
   "cell_type": "markdown",
   "metadata": {},
   "source": [
    "## Text reviews count"
   ]
  },
  {
   "cell_type": "code",
   "execution_count": 21,
   "metadata": {},
   "outputs": [
    {
     "name": "stdout",
     "output_type": "stream",
     "text": [
      "+-------------------------+----------------------------------+\n",
      "|count(text_reviews_count)|count(DISTINCT text_reviews_count)|\n",
      "+-------------------------+----------------------------------+\n",
      "|                    11127|                              1822|\n",
      "+-------------------------+----------------------------------+\n",
      "\n",
      "+-------------------------+----------------------------------+\n",
      "|count(text_reviews_count)|count(DISTINCT text_reviews_count)|\n",
      "+-------------------------+----------------------------------+\n",
      "|                        0|                                 0|\n",
      "+-------------------------+----------------------------------+\n",
      "\n",
      "+-------------------------+-----------------------+-----------------------+-----------------------+\n",
      "|count(text_reviews_count)|avg(text_reviews_count)|min(text_reviews_count)|max(text_reviews_count)|\n",
      "+-------------------------+-----------------------+-----------------------+-----------------------+\n",
      "|                    11127|      541.8644738024625|                      0|                  94265|\n",
      "+-------------------------+-----------------------+-----------------------+-----------------------+\n",
      "\n"
     ]
    },
    {
     "data": {
      "image/png": "[encoded data removed]",
      "text/plain": [
       "<Figure size 432x288 with 1 Axes>"
      ]
     },
     "metadata": {
      "needs_background": "light"
     },
     "output_type": "display_data"
    }
   ],
   "source": [
    "get_basic_counts(goodreads_df, goodreads_df.text_reviews_count)\n",
    "check_nulls(goodreads_df, goodreads_df.text_reviews_count)\n",
    "basic_stats(goodreads_df, goodreads_df.text_reviews_count)\n",
    "plot_hist(goodreads_df.select(goodreads_df.text_reviews_count), bins=20, title=\"Text reviews count\")"
   ]
  },
  {
   "cell_type": "markdown",
   "metadata": {},
   "source": [
    "## Publication date\n",
    "\n",
    "The 1900-01-01 date sounds suspicious since in Python27 the date class had bug with dates earlier than 1900. Is it the case in Python38 as well?"
   ]
  },
  {
   "cell_type": "code",
   "execution_count": 23,
   "metadata": {},
   "outputs": [
    {
     "name": "stdout",
     "output_type": "stream",
     "text": [
      "+--------------------------+-----------------------------------+\n",
      "|count(publication_date_ts)|count(DISTINCT publication_date_ts)|\n",
      "+--------------------------+-----------------------------------+\n",
      "|                     11121|                               3677|\n",
      "+--------------------------+-----------------------------------+\n",
      "\n",
      "+--------------------------+-----------------------------------+\n",
      "|count(publication_date_ts)|count(DISTINCT publication_date_ts)|\n",
      "+--------------------------+-----------------------------------+\n",
      "|                         0|                                  0|\n",
      "+--------------------------+-----------------------------------+\n",
      "\n",
      "+--------------------------+------------------------+------------------------+------------------------+\n",
      "|count(publication_date_ts)|avg(publication_date_ts)|min(publication_date_ts)|max(publication_date_ts)|\n",
      "+--------------------------+------------------------+------------------------+------------------------+\n",
      "|                     11121|     9.675450212031292E8|     1900-01-01 00:00:00|     2020-03-31 00:00:00|\n",
      "+--------------------------+------------------------+------------------------+------------------------+\n",
      "\n"
     ]
    }
   ],
   "source": [
    "get_basic_counts(goodreads_df, goodreads_df.publication_date_ts)\n",
    "check_nulls(goodreads_df, goodreads_df.publication_date_ts)\n",
    "basic_stats(goodreads_df, goodreads_df.publication_date_ts)"
   ]
  },
  {
   "cell_type": "markdown",
   "metadata": {},
   "source": [
    "## Publicator"
   ]
  },
  {
   "cell_type": "code",
   "execution_count": 25,
   "metadata": {},
   "outputs": [
    {
     "name": "stdout",
     "output_type": "stream",
     "text": [
      "+-----------------+--------------------------+\n",
      "|count(publicater)|count(DISTINCT publicater)|\n",
      "+-----------------+--------------------------+\n",
      "|            11127|                      2294|\n",
      "+-----------------+--------------------------+\n",
      "\n",
      "+-----------------+--------------------------+\n",
      "|count(publicater)|count(DISTINCT publicater)|\n",
      "+-----------------+--------------------------+\n",
      "|                0|                         0|\n",
      "+-----------------+--------------------------+\n",
      "\n",
      "+----------+------------------+\n",
      "|publicater|length(publicater)|\n",
      "+----------+------------------+\n",
      "|        DK|                 2|\n",
      "|      東立|                 2|\n",
      "|        DK|                 2|\n",
      "|      東立|                 2|\n",
      "|      東立|                 2|\n",
      "+----------+------------------+\n",
      "only showing top 5 rows\n",
      "\n",
      "+--------------------+------------------+\n",
      "|          publicater|length(publicater)|\n",
      "+--------------------+------------------+\n",
      "|Harvard Universit...|                67|\n",
      "|Crown Journeys/Cr...|                67|\n",
      "|Prentice Hall/Sim...|                61|\n",
      "|Woodrow Wilson Ce...|                60|\n",
      "|Omohundro Institu...|                58|\n",
      "+--------------------+------------------+\n",
      "only showing top 5 rows\n",
      "\n"
     ]
    }
   ],
   "source": [
    "get_basic_counts(goodreads_df, goodreads_df.publicater)\n",
    "check_nulls(goodreads_df, goodreads_df.publicater)\n",
    "check_lengths(goodreads_df, goodreads_df.publicater)"
   ]
  },
  {
   "cell_type": "code",
   "execution_count": 32,
   "metadata": {},
   "outputs": [
    {
     "name": "stdout",
     "output_type": "stream",
     "text": [
      "+--------------------+\n",
      "|          publicater|\n",
      "+--------------------+\n",
      "|           SCM Press|\n",
      "|Saddleback Educat...|\n",
      "|Sage Publications...|\n",
      "|Sage Publications...|\n",
      "|           Sagebrush|\n",
      "|          Salamandra|\n",
      "|              Salani|\n",
      "|     Salem Press Inc|\n",
      "|           SaltRiver|\n",
      "|  Samhain Publishing|\n",
      "|                Sams|\n",
      "| Samuel French  Inc.|\n",
      "|   Samuel French Ltd|\n",
      "|             San Val|\n",
      "|Santillana USA Pu...|\n",
      "|Sarah Crichton Books|\n",
      "|     Sasquatch Books|\n",
      "|            Saunders|\n",
      "|             Sceptre|\n",
      "|      Schirmer Mosel|\n",
      "+--------------------+\n",
      "only showing top 20 rows\n",
      "\n"
     ]
    }
   ],
   "source": [
    "(\n",
    "    goodreads_df\n",
    "    .select(goodreads_df.publicater)\n",
    "    .distinct()\n",
    "    .filter(F.lower(goodreads_df.publicater).startswith(\"s\"))\n",
    "    .sort(goodreads_df.publicater.asc()).show()\n",
    ")"
   ]
  },
  {
   "cell_type": "code",
   "execution_count": null,
   "metadata": {},
   "outputs": [],
   "source": []
  }
 ],
 "metadata": {
  "kernelspec": {
   "display_name": "Python 3",
   "language": "python",
   "name": "python3"
  },
  "language_info": {
   "codemirror_mode": {
    "name": "ipython",
    "version": 3
   },
   "file_extension": ".py",
   "mimetype": "text/x-python",
   "name": "python",
   "nbconvert_exporter": "python",
   "pygments_lexer": "ipython3",
   "version": "3.7.4"
  }
 },
 "nbformat": 4,
 "nbformat_minor": 2
}
