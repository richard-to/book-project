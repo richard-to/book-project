{
 "metadata": {
  "language_info": {
   "codemirror_mode": {
    "name": "ipython",
    "version": 3
   },
   "file_extension": ".py",
   "mimetype": "text/x-python",
   "name": "python",
   "nbconvert_exporter": "python",
   "pygments_lexer": "ipython3",
   "version": "3.7.4-final"
  },
  "orig_nbformat": 2,
  "kernelspec": {
   "name": "python3",
   "display_name": "Python 3",
   "language": "python"
  }
 },
 "nbformat": 4,
 "nbformat_minor": 2,
 "cells": [
  {
   "source": [
    "# Seattle Public Library (SPL) data analysis (inventory)\n",
    "\n",
    "This notebook performs some exploratory analysis on the [Seattle Public Library Checkout Records dataset](https://www.kaggle.com/seattle-public-library/seattle-library-checkout-records) found on Kaggle.\n",
    "\n",
    "This notebook will be exploring the inventory file that contains a list of books at the SPL."
   ],
   "cell_type": "markdown",
   "metadata": {}
  },
  {
   "source": [
    "## Set up and load data"
   ],
   "cell_type": "markdown",
   "metadata": {}
  },
  {
   "cell_type": "code",
   "execution_count": 1,
   "metadata": {},
   "outputs": [],
   "source": [
    "import os\n",
    "\n",
    "import findspark\n",
    "findspark.init()\n",
    "\n",
    "from dotenv import load_dotenv\n",
    "import matplotlib.pyplot as plt\n",
    "from pyspark.sql import SparkSession\n",
    "import pyspark.sql.functions as F\n",
    "from pyspark.sql.types import IntegerType, FloatType, StringType, StructField, StructType\n",
    "from pyspark_dist_explore import hist\n",
    "\n",
    "%matplotlib inline\n",
    "\n",
    "spark = SparkSession.builder.appName(\"ExploreSplInventory\").getOrCreate()"
   ]
  },
  {
   "cell_type": "code",
   "execution_count": 2,
   "metadata": {},
   "outputs": [],
   "source": [
    "load_dotenv()\n",
    "\n",
    "SPL_INVENTORY_PATH = os.getenv(\"SPL_INVENTORY_PATH\")"
   ]
  },
  {
   "cell_type": "code",
   "execution_count": 3,
   "metadata": {},
   "outputs": [],
   "source": [
    "spl_df = spark.read.option(\"header\", \"true\").csv(SPL_INVENTORY_PATH)\n",
    "\n",
    "# Add a column that stores report date as a datetime object\n",
    "spl_df = spl_df.withColumn(\n",
    "    \"ReportDateTS\", \n",
    "    F.to_timestamp(spl_df.ReportDate, \"MM/dd/yyyy\"),\n",
    ")"
   ]
  },
  {
   "source": [
    "# Helpers\n",
    "This section contains some helper functions that will be reused when analyzing each column."
   ],
   "cell_type": "markdown",
   "metadata": {}
  },
  {
   "source": [
    "def get_basic_counts(df, col):\n",
    "    df.agg(\n",
    "        F.count(col),\n",
    "        F.countDistinct(col),\n",
    "    ).show()\n",
    "    \n",
    "    \n",
    "def check_nulls(df, null_col, id_coll):\n",
    "    df.where(null_col.isNull()).agg(\n",
    "        F.count(id_coll),\n",
    "        F.countDistinct(id_coll),\n",
    "    ).show()\n",
    "\n",
    "    \n",
    "def check_empty_strings(df, col):\n",
    "    df.where(col == \"\").agg(\n",
    "        F.count(col),\n",
    "        F.countDistinct(col),\n",
    "    ).show()\n",
    "   \n",
    "\n",
    "def check_lengths(df, col):\n",
    "    (\n",
    "        df\n",
    "        .select(col, F.length(col))\n",
    "        .sort(F.length(col).asc())\n",
    "        .show(5) \n",
    "    )\n",
    "    (\n",
    "        df\n",
    "        .select(col, F.length(col))\n",
    "        .sort(F.length(col).desc())\n",
    "        .show(5) \n",
    "    )\n",
    "    \n",
    "    \n",
    "def basic_stats(df, col):\n",
    "    df.agg(\n",
    "        F.count(col),\n",
    "        F.avg(col),        \n",
    "        F.min(col),\n",
    "        F.max(col),\n",
    "    ).show() \n",
    "    \n",
    "    \n",
    "def plot_hist(df, bins, title=None):\n",
    "    fig, ax = plt.subplots()\n",
    "    hist(ax, df, bins=bins, color=[\"blue\"])\n",
    "    if title:\n",
    "        ax.set_title(title)\n",
    "        _ = ax.legend()   "
   ],
   "cell_type": "code",
   "metadata": {},
   "execution_count": 4,
   "outputs": []
  },
  {
   "source": [
    "## Inspect table"
   ],
   "cell_type": "markdown",
   "metadata": {}
  },
  {
   "cell_type": "code",
   "execution_count": 5,
   "metadata": {},
   "outputs": [
    {
     "output_type": "stream",
     "name": "stdout",
     "text": [
      "+-------+--------------------+--------------------+--------------------+---------------+--------------------+--------------------+--------+--------------+------------+------------+----------+---------+-------------------+\n| BibNum|               Title|              Author|                ISBN|PublicationYear|           Publisher|            Subjects|ItemType|ItemCollection|FloatingItem|ItemLocation|ReportDate|ItemCount|       ReportDateTS|\n+-------+--------------------+--------------------+--------------------+---------------+--------------------+--------------------+--------+--------------+------------+------------+----------+---------+-------------------+\n|3011076|A tale of two fri...|       O'Ryan, Ellie|1481425730, 14814...|          2014.|    Simon Spotlight,|Musicians Fiction...|    jcbk|         ncrdr|    Floating|         qna|09/01/2017|        1|2017-09-01 00:00:00|\n|2248846|Naruto. Vol. 1, U...|Kishimoto, Masash...|          1569319006|   2003, c1999.|                Viz,|Ninja Japan Comic...|    acbk|       nycomic|          NA|         lcy|09/01/2017|        1|2017-09-01 00:00:00|\n|3209270|Peace, love & Wi-...| Scott, Jerry, 1955-|144945867X, 97814...|          2014.|Andrews McMeel Pu...|Duncan Jeremy Fic...|    acbk|       nycomic|          NA|         bea|09/01/2017|        1|2017-09-01 00:00:00|\n|1907265|The Paris pilgrim...|Carlile, Clancy, ...|          0786706155|         c1999.|     Carroll & Graf,|Hemingway Ernest ...|    acbk|         cafic|          NA|         cen|09/01/2017|        1|2017-09-01 00:00:00|\n|1644616|Erotic by nature ...|                null|          094020813X|   1991, c1988.|Red Alder Books/D...|Erotic literature...|    acbk|          canf|          NA|         cen|09/01/2017|        1|2017-09-01 00:00:00|\n+-------+--------------------+--------------------+--------------------+---------------+--------------------+--------------------+--------+--------------+------------+------------+----------+---------+-------------------+\nonly showing top 5 rows\n\n"
     ]
    }
   ],
   "source": [
    "spl_df.show(5)"
   ]
  },
  {
   "source": [
    "## BibNum\n",
    "\n",
    "- What is the reason for so few distinct BibNums?\n",
    "- Is BibNum sequentially?"
   ],
   "cell_type": "markdown",
   "metadata": {}
  },
  {
   "cell_type": "code",
   "execution_count": 6,
   "metadata": {},
   "outputs": [
    {
     "output_type": "stream",
     "name": "stdout",
     "text": [
      "+-------------+----------------------+\n",
      "|count(BibNum)|count(DISTINCT BibNum)|\n",
      "+-------------+----------------------+\n",
      "|      2687149|                584391|\n",
      "+-------------+----------------------+\n",
      "\n",
      "+------------+---------------------+\n",
      "|count(Title)|count(DISTINCT Title)|\n",
      "+------------+---------------------+\n",
      "|           0|                    0|\n",
      "+------------+---------------------+\n",
      "\n",
      "+-------------+----------------------+\n",
      "|count(BibNum)|count(DISTINCT BibNum)|\n",
      "+-------------+----------------------+\n",
      "|            0|                     0|\n",
      "+-------------+----------------------+\n",
      "\n",
      "+------+--------------+\n",
      "|BibNum|length(BibNum)|\n",
      "+------+--------------+\n",
      "|     4|             1|\n",
      "|     7|             1|\n",
      "|     7|             1|\n",
      "|     4|             1|\n",
      "|    91|             2|\n",
      "+------+--------------+\n",
      "only showing top 5 rows\n",
      "\n",
      "+-------+--------------+\n",
      "| BibNum|length(BibNum)|\n",
      "+-------+--------------+\n",
      "|3202727|             7|\n",
      "|3225705|             7|\n",
      "|3053201|             7|\n",
      "|2512885|             7|\n",
      "|2809185|             7|\n",
      "+-------+--------------+\n",
      "only showing top 5 rows\n",
      "\n"
     ]
    }
   ],
   "source": [
    "get_basic_counts(spl_df, spl_df.BibNum)\n",
    "check_nulls(spl_df, spl_df.BibNum, spl_df.Title)\n",
    "check_empty_strings(spl_df, spl_df.BibNum)\n",
    "check_lengths(spl_df, spl_df.BibNum)"
   ]
  },
  {
   "source": [
    "## Title\n",
    "\n",
    "- Interestingly a lot of duplicate titles. Also appears to be close to the number of distinct BibNums.\n",
    "- Some titles have nulls"
   ],
   "cell_type": "markdown",
   "metadata": {}
  },
  {
   "cell_type": "code",
   "execution_count": 7,
   "metadata": {},
   "outputs": [
    {
     "output_type": "stream",
     "name": "stdout",
     "text": [
      "+------------+---------------------+\n",
      "|count(Title)|count(DISTINCT Title)|\n",
      "+------------+---------------------+\n",
      "|     2672825|               567617|\n",
      "+------------+---------------------+\n",
      "\n",
      "+-------------+----------------------+\n",
      "|count(BibNum)|count(DISTINCT BibNum)|\n",
      "+-------------+----------------------+\n",
      "|        14324|                  7158|\n",
      "+-------------+----------------------+\n",
      "\n",
      "+------------+---------------------+\n",
      "|count(Title)|count(DISTINCT Title)|\n",
      "+------------+---------------------+\n",
      "|           0|                    0|\n",
      "+------------+---------------------+\n",
      "\n",
      "+-----+-------------+\n",
      "|Title|length(Title)|\n",
      "+-----+-------------+\n",
      "| null|         null|\n",
      "| null|         null|\n",
      "| null|         null|\n",
      "| null|         null|\n",
      "| null|         null|\n",
      "+-----+-------------+\n",
      "only showing top 5 rows\n",
      "\n",
      "+--------------------+-------------+\n",
      "|               Title|length(Title)|\n",
      "+--------------------+-------------+\n",
      "|Nation's forests ...|         1228|\n",
      "|Nation's forests ...|         1228|\n",
      "|Nominations of Jo...|         1165|\n",
      "|Nominations of Jo...|         1165|\n",
      "|El apóstata [vide...|         1154|\n",
      "+--------------------+-------------+\n",
      "only showing top 5 rows\n",
      "\n"
     ]
    }
   ],
   "source": [
    "get_basic_counts(spl_df, spl_df.Title)\n",
    "check_nulls(spl_df, spl_df.Title, spl_df.BibNum)\n",
    "check_empty_strings(spl_df, spl_df.Title)\n",
    "check_lengths(spl_df, spl_df.Title)"
   ]
  },
  {
   "source": [
    "## Author\n",
    "\n",
    "- Some null authors \n",
    "- Mostly distinct authors (messy field, may need to clean up)"
   ],
   "cell_type": "markdown",
   "metadata": {}
  },
  {
   "cell_type": "code",
   "execution_count": 8,
   "metadata": {},
   "outputs": [
    {
     "output_type": "stream",
     "name": "stdout",
     "text": [
      "+-------------+----------------------+\n",
      "|count(Author)|count(DISTINCT Author)|\n",
      "+-------------+----------------------+\n",
      "|      2260911|                218757|\n",
      "+-------------+----------------------+\n",
      "\n",
      "+-------------+----------------------+\n",
      "|count(BibNum)|count(DISTINCT BibNum)|\n",
      "+-------------+----------------------+\n",
      "|       426238|                 92782|\n",
      "+-------------+----------------------+\n",
      "\n",
      "+-------------+----------------------+\n",
      "|count(Author)|count(DISTINCT Author)|\n",
      "+-------------+----------------------+\n",
      "|            0|                     0|\n",
      "+-------------+----------------------+\n",
      "\n",
      "+------+--------------+\n",
      "|Author|length(Author)|\n",
      "+------+--------------+\n",
      "|  null|          null|\n",
      "|  null|          null|\n",
      "|  null|          null|\n",
      "|  null|          null|\n",
      "|  null|          null|\n",
      "+------+--------------+\n",
      "only showing top 5 rows\n",
      "\n",
      "+--------------------+--------------+\n",
      "|              Author|length(Author)|\n",
      "+--------------------+--------------+\n",
      "| famous scout and...|           217|\n",
      "| famous scout and...|           217|\n",
      "| 1792-1811 : a br...|           205|\n",
      "| 1792-1811 : a br...|           205|\n",
      "|United States. Co...|           199|\n",
      "+--------------------+--------------+\n",
      "only showing top 5 rows\n",
      "\n"
     ]
    }
   ],
   "source": [
    "get_basic_counts(spl_df, spl_df.Author)\n",
    "check_nulls(spl_df, spl_df.Author, spl_df.BibNum)\n",
    "check_empty_strings(spl_df, spl_df.Author)\n",
    "check_lengths(spl_df, spl_df.Author)"
   ]
  },
  {
   "source": [
    "# ISBN\n",
    "\n",
    "- Some ISBNs are NULL which will make it harder to link up a book\n",
    "- Some very long ISBN lists"
   ],
   "cell_type": "markdown",
   "metadata": {}
  },
  {
   "cell_type": "code",
   "execution_count": 9,
   "metadata": {},
   "outputs": [
    {
     "output_type": "stream",
     "name": "stdout",
     "text": [
      "+-----------+--------------------+\n",
      "|count(ISBN)|count(DISTINCT ISBN)|\n",
      "+-----------+--------------------+\n",
      "|    2099924|              397501|\n",
      "+-----------+--------------------+\n",
      "\n",
      "+-------------+----------------------+\n",
      "|count(BibNum)|count(DISTINCT BibNum)|\n",
      "+-------------+----------------------+\n",
      "|       587225|                186210|\n",
      "+-------------+----------------------+\n",
      "\n",
      "+-----------+--------------------+\n",
      "|count(ISBN)|count(DISTINCT ISBN)|\n",
      "+-----------+--------------------+\n",
      "|          0|                   0|\n",
      "+-----------+--------------------+\n",
      "\n",
      "+----+------------+\n",
      "|ISBN|length(ISBN)|\n",
      "+----+------------+\n",
      "|null|        null|\n",
      "|null|        null|\n",
      "|null|        null|\n",
      "|null|        null|\n",
      "|null|        null|\n",
      "+----+------------+\n",
      "only showing top 5 rows\n",
      "\n",
      "+--------------------+------------+\n",
      "|                ISBN|length(ISBN)|\n",
      "+--------------------+------------+\n",
      "|0788403923, 07884...|        1186|\n",
      "|0788403923, 07884...|        1186|\n",
      "|0691015856, 06910...|        1159|\n",
      "|0691015856, 06910...|        1159|\n",
      "|0806352604, 08063...|         997|\n",
      "+--------------------+------------+\n",
      "only showing top 5 rows\n",
      "\n"
     ]
    }
   ],
   "source": [
    "get_basic_counts(spl_df, spl_df.ISBN)\n",
    "check_nulls(spl_df, spl_df.ISBN, spl_df.BibNum)\n",
    "check_empty_strings(spl_df, spl_df.ISBN)\n",
    "check_lengths(spl_df, spl_df.ISBN)"
   ]
  },
  {
   "source": [
    "## Publication Year\n",
    "\n",
    "- Has NULLs\n",
    "- Not very clean"
   ],
   "cell_type": "markdown",
   "metadata": {}
  },
  {
   "cell_type": "code",
   "execution_count": 10,
   "metadata": {},
   "outputs": [
    {
     "output_type": "stream",
     "name": "stdout",
     "text": [
      "+----------------------+-------------------------------+\n",
      "|count(PublicationYear)|count(DISTINCT PublicationYear)|\n",
      "+----------------------+-------------------------------+\n",
      "|               2654773|                          16225|\n",
      "+----------------------+-------------------------------+\n",
      "\n",
      "+-------------+----------------------+\n",
      "|count(BibNum)|count(DISTINCT BibNum)|\n",
      "+-------------+----------------------+\n",
      "|        32376|                 14841|\n",
      "+-------------+----------------------+\n",
      "\n",
      "+----------------------+-------------------------------+\n",
      "|count(PublicationYear)|count(DISTINCT PublicationYear)|\n",
      "+----------------------+-------------------------------+\n",
      "|                     0|                              0|\n",
      "+----------------------+-------------------------------+\n",
      "\n",
      "+---------------+-----------------------+\n",
      "|PublicationYear|length(PublicationYear)|\n",
      "+---------------+-----------------------+\n",
      "|           null|                   null|\n",
      "|           null|                   null|\n",
      "|           null|                   null|\n",
      "|           null|                   null|\n",
      "|           null|                   null|\n",
      "+---------------+-----------------------+\n",
      "only showing top 5 rows\n",
      "\n",
      "+--------------------+-----------------------+\n",
      "|     PublicationYear|length(PublicationYear)|\n",
      "+--------------------+-----------------------+\n",
      "| Tom Reed ; direc...|                    244|\n",
      "| Tom Reed ; direc...|                    244|\n",
      "| Tom Reed ; direc...|                    244|\n",
      "| Tom Reed ; direc...|                    244|\n",
      "| directing the Co...|                    195|\n",
      "+--------------------+-----------------------+\n",
      "only showing top 5 rows\n",
      "\n"
     ]
    }
   ],
   "source": [
    "get_basic_counts(spl_df, spl_df.PublicationYear)\n",
    "check_nulls(spl_df, spl_df.PublicationYear, spl_df.BibNum)\n",
    "check_empty_strings(spl_df, spl_df.PublicationYear)\n",
    "check_lengths(spl_df, spl_df.PublicationYear)"
   ]
  },
  {
   "source": [
    "## Publisher\n",
    "\n",
    "- Has NULLs"
   ],
   "cell_type": "markdown",
   "metadata": {}
  },
  {
   "cell_type": "code",
   "execution_count": 11,
   "metadata": {},
   "outputs": [
    {
     "output_type": "stream",
     "name": "stdout",
     "text": [
      "+----------------+-------------------------+\n",
      "|count(Publisher)|count(DISTINCT Publisher)|\n",
      "+----------------+-------------------------+\n",
      "|         2649210|                    96894|\n",
      "+----------------+-------------------------+\n",
      "\n",
      "+-------------+----------------------+\n",
      "|count(BibNum)|count(DISTINCT BibNum)|\n",
      "+-------------+----------------------+\n",
      "|        37939|                 18362|\n",
      "+-------------+----------------------+\n",
      "\n",
      "+----------------+-------------------------+\n",
      "|count(Publisher)|count(DISTINCT Publisher)|\n",
      "+----------------+-------------------------+\n",
      "|               0|                        0|\n",
      "+----------------+-------------------------+\n",
      "\n",
      "+---------+-----------------+\n",
      "|Publisher|length(Publisher)|\n",
      "+---------+-----------------+\n",
      "|     null|             null|\n",
      "|     null|             null|\n",
      "|     null|             null|\n",
      "|     null|             null|\n",
      "|     null|             null|\n",
      "+---------+-----------------+\n",
      "only showing top 5 rows\n",
      "\n",
      "+--------------------+-----------------+\n",
      "|           Publisher|length(Publisher)|\n",
      "+--------------------+-----------------+\n",
      "|Published for the...|              389|\n",
      "|Published for the...|              389|\n",
      "|Published for the...|              360|\n",
      "|Published for the...|              360|\n",
      "|Published for the...|              336|\n",
      "+--------------------+-----------------+\n",
      "only showing top 5 rows\n",
      "\n"
     ]
    }
   ],
   "source": [
    "get_basic_counts(spl_df, spl_df.Publisher)\n",
    "check_nulls(spl_df, spl_df.Publisher, spl_df.BibNum)\n",
    "check_empty_strings(spl_df, spl_df.Publisher)\n",
    "check_lengths(spl_df, spl_df.Publisher)"
   ]
  },
  {
   "source": [
    "### Check possibility of duplicates\n",
    "\n",
    "- There may be duplicate publishers"
   ],
   "cell_type": "markdown",
   "metadata": {}
  },
  {
   "cell_type": "code",
   "execution_count": 19,
   "metadata": {},
   "outputs": [
    {
     "output_type": "stream",
     "name": "stdout",
     "text": [
      "+--------------------+\n|           Publisher|\n+--------------------+\n|Schocken : Distri...|\n|Schocken : Nextbook,|\n|      Schocken Books|\n|Schocken Books : ...|\n|Schocken Books : ...|\n|Schocken Books ; ...|\n|Schocken Books ; ...|\n|     Schocken Books,|\n|Schocken Books, O...|\n|Schocken Publishi...|\n|           Schocken,|\n|Schoenberg, Arnol...|\n|Schoharie County ...|\n|            Schoken,|\n|      Scholar Press,|\n|Scholar's Facsimi...|\n|     Scholarly Press|\n|    Scholarly Press,|\n|Scholarly Resourc...|\n|Scholarly Resources,|\n+--------------------+\nonly showing top 20 rows\n\n"
     ]
    }
   ],
   "source": [
    "(\n",
    "    spl_df\n",
    "    .select(spl_df.Publisher)\n",
    "    .distinct()\n",
    "    .filter(F.lower(spl_df.Publisher).startswith(\"scho\"))\n",
    "    .sort(spl_df.Publisher.asc()).show()\n",
    ")"
   ]
  },
  {
   "source": [
    "## Subjects\n",
    "\n",
    "- Has NULLs"
   ],
   "cell_type": "markdown",
   "metadata": {}
  },
  {
   "cell_type": "code",
   "execution_count": 12,
   "metadata": {},
   "outputs": [
    {
     "output_type": "stream",
     "name": "stdout",
     "text": [
      "+---------------+------------------------+\n",
      "|count(Subjects)|count(DISTINCT Subjects)|\n",
      "+---------------+------------------------+\n",
      "|        2621314|                  439996|\n",
      "+---------------+------------------------+\n",
      "\n",
      "+-------------+----------------------+\n",
      "|count(BibNum)|count(DISTINCT BibNum)|\n",
      "+-------------+----------------------+\n",
      "|        65835|                 29323|\n",
      "+-------------+----------------------+\n",
      "\n",
      "+---------------+------------------------+\n",
      "|count(Subjects)|count(DISTINCT Subjects)|\n",
      "+---------------+------------------------+\n",
      "|              0|                       0|\n",
      "+---------------+------------------------+\n",
      "\n",
      "+--------+----------------+\n",
      "|Subjects|length(Subjects)|\n",
      "+--------+----------------+\n",
      "|    null|            null|\n",
      "|    null|            null|\n",
      "|    null|            null|\n",
      "|    null|            null|\n",
      "|    null|            null|\n",
      "+--------+----------------+\n",
      "only showing top 5 rows\n",
      "\n",
      "+--------------------+----------------+\n",
      "|            Subjects|length(Subjects)|\n",
      "+--------------------+----------------+\n",
      "|National parks an...|            1574|\n",
      "|National parks an...|            1574|\n",
      "|National parks an...|            1574|\n",
      "|National parks an...|            1574|\n",
      "|National parks an...|            1574|\n",
      "+--------------------+----------------+\n",
      "only showing top 5 rows\n",
      "\n"
     ]
    }
   ],
   "source": [
    "get_basic_counts(spl_df, spl_df.Subjects)\n",
    "check_nulls(spl_df, spl_df.Subjects, spl_df.BibNum)\n",
    "check_empty_strings(spl_df, spl_df.Subjects)\n",
    "check_lengths(spl_df, spl_df.Subjects)"
   ]
  },
  {
   "source": [
    "## Item Type\n",
    "\n",
    "- Has NULLs"
   ],
   "cell_type": "markdown",
   "metadata": {}
  },
  {
   "cell_type": "code",
   "execution_count": 13,
   "metadata": {},
   "outputs": [
    {
     "output_type": "stream",
     "name": "stdout",
     "text": [
      "+---------------+------------------------+\n",
      "|count(ItemType)|count(DISTINCT ItemType)|\n",
      "+---------------+------------------------+\n",
      "|        2686132|                    1876|\n",
      "+---------------+------------------------+\n",
      "\n",
      "+-------------+----------------------+\n",
      "|count(BibNum)|count(DISTINCT BibNum)|\n",
      "+-------------+----------------------+\n",
      "|         1017|                   447|\n",
      "+-------------+----------------------+\n",
      "\n",
      "+---------------+------------------------+\n",
      "|count(ItemType)|count(DISTINCT ItemType)|\n",
      "+---------------+------------------------+\n",
      "|              0|                       0|\n",
      "+---------------+------------------------+\n",
      "\n",
      "+--------+----------------+\n",
      "|ItemType|length(ItemType)|\n",
      "+--------+----------------+\n",
      "|    null|            null|\n",
      "|    null|            null|\n",
      "|    null|            null|\n",
      "|    null|            null|\n",
      "|    null|            null|\n",
      "+--------+----------------+\n",
      "only showing top 5 rows\n",
      "\n",
      "+--------------------+----------------+\n",
      "|            ItemType|length(ItemType)|\n",
      "+--------------------+----------------+\n",
      "|Sound recording i...|             520|\n",
      "|Sound recording i...|             520|\n",
      "|Sound recording i...|             520|\n",
      "|Sound recording i...|             520|\n",
      "|Sound recording i...|             520|\n",
      "+--------------------+----------------+\n",
      "only showing top 5 rows\n",
      "\n"
     ]
    }
   ],
   "source": [
    "get_basic_counts(spl_df, spl_df.ItemType)\n",
    "check_nulls(spl_df, spl_df.ItemType, spl_df.BibNum)\n",
    "check_empty_strings(spl_df, spl_df.ItemType)\n",
    "check_lengths(spl_df, spl_df.ItemType)"
   ]
  },
  {
   "source": [
    "## Item Collection\n",
    "\n",
    "- Has NULLs"
   ],
   "cell_type": "markdown",
   "metadata": {}
  },
  {
   "cell_type": "code",
   "execution_count": 14,
   "metadata": {},
   "outputs": [
    {
     "output_type": "stream",
     "name": "stdout",
     "text": [
      "+---------------------+------------------------------+\n",
      "|count(ItemCollection)|count(DISTINCT ItemCollection)|\n",
      "+---------------------+------------------------------+\n",
      "|              2686323|                          1150|\n",
      "+---------------------+------------------------------+\n",
      "\n",
      "+-------------+----------------------+\n",
      "|count(BibNum)|count(DISTINCT BibNum)|\n",
      "+-------------+----------------------+\n",
      "|          826|                   386|\n",
      "+-------------+----------------------+\n",
      "\n",
      "+---------------------+------------------------------+\n",
      "|count(ItemCollection)|count(DISTINCT ItemCollection)|\n",
      "+---------------------+------------------------------+\n",
      "|                    0|                             0|\n",
      "+---------------------+------------------------------+\n",
      "\n",
      "+--------------+----------------------+\n",
      "|ItemCollection|length(ItemCollection)|\n",
      "+--------------+----------------------+\n",
      "|          null|                  null|\n",
      "|          null|                  null|\n",
      "|          null|                  null|\n",
      "|          null|                  null|\n",
      "|          null|                  null|\n",
      "+--------------+----------------------+\n",
      "only showing top 5 rows\n",
      "\n",
      "+--------------------+----------------------+\n",
      "|      ItemCollection|length(ItemCollection)|\n",
      "+--------------------+----------------------+\n",
      "|Lincoln Abraham 1...|                   517|\n",
      "|Lincoln Abraham 1...|                   517|\n",
      "|Lincoln Abraham 1...|                   517|\n",
      "|Lincoln Abraham 1...|                   517|\n",
      "|Tubman Harriet 18...|                   437|\n",
      "+--------------------+----------------------+\n",
      "only showing top 5 rows\n",
      "\n"
     ]
    }
   ],
   "source": [
    "get_basic_counts(spl_df, spl_df.ItemCollection)\n",
    "check_nulls(spl_df, spl_df.ItemCollection, spl_df.BibNum)\n",
    "check_empty_strings(spl_df, spl_df.ItemCollection)\n",
    "check_lengths(spl_df, spl_df.ItemCollection)"
   ]
  },
  {
   "source": [
    "## Floating Item\n",
    "\n",
    "- Has NULLs\n",
    "- What is a floating item?"
   ],
   "cell_type": "markdown",
   "metadata": {}
  },
  {
   "cell_type": "code",
   "execution_count": 15,
   "metadata": {},
   "outputs": [
    {
     "output_type": "stream",
     "name": "stdout",
     "text": [
      "+-------------------+----------------------------+\n",
      "|count(FloatingItem)|count(DISTINCT FloatingItem)|\n",
      "+-------------------+----------------------------+\n",
      "|            2686366|                         605|\n",
      "+-------------------+----------------------------+\n",
      "\n",
      "+-------------+----------------------+\n",
      "|count(BibNum)|count(DISTINCT BibNum)|\n",
      "+-------------+----------------------+\n",
      "|          783|                   374|\n",
      "+-------------+----------------------+\n",
      "\n",
      "+-------------------+----------------------------+\n",
      "|count(FloatingItem)|count(DISTINCT FloatingItem)|\n",
      "+-------------------+----------------------------+\n",
      "|                  0|                           0|\n",
      "+-------------------+----------------------------+\n",
      "\n",
      "+------------+--------------------+\n",
      "|FloatingItem|length(FloatingItem)|\n",
      "+------------+--------------------+\n",
      "|        null|                null|\n",
      "|        null|                null|\n",
      "|        null|                null|\n",
      "|        null|                null|\n",
      "|        null|                null|\n",
      "+------------+--------------------+\n",
      "only showing top 5 rows\n",
      "\n",
      "+--------------------+--------------------+\n",
      "|        FloatingItem|length(FloatingItem)|\n",
      "+--------------------+--------------------+\n",
      "|Power Rangers Fic...|                 391|\n",
      "|Power Rangers Fic...|                 391|\n",
      "|Power Rangers Fic...|                 391|\n",
      "|Power Rangers Fic...|                 391|\n",
      "|Power Rangers Fic...|                 391|\n",
      "+--------------------+--------------------+\n",
      "only showing top 5 rows\n",
      "\n"
     ]
    }
   ],
   "source": [
    "get_basic_counts(spl_df, spl_df.FloatingItem)\n",
    "check_nulls(spl_df, spl_df.FloatingItem, spl_df.BibNum)\n",
    "check_empty_strings(spl_df, spl_df.FloatingItem)\n",
    "check_lengths(spl_df, spl_df.FloatingItem)"
   ]
  },
  {
   "source": [
    "## Report Date\n",
    "\n",
    "- Has NULLs\n",
    "- Only two reporting dates. I'm assuming this is when the report was generated. Though why would there be two dates?\n",
    "  - Check distribution of dates\n"
   ],
   "cell_type": "markdown",
   "metadata": {}
  },
  {
   "cell_type": "code",
   "execution_count": 16,
   "metadata": {},
   "outputs": [
    {
     "output_type": "stream",
     "name": "stdout",
     "text": [
      "+-------------------+----------------------------+\n",
      "|count(ReportDateTS)|count(DISTINCT ReportDateTS)|\n",
      "+-------------------+----------------------------+\n",
      "|            2679824|                           2|\n",
      "+-------------------+----------------------------+\n",
      "\n",
      "+-------------+----------------------+\n",
      "|count(BibNum)|count(DISTINCT BibNum)|\n",
      "+-------------+----------------------+\n",
      "|         7325|                  2487|\n",
      "+-------------+----------------------+\n",
      "\n",
      "+-------------------+--------------------+-------------------+-------------------+\n",
      "|count(ReportDateTS)|   avg(ReportDateTS)|  min(ReportDateTS)|  max(ReportDateTS)|\n",
      "+-------------------+--------------------+-------------------+-------------------+\n",
      "|            2679824|1.5055450984410915E9|2017-09-01 00:00:00|2017-10-01 00:00:00|\n",
      "+-------------------+--------------------+-------------------+-------------------+\n",
      "\n"
     ]
    }
   ],
   "source": [
    "get_basic_counts(spl_df, spl_df.ReportDateTS)\n",
    "check_nulls(spl_df, spl_df.ReportDateTS, spl_df.BibNum)\n",
    "basic_stats(spl_df, spl_df.ReportDateTS)"
   ]
  },
  {
   "source": [
    "## ItemCount\n",
    "\n",
    "- Has NULLs\n",
    "- Should convert this to integer"
   ],
   "cell_type": "markdown",
   "metadata": {}
  },
  {
   "cell_type": "code",
   "execution_count": 17,
   "metadata": {},
   "outputs": [
    {
     "output_type": "stream",
     "name": "stdout",
     "text": [
      "+----------------+-------------------------+\n",
      "|count(ItemCount)|count(DISTINCT ItemCount)|\n",
      "+----------------+-------------------------+\n",
      "|         2686403|                      356|\n",
      "+----------------+-------------------------+\n",
      "\n",
      "+-------------+----------------------+\n",
      "|count(BibNum)|count(DISTINCT BibNum)|\n",
      "+-------------+----------------------+\n",
      "|          746|                   355|\n",
      "+-------------+----------------------+\n",
      "\n"
     ]
    }
   ],
   "source": [
    "get_basic_counts(spl_df, spl_df.ItemCount)\n",
    "check_nulls(spl_df, spl_df.ItemCount, spl_df.BibNum)"
   ]
  }
 ]
}