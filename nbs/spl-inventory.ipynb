{
 "metadata": {
  "language_info": {
   "codemirror_mode": {
    "name": "ipython",
    "version": 3
   },
   "file_extension": ".py",
   "mimetype": "text/x-python",
   "name": "python",
   "nbconvert_exporter": "python",
   "pygments_lexer": "ipython3",
   "version": "3.7.4-final"
  },
  "orig_nbformat": 2,
  "kernelspec": {
   "name": "python3",
   "display_name": "Python 3",
   "language": "python"
  }
 },
 "nbformat": 4,
 "nbformat_minor": 2,
 "cells": [
  {
   "source": [
    "# Seattle Public Library (SPL) data analysis (inventory)\n",
    "\n",
    "This notebook performs some exploratory analysis on the [Seattle Public Library Checkout Records dataset](https://www.kaggle.com/seattle-public-library/seattle-library-checkout-records) found on Kaggle.\n",
    "\n",
    "This notebook will be exploring the inventory file that contains a list of books at the SPL."
   ],
   "cell_type": "markdown",
   "metadata": {}
  },
  {
   "source": [
    "## Set up and load data"
   ],
   "cell_type": "markdown",
   "metadata": {}
  },
  {
   "cell_type": "code",
   "execution_count": 1,
   "metadata": {},
   "outputs": [],
   "source": [
    "import os\n",
    "\n",
    "import findspark\n",
    "findspark.init()\n",
    "\n",
    "from dotenv import load_dotenv\n",
    "import matplotlib.pyplot as plt\n",
    "from pyspark.sql import SparkSession\n",
    "import pyspark.sql.functions as F\n",
    "from pyspark.sql.types import IntegerType, FloatType, StringType, StructField, StructType\n",
    "from pyspark_dist_explore import hist\n",
    "\n",
    "import helpers as H\n",
    " \n",
    "%matplotlib inline\n",
    "\n",
    "spark = SparkSession.builder.appName(\"ExploreSplInventory\").getOrCreate()"
   ]
  },
  {
   "cell_type": "code",
   "execution_count": 2,
   "metadata": {},
   "outputs": [],
   "source": [
    "load_dotenv()\n",
    "\n",
    "SPL_INVENTORY_PATH = os.getenv(\"SPL_INVENTORY_PATH\")"
   ]
  },
  {
   "cell_type": "code",
   "execution_count": 3,
   "metadata": {},
   "outputs": [],
   "source": [
    "spl_df = spark.read.option(\"header\", \"true\").csv(SPL_INVENTORY_PATH)\n",
    "\n",
    "# Add a column that stores report date as a datetime object\n",
    "spl_df = spl_df.withColumn(\n",
    "    \"ReportDateTS\", \n",
    "    F.to_timestamp(spl_df.ReportDate, \"MM/dd/yyyy\"),\n",
    ")"
   ]
  },
  {
   "source": [
    "## Inspect table"
   ],
   "cell_type": "markdown",
   "metadata": {}
  },
  {
   "cell_type": "code",
   "execution_count": 4,
   "metadata": {},
   "outputs": [
    {
     "output_type": "execute_result",
     "data": {
      "text/plain": [
       "    BibNum                                              Title  \\\n",
       "0  3011076  A tale of two friends / adapted by Ellie O'Rya...   \n",
       "1  2248846  Naruto. Vol. 1, Uzumaki Naruto / story and art...   \n",
       "2  3209270  Peace, love & Wi-Fi : a ZITS treasury / by Jer...   \n",
       "3  1907265     The Paris pilgrims : a novel / Clancy Carlile.   \n",
       "4  1644616  Erotic by nature : a celebration of life, of l...   \n",
       "\n",
       "                      Author  \\\n",
       "0              O'Ryan, Ellie   \n",
       "1  Kishimoto, Masashi, 1974-   \n",
       "2        Scott, Jerry, 1955-   \n",
       "3     Carlile, Clancy, 1930-   \n",
       "4                       None   \n",
       "\n",
       "                                                ISBN PublicationYear  \\\n",
       "0  1481425730, 1481425749, 9781481425735, 9781481...           2014.   \n",
       "1                                         1569319006    2003, c1999.   \n",
       "2                          144945867X, 9781449458676           2014.   \n",
       "3                                         0786706155          c1999.   \n",
       "4                                         094020813X    1991, c1988.   \n",
       "\n",
       "                           Publisher  \\\n",
       "0                   Simon Spotlight,   \n",
       "1                               Viz,   \n",
       "2         Andrews McMeel Publishing,   \n",
       "3                    Carroll & Graf,   \n",
       "4  Red Alder Books/Down There Press,   \n",
       "\n",
       "                                            Subjects ItemType ItemCollection  \\\n",
       "0  Musicians Fiction, Bullfighters Fiction, Best ...     jcbk          ncrdr   \n",
       "1  Ninja Japan Comic books strips etc, Comic book...     acbk        nycomic   \n",
       "2  Duncan Jeremy Fictitious character Comic books...     acbk        nycomic   \n",
       "3  Hemingway Ernest 1899 1961 Fiction, Biographic...     acbk          cafic   \n",
       "4  Erotic literature American, American literatur...     acbk           canf   \n",
       "\n",
       "  FloatingItem ItemLocation  ReportDate ItemCount ReportDateTS  \n",
       "0     Floating          qna  09/01/2017         1   2017-09-01  \n",
       "1           NA          lcy  09/01/2017         1   2017-09-01  \n",
       "2           NA          bea  09/01/2017         1   2017-09-01  \n",
       "3           NA          cen  09/01/2017         1   2017-09-01  \n",
       "4           NA          cen  09/01/2017         1   2017-09-01  "
      ],
      "text/html": "<div>\n<style scoped>\n    .dataframe tbody tr th:only-of-type {\n        vertical-align: middle;\n    }\n\n    .dataframe tbody tr th {\n        vertical-align: top;\n    }\n\n    .dataframe thead th {\n        text-align: right;\n    }\n</style>\n<table border=\"1\" class=\"dataframe\">\n  <thead>\n    <tr style=\"text-align: right;\">\n      <th></th>\n      <th>BibNum</th>\n      <th>Title</th>\n      <th>Author</th>\n      <th>ISBN</th>\n      <th>PublicationYear</th>\n      <th>Publisher</th>\n      <th>Subjects</th>\n      <th>ItemType</th>\n      <th>ItemCollection</th>\n      <th>FloatingItem</th>\n      <th>ItemLocation</th>\n      <th>ReportDate</th>\n      <th>ItemCount</th>\n      <th>ReportDateTS</th>\n    </tr>\n  </thead>\n  <tbody>\n    <tr>\n      <td>0</td>\n      <td>3011076</td>\n      <td>A tale of two friends / adapted by Ellie O'Rya...</td>\n      <td>O'Ryan, Ellie</td>\n      <td>1481425730, 1481425749, 9781481425735, 9781481...</td>\n      <td>2014.</td>\n      <td>Simon Spotlight,</td>\n      <td>Musicians Fiction, Bullfighters Fiction, Best ...</td>\n      <td>jcbk</td>\n      <td>ncrdr</td>\n      <td>Floating</td>\n      <td>qna</td>\n      <td>09/01/2017</td>\n      <td>1</td>\n      <td>2017-09-01</td>\n    </tr>\n    <tr>\n      <td>1</td>\n      <td>2248846</td>\n      <td>Naruto. Vol. 1, Uzumaki Naruto / story and art...</td>\n      <td>Kishimoto, Masashi, 1974-</td>\n      <td>1569319006</td>\n      <td>2003, c1999.</td>\n      <td>Viz,</td>\n      <td>Ninja Japan Comic books strips etc, Comic book...</td>\n      <td>acbk</td>\n      <td>nycomic</td>\n      <td>NA</td>\n      <td>lcy</td>\n      <td>09/01/2017</td>\n      <td>1</td>\n      <td>2017-09-01</td>\n    </tr>\n    <tr>\n      <td>2</td>\n      <td>3209270</td>\n      <td>Peace, love &amp; Wi-Fi : a ZITS treasury / by Jer...</td>\n      <td>Scott, Jerry, 1955-</td>\n      <td>144945867X, 9781449458676</td>\n      <td>2014.</td>\n      <td>Andrews McMeel Publishing,</td>\n      <td>Duncan Jeremy Fictitious character Comic books...</td>\n      <td>acbk</td>\n      <td>nycomic</td>\n      <td>NA</td>\n      <td>bea</td>\n      <td>09/01/2017</td>\n      <td>1</td>\n      <td>2017-09-01</td>\n    </tr>\n    <tr>\n      <td>3</td>\n      <td>1907265</td>\n      <td>The Paris pilgrims : a novel / Clancy Carlile.</td>\n      <td>Carlile, Clancy, 1930-</td>\n      <td>0786706155</td>\n      <td>c1999.</td>\n      <td>Carroll &amp; Graf,</td>\n      <td>Hemingway Ernest 1899 1961 Fiction, Biographic...</td>\n      <td>acbk</td>\n      <td>cafic</td>\n      <td>NA</td>\n      <td>cen</td>\n      <td>09/01/2017</td>\n      <td>1</td>\n      <td>2017-09-01</td>\n    </tr>\n    <tr>\n      <td>4</td>\n      <td>1644616</td>\n      <td>Erotic by nature : a celebration of life, of l...</td>\n      <td>None</td>\n      <td>094020813X</td>\n      <td>1991, c1988.</td>\n      <td>Red Alder Books/Down There Press,</td>\n      <td>Erotic literature American, American literatur...</td>\n      <td>acbk</td>\n      <td>canf</td>\n      <td>NA</td>\n      <td>cen</td>\n      <td>09/01/2017</td>\n      <td>1</td>\n      <td>2017-09-01</td>\n    </tr>\n  </tbody>\n</table>\n</div>"
     },
     "metadata": {},
     "execution_count": 4
    }
   ],
   "source": [
    "spl_df.limit(5).toPandas().head()"
   ]
  },
  {
   "source": [
    "## BibNum\n",
    "\n",
    "- What is the reason for so few distinct BibNums?\n",
    "- Is BibNum sequentially?"
   ],
   "cell_type": "markdown",
   "metadata": {}
  },
  {
   "cell_type": "code",
   "execution_count": 5,
   "metadata": {},
   "outputs": [
    {
     "output_type": "stream",
     "name": "stdout",
     "text": [
      "+-------------+----------------------+\n",
      "|count(BibNum)|count(DISTINCT BibNum)|\n",
      "+-------------+----------------------+\n",
      "|      2687149|                584391|\n",
      "+-------------+----------------------+\n",
      "\n",
      "+-----------------+\n",
      "|Has Null (BibNum)|\n",
      "+-----------------+\n",
      "|                0|\n",
      "+-----------------+\n",
      "\n",
      "+------------------+\n",
      "|Has Empty (BibNum)|\n",
      "+------------------+\n",
      "|                 0|\n",
      "+------------------+\n",
      "\n",
      "+------+--------------+\n",
      "|BibNum|length(BibNum)|\n",
      "+------+--------------+\n",
      "|     4|             1|\n",
      "|     7|             1|\n",
      "|     4|             1|\n",
      "|     7|             1|\n",
      "|    84|             2|\n",
      "|    73|             2|\n",
      "|    91|             2|\n",
      "|    91|             2|\n",
      "|    47|             2|\n",
      "|    63|             2|\n",
      "+------+--------------+\n",
      "only showing top 10 rows\n",
      "\n",
      "+-------+--------------+\n",
      "| BibNum|length(BibNum)|\n",
      "+-------+--------------+\n",
      "|2683667|             7|\n",
      "|2843472|             7|\n",
      "|3225705|             7|\n",
      "|2512885|             7|\n",
      "|2947442|             7|\n",
      "|2606479|             7|\n",
      "|2556677|             7|\n",
      "|3204782|             7|\n",
      "|3193699|             7|\n",
      "|3053201|             7|\n",
      "+-------+--------------+\n",
      "only showing top 10 rows\n",
      "\n"
     ]
    }
   ],
   "source": [
    "H.get_basic_counts(spl_df, spl_df.BibNum)\n",
    "H.check_nulls(spl_df, spl_df.BibNum, spl_df.Title)\n",
    "H.check_empty_strings(spl_df, spl_df.BibNum)\n",
    "H.check_lengths(spl_df, spl_df.BibNum)"
   ]
  },
  {
   "source": [
    "## Title\n",
    "\n",
    "- Interestingly a lot of duplicate titles. Also appears to be close to the number of distinct BibNums.\n",
    "- Some titles have nulls"
   ],
   "cell_type": "markdown",
   "metadata": {}
  },
  {
   "cell_type": "code",
   "execution_count": 6,
   "metadata": {},
   "outputs": [
    {
     "output_type": "stream",
     "name": "stdout",
     "text": [
      "+------------+---------------------+\n",
      "|count(Title)|count(DISTINCT Title)|\n",
      "+------------+---------------------+\n",
      "|     2672825|               567617|\n",
      "+------------+---------------------+\n",
      "\n",
      "+----------------+\n",
      "|Has Null (Title)|\n",
      "+----------------+\n",
      "|           14324|\n",
      "+----------------+\n",
      "\n",
      "+-----------------+\n",
      "|Has Empty (Title)|\n",
      "+-----------------+\n",
      "|                0|\n",
      "+-----------------+\n",
      "\n",
      "+-----+-------------+\n",
      "|Title|length(Title)|\n",
      "+-----+-------------+\n",
      "| null|         null|\n",
      "| null|         null|\n",
      "| null|         null|\n",
      "| null|         null|\n",
      "| null|         null|\n",
      "| null|         null|\n",
      "| null|         null|\n",
      "| null|         null|\n",
      "| null|         null|\n",
      "| null|         null|\n",
      "+-----+-------------+\n",
      "only showing top 10 rows\n",
      "\n",
      "+--------------------+-------------+\n",
      "|               Title|length(Title)|\n",
      "+--------------------+-------------+\n",
      "|Nation's forests ...|         1228|\n",
      "|Nation's forests ...|         1228|\n",
      "|Nominations of Jo...|         1165|\n",
      "|Nominations of Jo...|         1165|\n",
      "|El apóstata [vide...|         1154|\n",
      "|El apóstata [vide...|         1154|\n",
      "|El apóstata [vide...|         1154|\n",
      "|El apóstata [vide...|         1154|\n",
      "|El apóstata [vide...|         1154|\n",
      "|El apóstata [vide...|         1154|\n",
      "+--------------------+-------------+\n",
      "only showing top 10 rows\n",
      "\n"
     ]
    }
   ],
   "source": [
    "H.get_basic_counts(spl_df, spl_df.Title)\n",
    "H.check_nulls(spl_df, spl_df.Title, spl_df.BibNum)\n",
    "H.check_empty_strings(spl_df, spl_df.Title)\n",
    "H.check_lengths(spl_df, spl_df.Title)"
   ]
  },
  {
   "source": [
    "## Author\n",
    "\n",
    "- Some null authors \n",
    "- Mostly distinct authors (messy field, may need to clean up)"
   ],
   "cell_type": "markdown",
   "metadata": {}
  },
  {
   "cell_type": "code",
   "execution_count": 7,
   "metadata": {},
   "outputs": [
    {
     "output_type": "stream",
     "name": "stdout",
     "text": [
      "+-------------+----------------------+\n",
      "|count(Author)|count(DISTINCT Author)|\n",
      "+-------------+----------------------+\n",
      "|      2260911|                218757|\n",
      "+-------------+----------------------+\n",
      "\n",
      "+-----------------+\n",
      "|Has Null (Author)|\n",
      "+-----------------+\n",
      "|           426238|\n",
      "+-----------------+\n",
      "\n",
      "+------------------+\n",
      "|Has Empty (Author)|\n",
      "+------------------+\n",
      "|                 0|\n",
      "+------------------+\n",
      "\n",
      "+------+--------------+\n",
      "|Author|length(Author)|\n",
      "+------+--------------+\n",
      "|  null|          null|\n",
      "|  null|          null|\n",
      "|  null|          null|\n",
      "|  null|          null|\n",
      "|  null|          null|\n",
      "|  null|          null|\n",
      "|  null|          null|\n",
      "|  null|          null|\n",
      "|  null|          null|\n",
      "|  null|          null|\n",
      "+------+--------------+\n",
      "only showing top 10 rows\n",
      "\n",
      "+--------------------+--------------+\n",
      "|              Author|length(Author)|\n",
      "+--------------------+--------------+\n",
      "| famous scout and...|           217|\n",
      "| famous scout and...|           217|\n",
      "| 1792-1811 : a br...|           205|\n",
      "| 1792-1811 : a br...|           205|\n",
      "|United States. Co...|           199|\n",
      "|United States. Co...|           199|\n",
      "|United States. Co...|           199|\n",
      "|United States. Co...|           199|\n",
      "|United States. Co...|           193|\n",
      "|United States. Co...|           193|\n",
      "+--------------------+--------------+\n",
      "only showing top 10 rows\n",
      "\n"
     ]
    }
   ],
   "source": [
    "H.get_basic_counts(spl_df, spl_df.Author)\n",
    "H.check_nulls(spl_df, spl_df.Author, spl_df.BibNum)\n",
    "H.check_empty_strings(spl_df, spl_df.Author)\n",
    "H.check_lengths(spl_df, spl_df.Author)"
   ]
  },
  {
   "source": [
    "# ISBN\n",
    "\n",
    "- Some ISBNs are NULL which will make it harder to link up a book\n",
    "- Some very long ISBN lists"
   ],
   "cell_type": "markdown",
   "metadata": {}
  },
  {
   "cell_type": "code",
   "execution_count": 8,
   "metadata": {},
   "outputs": [
    {
     "output_type": "stream",
     "name": "stdout",
     "text": [
      "+-----------+--------------------+\n",
      "|count(ISBN)|count(DISTINCT ISBN)|\n",
      "+-----------+--------------------+\n",
      "|    2099924|              397501|\n",
      "+-----------+--------------------+\n",
      "\n",
      "+---------------+\n",
      "|Has Null (ISBN)|\n",
      "+---------------+\n",
      "|         587225|\n",
      "+---------------+\n",
      "\n",
      "+----------------+\n",
      "|Has Empty (ISBN)|\n",
      "+----------------+\n",
      "|               0|\n",
      "+----------------+\n",
      "\n",
      "+----+------------+\n",
      "|ISBN|length(ISBN)|\n",
      "+----+------------+\n",
      "|null|        null|\n",
      "|null|        null|\n",
      "|null|        null|\n",
      "|null|        null|\n",
      "|null|        null|\n",
      "|null|        null|\n",
      "|null|        null|\n",
      "|null|        null|\n",
      "|null|        null|\n",
      "|null|        null|\n",
      "+----+------------+\n",
      "only showing top 10 rows\n",
      "\n",
      "+--------------------+------------+\n",
      "|                ISBN|length(ISBN)|\n",
      "+--------------------+------------+\n",
      "|0788403923, 07884...|        1186|\n",
      "|0788403923, 07884...|        1186|\n",
      "|0691015856, 06910...|        1159|\n",
      "|0691015856, 06910...|        1159|\n",
      "|0806352604, 08063...|         997|\n",
      "|0806352604, 08063...|         997|\n",
      "|0809302489, 08093...|         835|\n",
      "|0809302489, 08093...|         835|\n",
      "|5170634390, 51706...|         646|\n",
      "|5170634390, 51706...|         646|\n",
      "+--------------------+------------+\n",
      "only showing top 10 rows\n",
      "\n"
     ]
    }
   ],
   "source": [
    "H.get_basic_counts(spl_df, spl_df.ISBN)\n",
    "H.check_nulls(spl_df, spl_df.ISBN, spl_df.BibNum)\n",
    "H.check_empty_strings(spl_df, spl_df.ISBN)\n",
    "H.check_lengths(spl_df, spl_df.ISBN)"
   ]
  },
  {
   "source": [
    "## Publication Year\n",
    "\n",
    "- Has NULLs\n",
    "- Not very clean"
   ],
   "cell_type": "markdown",
   "metadata": {}
  },
  {
   "cell_type": "code",
   "execution_count": 9,
   "metadata": {},
   "outputs": [
    {
     "output_type": "stream",
     "name": "stdout",
     "text": [
      "+----------------------+-------------------------------+\n",
      "|count(PublicationYear)|count(DISTINCT PublicationYear)|\n",
      "+----------------------+-------------------------------+\n",
      "|               2654773|                          16225|\n",
      "+----------------------+-------------------------------+\n",
      "\n",
      "+--------------------------+\n",
      "|Has Null (PublicationYear)|\n",
      "+--------------------------+\n",
      "|                     32376|\n",
      "+--------------------------+\n",
      "\n",
      "+---------------------------+\n",
      "|Has Empty (PublicationYear)|\n",
      "+---------------------------+\n",
      "|                          0|\n",
      "+---------------------------+\n",
      "\n",
      "+---------------+-----------------------+\n",
      "|PublicationYear|length(PublicationYear)|\n",
      "+---------------+-----------------------+\n",
      "|           null|                   null|\n",
      "|           null|                   null|\n",
      "|           null|                   null|\n",
      "|           null|                   null|\n",
      "|           null|                   null|\n",
      "|           null|                   null|\n",
      "|           null|                   null|\n",
      "|           null|                   null|\n",
      "|           null|                   null|\n",
      "|           null|                   null|\n",
      "+---------------+-----------------------+\n",
      "only showing top 10 rows\n",
      "\n",
      "+--------------------+-----------------------+\n",
      "|     PublicationYear|length(PublicationYear)|\n",
      "+--------------------+-----------------------+\n",
      "| Tom Reed ; direc...|                    244|\n",
      "| Tom Reed ; direc...|                    244|\n",
      "| Tom Reed ; direc...|                    244|\n",
      "| Tom Reed ; direc...|                    244|\n",
      "| directing the Co...|                    195|\n",
      "| directing the Co...|                    195|\n",
      "| first session .....|                    178|\n",
      "| first session .....|                    178|\n",
      "|United States. Co...|                    175|\n",
      "|United States. Co...|                    175|\n",
      "+--------------------+-----------------------+\n",
      "only showing top 10 rows\n",
      "\n"
     ]
    }
   ],
   "source": [
    "H.get_basic_counts(spl_df, spl_df.PublicationYear)\n",
    "H.check_nulls(spl_df, spl_df.PublicationYear, spl_df.BibNum)\n",
    "H.check_empty_strings(spl_df, spl_df.PublicationYear)\n",
    "H.check_lengths(spl_df, spl_df.PublicationYear)"
   ]
  },
  {
   "source": [
    "## Publisher\n",
    "\n",
    "- Has NULLs"
   ],
   "cell_type": "markdown",
   "metadata": {}
  },
  {
   "cell_type": "code",
   "execution_count": 10,
   "metadata": {},
   "outputs": [
    {
     "output_type": "stream",
     "name": "stdout",
     "text": [
      "+----------------+-------------------------+\n",
      "|count(Publisher)|count(DISTINCT Publisher)|\n",
      "+----------------+-------------------------+\n",
      "|         2649210|                    96894|\n",
      "+----------------+-------------------------+\n",
      "\n",
      "+--------------------+\n",
      "|Has Null (Publisher)|\n",
      "+--------------------+\n",
      "|               37939|\n",
      "+--------------------+\n",
      "\n",
      "+---------------------+\n",
      "|Has Empty (Publisher)|\n",
      "+---------------------+\n",
      "|                    0|\n",
      "+---------------------+\n",
      "\n",
      "+---------+-----------------+\n",
      "|Publisher|length(Publisher)|\n",
      "+---------+-----------------+\n",
      "|     null|             null|\n",
      "|     null|             null|\n",
      "|     null|             null|\n",
      "|     null|             null|\n",
      "|     null|             null|\n",
      "|     null|             null|\n",
      "|     null|             null|\n",
      "|     null|             null|\n",
      "|     null|             null|\n",
      "|     null|             null|\n",
      "+---------+-----------------+\n",
      "only showing top 10 rows\n",
      "\n",
      "+--------------------+-----------------+\n",
      "|           Publisher|length(Publisher)|\n",
      "+--------------------+-----------------+\n",
      "|Published for the...|              389|\n",
      "|Published for the...|              389|\n",
      "|Published for the...|              360|\n",
      "|Published for the...|              360|\n",
      "|Published for the...|              336|\n",
      "|Published for the...|              336|\n",
      "|Published by the ...|              323|\n",
      "|Published by the ...|              323|\n",
      "|U.S. Dept. of Com...|              321|\n",
      "|U.S. Dept. of Com...|              321|\n",
      "+--------------------+-----------------+\n",
      "only showing top 10 rows\n",
      "\n"
     ]
    }
   ],
   "source": [
    "H.get_basic_counts(spl_df, spl_df.Publisher)\n",
    "H.check_nulls(spl_df, spl_df.Publisher, spl_df.BibNum)\n",
    "H.check_empty_strings(spl_df, spl_df.Publisher)\n",
    "H.check_lengths(spl_df, spl_df.Publisher)"
   ]
  },
  {
   "source": [
    "### Check possibility of duplicates\n",
    "\n",
    "- There may be duplicate publishers"
   ],
   "cell_type": "markdown",
   "metadata": {}
  },
  {
   "cell_type": "code",
   "execution_count": 11,
   "metadata": {},
   "outputs": [
    {
     "output_type": "stream",
     "name": "stdout",
     "text": [
      "+--------------------+\n|           Publisher|\n+--------------------+\n|Schocken : Distri...|\n|Schocken : Nextbook,|\n|      Schocken Books|\n|Schocken Books : ...|\n|Schocken Books : ...|\n|Schocken Books ; ...|\n|Schocken Books ; ...|\n|     Schocken Books,|\n|Schocken Books, O...|\n|Schocken Publishi...|\n|           Schocken,|\n|Schoenberg, Arnol...|\n|Schoharie County ...|\n|            Schoken,|\n|      Scholar Press,|\n|Scholar's Facsimi...|\n|     Scholarly Press|\n|    Scholarly Press,|\n|Scholarly Resourc...|\n|Scholarly Resources,|\n+--------------------+\nonly showing top 20 rows\n\n"
     ]
    }
   ],
   "source": [
    "(\n",
    "    spl_df\n",
    "    .select(spl_df.Publisher)\n",
    "    .distinct()\n",
    "    .filter(F.lower(spl_df.Publisher).startswith(\"scho\"))\n",
    "    .sort(spl_df.Publisher.asc()).show()\n",
    ")"
   ]
  },
  {
   "source": [
    "## Subjects\n",
    "\n",
    "- Has NULLs"
   ],
   "cell_type": "markdown",
   "metadata": {}
  },
  {
   "cell_type": "code",
   "execution_count": 12,
   "metadata": {},
   "outputs": [
    {
     "output_type": "stream",
     "name": "stdout",
     "text": [
      "+---------------+------------------------+\n",
      "|count(Subjects)|count(DISTINCT Subjects)|\n",
      "+---------------+------------------------+\n",
      "|        2621314|                  439996|\n",
      "+---------------+------------------------+\n",
      "\n",
      "+-------------------+\n",
      "|Has Null (Subjects)|\n",
      "+-------------------+\n",
      "|              65835|\n",
      "+-------------------+\n",
      "\n",
      "+--------------------+\n",
      "|Has Empty (Subjects)|\n",
      "+--------------------+\n",
      "|                   0|\n",
      "+--------------------+\n",
      "\n",
      "+--------+----------------+\n",
      "|Subjects|length(Subjects)|\n",
      "+--------+----------------+\n",
      "|    null|            null|\n",
      "|    null|            null|\n",
      "|    null|            null|\n",
      "|    null|            null|\n",
      "|    null|            null|\n",
      "|    null|            null|\n",
      "|    null|            null|\n",
      "|    null|            null|\n",
      "|    null|            null|\n",
      "|    null|            null|\n",
      "+--------+----------------+\n",
      "only showing top 10 rows\n",
      "\n",
      "+--------------------+----------------+\n",
      "|            Subjects|length(Subjects)|\n",
      "+--------------------+----------------+\n",
      "|National parks an...|            1574|\n",
      "|National parks an...|            1574|\n",
      "|National parks an...|            1574|\n",
      "|National parks an...|            1574|\n",
      "|National parks an...|            1574|\n",
      "|National parks an...|            1574|\n",
      "|National parks an...|            1574|\n",
      "|National parks an...|            1574|\n",
      "|National parks an...|            1574|\n",
      "|National parks an...|            1574|\n",
      "+--------------------+----------------+\n",
      "only showing top 10 rows\n",
      "\n"
     ]
    }
   ],
   "source": [
    "H.get_basic_counts(spl_df, spl_df.Subjects)\n",
    "H.check_nulls(spl_df, spl_df.Subjects, spl_df.BibNum)\n",
    "H.check_empty_strings(spl_df, spl_df.Subjects)\n",
    "H.check_lengths(spl_df, spl_df.Subjects)"
   ]
  },
  {
   "source": [
    "## Item Type\n",
    "\n",
    "- Has NULLs"
   ],
   "cell_type": "markdown",
   "metadata": {}
  },
  {
   "cell_type": "code",
   "execution_count": 13,
   "metadata": {},
   "outputs": [
    {
     "output_type": "stream",
     "name": "stdout",
     "text": [
      "+---------------+------------------------+\n",
      "|count(ItemType)|count(DISTINCT ItemType)|\n",
      "+---------------+------------------------+\n",
      "|        2686132|                    1876|\n",
      "+---------------+------------------------+\n",
      "\n",
      "+-------------------+\n",
      "|Has Null (ItemType)|\n",
      "+-------------------+\n",
      "|               1017|\n",
      "+-------------------+\n",
      "\n",
      "+--------------------+\n",
      "|Has Empty (ItemType)|\n",
      "+--------------------+\n",
      "|                   0|\n",
      "+--------------------+\n",
      "\n",
      "+--------+----------------+\n",
      "|ItemType|length(ItemType)|\n",
      "+--------+----------------+\n",
      "|    null|            null|\n",
      "|    null|            null|\n",
      "|    null|            null|\n",
      "|    null|            null|\n",
      "|    null|            null|\n",
      "|    null|            null|\n",
      "|    null|            null|\n",
      "|    null|            null|\n",
      "|    null|            null|\n",
      "|    null|            null|\n",
      "+--------+----------------+\n",
      "only showing top 10 rows\n",
      "\n",
      "+--------------------+----------------+\n",
      "|            ItemType|length(ItemType)|\n",
      "+--------------------+----------------+\n",
      "|Sound recording i...|             520|\n",
      "|Sound recording i...|             520|\n",
      "|Sound recording i...|             520|\n",
      "|Sound recording i...|             520|\n",
      "|Sound recording i...|             520|\n",
      "|Sound recording i...|             520|\n",
      "|Sound recording i...|             520|\n",
      "|Sound recording i...|             520|\n",
      "|Sound recording i...|             520|\n",
      "|Sound recording i...|             520|\n",
      "+--------------------+----------------+\n",
      "only showing top 10 rows\n",
      "\n"
     ]
    }
   ],
   "source": [
    "H.get_basic_counts(spl_df, spl_df.ItemType)\n",
    "H.check_nulls(spl_df, spl_df.ItemType, spl_df.BibNum)\n",
    "H.check_empty_strings(spl_df, spl_df.ItemType)\n",
    "H.check_lengths(spl_df, spl_df.ItemType)"
   ]
  },
  {
   "source": [
    "## Item Collection\n",
    "\n",
    "- Has NULLs"
   ],
   "cell_type": "markdown",
   "metadata": {}
  },
  {
   "cell_type": "code",
   "execution_count": 14,
   "metadata": {},
   "outputs": [
    {
     "output_type": "stream",
     "name": "stdout",
     "text": [
      "+---------------------+------------------------------+\n",
      "|count(ItemCollection)|count(DISTINCT ItemCollection)|\n",
      "+---------------------+------------------------------+\n",
      "|              2686323|                          1150|\n",
      "+---------------------+------------------------------+\n",
      "\n",
      "+-------------------------+\n",
      "|Has Null (ItemCollection)|\n",
      "+-------------------------+\n",
      "|                      826|\n",
      "+-------------------------+\n",
      "\n",
      "+--------------------------+\n",
      "|Has Empty (ItemCollection)|\n",
      "+--------------------------+\n",
      "|                         0|\n",
      "+--------------------------+\n",
      "\n",
      "+--------------+----------------------+\n",
      "|ItemCollection|length(ItemCollection)|\n",
      "+--------------+----------------------+\n",
      "|          null|                  null|\n",
      "|          null|                  null|\n",
      "|          null|                  null|\n",
      "|          null|                  null|\n",
      "|          null|                  null|\n",
      "|          null|                  null|\n",
      "|          null|                  null|\n",
      "|          null|                  null|\n",
      "|          null|                  null|\n",
      "|          null|                  null|\n",
      "+--------------+----------------------+\n",
      "only showing top 10 rows\n",
      "\n",
      "+--------------------+----------------------+\n",
      "|      ItemCollection|length(ItemCollection)|\n",
      "+--------------------+----------------------+\n",
      "|Lincoln Abraham 1...|                   517|\n",
      "|Lincoln Abraham 1...|                   517|\n",
      "|Lincoln Abraham 1...|                   517|\n",
      "|Lincoln Abraham 1...|                   517|\n",
      "|Tubman Harriet 18...|                   437|\n",
      "|Tubman Harriet 18...|                   437|\n",
      "|African Americans...|                   413|\n",
      "|African Americans...|                   413|\n",
      "|Little Orphan Ann...|                   377|\n",
      "|Little Orphan Ann...|                   377|\n",
      "+--------------------+----------------------+\n",
      "only showing top 10 rows\n",
      "\n"
     ]
    }
   ],
   "source": [
    "H.get_basic_counts(spl_df, spl_df.ItemCollection)\n",
    "H.check_nulls(spl_df, spl_df.ItemCollection, spl_df.BibNum)\n",
    "H.check_empty_strings(spl_df, spl_df.ItemCollection)\n",
    "H.check_lengths(spl_df, spl_df.ItemCollection)"
   ]
  },
  {
   "source": [
    "## Floating Item\n",
    "\n",
    "- Has NULLs\n",
    "- What is a floating item?"
   ],
   "cell_type": "markdown",
   "metadata": {}
  },
  {
   "cell_type": "code",
   "execution_count": 15,
   "metadata": {},
   "outputs": [
    {
     "output_type": "stream",
     "name": "stdout",
     "text": [
      "+-------------------+----------------------------+\n",
      "|count(FloatingItem)|count(DISTINCT FloatingItem)|\n",
      "+-------------------+----------------------------+\n",
      "|            2686366|                         605|\n",
      "+-------------------+----------------------------+\n",
      "\n",
      "+-----------------------+\n",
      "|Has Null (FloatingItem)|\n",
      "+-----------------------+\n",
      "|                    783|\n",
      "+-----------------------+\n",
      "\n",
      "+------------------------+\n",
      "|Has Empty (FloatingItem)|\n",
      "+------------------------+\n",
      "|                       0|\n",
      "+------------------------+\n",
      "\n",
      "+------------+--------------------+\n",
      "|FloatingItem|length(FloatingItem)|\n",
      "+------------+--------------------+\n",
      "|        null|                null|\n",
      "|        null|                null|\n",
      "|        null|                null|\n",
      "|        null|                null|\n",
      "|        null|                null|\n",
      "|        null|                null|\n",
      "|        null|                null|\n",
      "|        null|                null|\n",
      "|        null|                null|\n",
      "|        null|                null|\n",
      "+------------+--------------------+\n",
      "only showing top 10 rows\n",
      "\n",
      "+--------------------+--------------------+\n",
      "|        FloatingItem|length(FloatingItem)|\n",
      "+--------------------+--------------------+\n",
      "|Power Rangers Fic...|                 391|\n",
      "|Power Rangers Fic...|                 391|\n",
      "|Power Rangers Fic...|                 391|\n",
      "|Power Rangers Fic...|                 391|\n",
      "|Power Rangers Fic...|                 391|\n",
      "|Power Rangers Fic...|                 391|\n",
      "|Rubin Tibor 1929 ...|                 386|\n",
      "|Rubin Tibor 1929 ...|                 386|\n",
      "|Rubin Tibor 1929 ...|                 386|\n",
      "|Rubin Tibor 1929 ...|                 386|\n",
      "+--------------------+--------------------+\n",
      "only showing top 10 rows\n",
      "\n"
     ]
    }
   ],
   "source": [
    "H.get_basic_counts(spl_df, spl_df.FloatingItem)\n",
    "H.check_nulls(spl_df, spl_df.FloatingItem, spl_df.BibNum)\n",
    "H.check_empty_strings(spl_df, spl_df.FloatingItem)\n",
    "H.check_lengths(spl_df, spl_df.FloatingItem)"
   ]
  },
  {
   "source": [
    "## Report Date\n",
    "\n",
    "- Has NULLs\n",
    "- Only two reporting dates. I'm assuming this is when the report was generated. Though why would there be two dates?\n",
    "  - Check distribution of dates\n",
    "  - The distribution of stats looks even for both timestamps\n"
   ],
   "cell_type": "markdown",
   "metadata": {}
  },
  {
   "cell_type": "code",
   "execution_count": 16,
   "metadata": {},
   "outputs": [
    {
     "output_type": "stream",
     "name": "stdout",
     "text": [
      "+-------------------+----------------------------+\n",
      "|count(ReportDateTS)|count(DISTINCT ReportDateTS)|\n",
      "+-------------------+----------------------------+\n",
      "|            2679824|                           2|\n",
      "+-------------------+----------------------------+\n",
      "\n",
      "+-----------------------+\n",
      "|Has Null (ReportDateTS)|\n",
      "+-----------------------+\n",
      "|                   7325|\n",
      "+-----------------------+\n",
      "\n",
      "+-------------------+--------------------+-------------------+-------------------+\n",
      "|count(ReportDateTS)|   avg(ReportDateTS)|  min(ReportDateTS)|  max(ReportDateTS)|\n",
      "+-------------------+--------------------+-------------------+-------------------+\n",
      "|            2679824|1.5055450984410915E9|2017-09-01 00:00:00|2017-10-01 00:00:00|\n",
      "+-------------------+--------------------+-------------------+-------------------+\n",
      "\n"
     ]
    }
   ],
   "source": [
    "H.get_basic_counts(spl_df, spl_df.ReportDateTS)\n",
    "H.check_nulls(spl_df, spl_df.ReportDateTS, spl_df.BibNum)\n",
    "H.basic_stats(spl_df, spl_df.ReportDateTS)"
   ]
  },
  {
   "source": [
    "## ItemCount\n",
    "\n",
    "- Has NULLs\n",
    "- Should convert this to integer"
   ],
   "cell_type": "markdown",
   "metadata": {}
  },
  {
   "cell_type": "code",
   "execution_count": 17,
   "metadata": {},
   "outputs": [
    {
     "output_type": "stream",
     "name": "stdout",
     "text": [
      "+----------------+-------------------------+\n",
      "|count(ItemCount)|count(DISTINCT ItemCount)|\n",
      "+----------------+-------------------------+\n",
      "|         2686403|                      356|\n",
      "+----------------+-------------------------+\n",
      "\n",
      "+--------------------+\n",
      "|Has Null (ItemCount)|\n",
      "+--------------------+\n",
      "|                 746|\n",
      "+--------------------+\n",
      "\n"
     ]
    }
   ],
   "source": [
    "H.get_basic_counts(spl_df, spl_df.ItemCount)\n",
    "H.check_nulls(spl_df, spl_df.ItemCount, spl_df.BibNum)"
   ]
  }
 ]
}